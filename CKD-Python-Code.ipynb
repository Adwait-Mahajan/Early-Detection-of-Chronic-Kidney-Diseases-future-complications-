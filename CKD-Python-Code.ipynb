{
  "nbformat": 4,
  "nbformat_minor": 0,
  "metadata": {
    "colab": {
      "provenance": []
    },
    "kernelspec": {
      "name": "python3",
      "display_name": "Python 3"
    },
    "language_info": {
      "name": "python"
    },
    "accelerator": "GPU",
    "gpuClass": "standard"
  },
  "cells": [
    {
      "cell_type": "code",
      "execution_count": null,
      "metadata": {
        "colab": {
          "base_uri": "https://localhost:8080/"
        },
        "id": "_Na9VegvGn7k",
        "outputId": "a37abc7e-4da7-482d-e0b8-543e3b244ad4"
      },
      "outputs": [
        {
          "output_type": "stream",
          "name": "stdout",
          "text": [
            "Looking in indexes: https://pypi.org/simple, https://us-python.pkg.dev/colab-wheels/public/simple/\n",
            "Requirement already satisfied: kaggle in /usr/local/lib/python3.8/dist-packages (1.5.12)\n",
            "Requirement already satisfied: python-slugify in /usr/local/lib/python3.8/dist-packages (from kaggle) (7.0.0)\n",
            "Requirement already satisfied: six>=1.10 in /usr/local/lib/python3.8/dist-packages (from kaggle) (1.15.0)\n",
            "Requirement already satisfied: certifi in /usr/local/lib/python3.8/dist-packages (from kaggle) (2022.12.7)\n",
            "Requirement already satisfied: urllib3 in /usr/local/lib/python3.8/dist-packages (from kaggle) (1.24.3)\n",
            "Requirement already satisfied: requests in /usr/local/lib/python3.8/dist-packages (from kaggle) (2.25.1)\n",
            "Requirement already satisfied: tqdm in /usr/local/lib/python3.8/dist-packages (from kaggle) (4.64.1)\n",
            "Requirement already satisfied: python-dateutil in /usr/local/lib/python3.8/dist-packages (from kaggle) (2.8.2)\n",
            "Requirement already satisfied: text-unidecode>=1.3 in /usr/local/lib/python3.8/dist-packages (from python-slugify->kaggle) (1.3)\n",
            "Requirement already satisfied: chardet<5,>=3.0.2 in /usr/local/lib/python3.8/dist-packages (from requests->kaggle) (4.0.0)\n",
            "Requirement already satisfied: idna<3,>=2.5 in /usr/local/lib/python3.8/dist-packages (from requests->kaggle) (2.10)\n",
            "Downloading risk-factor-prediction-of-chronic-kidney-disease.zip to /content\n",
            "  0% 0.00/4.06k [00:00<?, ?B/s]\n",
            "100% 4.06k/4.06k [00:00<00:00, 4.20MB/s]\n"
          ]
        }
      ],
      "source": [
        "!pip install kaggle --upgrade\n",
        "!mkdir -p ~/.kaggle/\n",
        "!cp kaggle.json ~/.kaggle/\n",
        "!chmod 600 ~/.kaggle/kaggle.json\n",
        "!kaggle datasets download -d kappa1312/risk-factor-prediction-of-chronic-kidney-disease"
      ]
    },
    {
      "cell_type": "markdown",
      "source": [
        "**RISK FACTOR PREDICTION of Chronic Kidney Diseases**"
      ],
      "metadata": {
        "id": "qemScEVVXwSI"
      }
    },
    {
      "cell_type": "code",
      "source": [
        "!unzip /content/risk-factor-prediction-of-chronic-kidney-disease.zip"
      ],
      "metadata": {
        "colab": {
          "base_uri": "https://localhost:8080/"
        },
        "id": "KuEocztkIB8j",
        "outputId": "4512cd81-98f1-4c8d-9efe-b6e2c9c58c9c"
      },
      "execution_count": null,
      "outputs": [
        {
          "output_type": "stream",
          "name": "stdout",
          "text": [
            "Archive:  /content/risk-factor-prediction-of-chronic-kidney-disease.zip\n",
            "  inflating: Risk Factor prediction of Chronic Kidney Disease.csv  \n"
          ]
        }
      ]
    },
    {
      "cell_type": "code",
      "source": [
        "import numpy as np\n",
        "import pandas as pd\n",
        "import matplotlib.pyplot as plt\n",
        "import seaborn as sns"
      ],
      "metadata": {
        "id": "8DXt-8F9Ikn7"
      },
      "execution_count": null,
      "outputs": []
    },
    {
      "cell_type": "code",
      "source": [
        "%matplotlib inline"
      ],
      "metadata": {
        "id": "8r7iUvThI5EV"
      },
      "execution_count": null,
      "outputs": []
    },
    {
      "cell_type": "code",
      "source": [
        "df = pd.read_csv(\"/content/Risk Factor prediction of Chronic Kidney Disease.csv\")"
      ],
      "metadata": {
        "id": "qpU5yTHkI7os"
      },
      "execution_count": null,
      "outputs": []
    },
    {
      "cell_type": "code",
      "source": [
        "df.head()"
      ],
      "metadata": {
        "colab": {
          "base_uri": "https://localhost:8080/",
          "height": 386
        },
        "id": "TkgD-o3RKAwq",
        "outputId": "7346c194-6fbe-4f54-b869-5da320ee2c2a"
      },
      "execution_count": null,
      "outputs": [
        {
          "output_type": "execute_result",
          "data": {
            "text/plain": [
              "  bp (Diastolic)  bp limit             sg        al     class       rbc  \\\n",
              "0       discrete  discrete       discrete  discrete  discrete  discrete   \n",
              "1            NaN       NaN            NaN       NaN       NaN       NaN   \n",
              "2              0         0  1.019 - 1.021     1 - 1       ckd         0   \n",
              "3              0         0  1.009 - 1.011       < 0       ckd         0   \n",
              "4              0         0  1.009 - 1.011       ≥ 4       ckd         1   \n",
              "\n",
              "         su        pc       pcc        ba  ...       htn        dm       cad  \\\n",
              "0  discrete  discrete  discrete  discrete  ...  discrete  discrete  discrete   \n",
              "1       NaN       NaN       NaN       NaN  ...       NaN       NaN       NaN   \n",
              "2       < 0         0         0         0  ...         0         0         0   \n",
              "3       < 0         0         0         0  ...         0         0         0   \n",
              "4       < 0         1         0         1  ...         0         0         0   \n",
              "\n",
              "      appet        pe       ane                grf     stage  affected  \\\n",
              "0  discrete  discrete  discrete           discrete  discrete  discrete   \n",
              "1       NaN       NaN       NaN                NaN       NaN     class   \n",
              "2         0         0         0          ≥ 227.944        s1         1   \n",
              "3         0         0         0          ≥ 227.944        s1         1   \n",
              "4         1         0         0  127.281 - 152.446        s1         1   \n",
              "\n",
              "        age  \n",
              "0  discrete  \n",
              "1      meta  \n",
              "2      < 12  \n",
              "3      < 12  \n",
              "4      < 12  \n",
              "\n",
              "[5 rows x 29 columns]"
            ],
            "text/html": [
              "\n",
              "  <div id=\"df-db1209f9-50e2-41fb-be97-7bad44a80fce\">\n",
              "    <div class=\"colab-df-container\">\n",
              "      <div>\n",
              "<style scoped>\n",
              "    .dataframe tbody tr th:only-of-type {\n",
              "        vertical-align: middle;\n",
              "    }\n",
              "\n",
              "    .dataframe tbody tr th {\n",
              "        vertical-align: top;\n",
              "    }\n",
              "\n",
              "    .dataframe thead th {\n",
              "        text-align: right;\n",
              "    }\n",
              "</style>\n",
              "<table border=\"1\" class=\"dataframe\">\n",
              "  <thead>\n",
              "    <tr style=\"text-align: right;\">\n",
              "      <th></th>\n",
              "      <th>bp (Diastolic)</th>\n",
              "      <th>bp limit</th>\n",
              "      <th>sg</th>\n",
              "      <th>al</th>\n",
              "      <th>class</th>\n",
              "      <th>rbc</th>\n",
              "      <th>su</th>\n",
              "      <th>pc</th>\n",
              "      <th>pcc</th>\n",
              "      <th>ba</th>\n",
              "      <th>...</th>\n",
              "      <th>htn</th>\n",
              "      <th>dm</th>\n",
              "      <th>cad</th>\n",
              "      <th>appet</th>\n",
              "      <th>pe</th>\n",
              "      <th>ane</th>\n",
              "      <th>grf</th>\n",
              "      <th>stage</th>\n",
              "      <th>affected</th>\n",
              "      <th>age</th>\n",
              "    </tr>\n",
              "  </thead>\n",
              "  <tbody>\n",
              "    <tr>\n",
              "      <th>0</th>\n",
              "      <td>discrete</td>\n",
              "      <td>discrete</td>\n",
              "      <td>discrete</td>\n",
              "      <td>discrete</td>\n",
              "      <td>discrete</td>\n",
              "      <td>discrete</td>\n",
              "      <td>discrete</td>\n",
              "      <td>discrete</td>\n",
              "      <td>discrete</td>\n",
              "      <td>discrete</td>\n",
              "      <td>...</td>\n",
              "      <td>discrete</td>\n",
              "      <td>discrete</td>\n",
              "      <td>discrete</td>\n",
              "      <td>discrete</td>\n",
              "      <td>discrete</td>\n",
              "      <td>discrete</td>\n",
              "      <td>discrete</td>\n",
              "      <td>discrete</td>\n",
              "      <td>discrete</td>\n",
              "      <td>discrete</td>\n",
              "    </tr>\n",
              "    <tr>\n",
              "      <th>1</th>\n",
              "      <td>NaN</td>\n",
              "      <td>NaN</td>\n",
              "      <td>NaN</td>\n",
              "      <td>NaN</td>\n",
              "      <td>NaN</td>\n",
              "      <td>NaN</td>\n",
              "      <td>NaN</td>\n",
              "      <td>NaN</td>\n",
              "      <td>NaN</td>\n",
              "      <td>NaN</td>\n",
              "      <td>...</td>\n",
              "      <td>NaN</td>\n",
              "      <td>NaN</td>\n",
              "      <td>NaN</td>\n",
              "      <td>NaN</td>\n",
              "      <td>NaN</td>\n",
              "      <td>NaN</td>\n",
              "      <td>NaN</td>\n",
              "      <td>NaN</td>\n",
              "      <td>class</td>\n",
              "      <td>meta</td>\n",
              "    </tr>\n",
              "    <tr>\n",
              "      <th>2</th>\n",
              "      <td>0</td>\n",
              "      <td>0</td>\n",
              "      <td>1.019 - 1.021</td>\n",
              "      <td>1 - 1</td>\n",
              "      <td>ckd</td>\n",
              "      <td>0</td>\n",
              "      <td>&lt; 0</td>\n",
              "      <td>0</td>\n",
              "      <td>0</td>\n",
              "      <td>0</td>\n",
              "      <td>...</td>\n",
              "      <td>0</td>\n",
              "      <td>0</td>\n",
              "      <td>0</td>\n",
              "      <td>0</td>\n",
              "      <td>0</td>\n",
              "      <td>0</td>\n",
              "      <td>≥ 227.944</td>\n",
              "      <td>s1</td>\n",
              "      <td>1</td>\n",
              "      <td>&lt; 12</td>\n",
              "    </tr>\n",
              "    <tr>\n",
              "      <th>3</th>\n",
              "      <td>0</td>\n",
              "      <td>0</td>\n",
              "      <td>1.009 - 1.011</td>\n",
              "      <td>&lt; 0</td>\n",
              "      <td>ckd</td>\n",
              "      <td>0</td>\n",
              "      <td>&lt; 0</td>\n",
              "      <td>0</td>\n",
              "      <td>0</td>\n",
              "      <td>0</td>\n",
              "      <td>...</td>\n",
              "      <td>0</td>\n",
              "      <td>0</td>\n",
              "      <td>0</td>\n",
              "      <td>0</td>\n",
              "      <td>0</td>\n",
              "      <td>0</td>\n",
              "      <td>≥ 227.944</td>\n",
              "      <td>s1</td>\n",
              "      <td>1</td>\n",
              "      <td>&lt; 12</td>\n",
              "    </tr>\n",
              "    <tr>\n",
              "      <th>4</th>\n",
              "      <td>0</td>\n",
              "      <td>0</td>\n",
              "      <td>1.009 - 1.011</td>\n",
              "      <td>≥ 4</td>\n",
              "      <td>ckd</td>\n",
              "      <td>1</td>\n",
              "      <td>&lt; 0</td>\n",
              "      <td>1</td>\n",
              "      <td>0</td>\n",
              "      <td>1</td>\n",
              "      <td>...</td>\n",
              "      <td>0</td>\n",
              "      <td>0</td>\n",
              "      <td>0</td>\n",
              "      <td>1</td>\n",
              "      <td>0</td>\n",
              "      <td>0</td>\n",
              "      <td>127.281 - 152.446</td>\n",
              "      <td>s1</td>\n",
              "      <td>1</td>\n",
              "      <td>&lt; 12</td>\n",
              "    </tr>\n",
              "  </tbody>\n",
              "</table>\n",
              "<p>5 rows × 29 columns</p>\n",
              "</div>\n",
              "      <button class=\"colab-df-convert\" onclick=\"convertToInteractive('df-db1209f9-50e2-41fb-be97-7bad44a80fce')\"\n",
              "              title=\"Convert this dataframe to an interactive table.\"\n",
              "              style=\"display:none;\">\n",
              "        \n",
              "  <svg xmlns=\"http://www.w3.org/2000/svg\" height=\"24px\"viewBox=\"0 0 24 24\"\n",
              "       width=\"24px\">\n",
              "    <path d=\"M0 0h24v24H0V0z\" fill=\"none\"/>\n",
              "    <path d=\"M18.56 5.44l.94 2.06.94-2.06 2.06-.94-2.06-.94-.94-2.06-.94 2.06-2.06.94zm-11 1L8.5 8.5l.94-2.06 2.06-.94-2.06-.94L8.5 2.5l-.94 2.06-2.06.94zm10 10l.94 2.06.94-2.06 2.06-.94-2.06-.94-.94-2.06-.94 2.06-2.06.94z\"/><path d=\"M17.41 7.96l-1.37-1.37c-.4-.4-.92-.59-1.43-.59-.52 0-1.04.2-1.43.59L10.3 9.45l-7.72 7.72c-.78.78-.78 2.05 0 2.83L4 21.41c.39.39.9.59 1.41.59.51 0 1.02-.2 1.41-.59l7.78-7.78 2.81-2.81c.8-.78.8-2.07 0-2.86zM5.41 20L4 18.59l7.72-7.72 1.47 1.35L5.41 20z\"/>\n",
              "  </svg>\n",
              "      </button>\n",
              "      \n",
              "  <style>\n",
              "    .colab-df-container {\n",
              "      display:flex;\n",
              "      flex-wrap:wrap;\n",
              "      gap: 12px;\n",
              "    }\n",
              "\n",
              "    .colab-df-convert {\n",
              "      background-color: #E8F0FE;\n",
              "      border: none;\n",
              "      border-radius: 50%;\n",
              "      cursor: pointer;\n",
              "      display: none;\n",
              "      fill: #1967D2;\n",
              "      height: 32px;\n",
              "      padding: 0 0 0 0;\n",
              "      width: 32px;\n",
              "    }\n",
              "\n",
              "    .colab-df-convert:hover {\n",
              "      background-color: #E2EBFA;\n",
              "      box-shadow: 0px 1px 2px rgba(60, 64, 67, 0.3), 0px 1px 3px 1px rgba(60, 64, 67, 0.15);\n",
              "      fill: #174EA6;\n",
              "    }\n",
              "\n",
              "    [theme=dark] .colab-df-convert {\n",
              "      background-color: #3B4455;\n",
              "      fill: #D2E3FC;\n",
              "    }\n",
              "\n",
              "    [theme=dark] .colab-df-convert:hover {\n",
              "      background-color: #434B5C;\n",
              "      box-shadow: 0px 1px 3px 1px rgba(0, 0, 0, 0.15);\n",
              "      filter: drop-shadow(0px 1px 2px rgba(0, 0, 0, 0.3));\n",
              "      fill: #FFFFFF;\n",
              "    }\n",
              "  </style>\n",
              "\n",
              "      <script>\n",
              "        const buttonEl =\n",
              "          document.querySelector('#df-db1209f9-50e2-41fb-be97-7bad44a80fce button.colab-df-convert');\n",
              "        buttonEl.style.display =\n",
              "          google.colab.kernel.accessAllowed ? 'block' : 'none';\n",
              "\n",
              "        async function convertToInteractive(key) {\n",
              "          const element = document.querySelector('#df-db1209f9-50e2-41fb-be97-7bad44a80fce');\n",
              "          const dataTable =\n",
              "            await google.colab.kernel.invokeFunction('convertToInteractive',\n",
              "                                                     [key], {});\n",
              "          if (!dataTable) return;\n",
              "\n",
              "          const docLinkHtml = 'Like what you see? Visit the ' +\n",
              "            '<a target=\"_blank\" href=https://colab.research.google.com/notebooks/data_table.ipynb>data table notebook</a>'\n",
              "            + ' to learn more about interactive tables.';\n",
              "          element.innerHTML = '';\n",
              "          dataTable['output_type'] = 'display_data';\n",
              "          await google.colab.output.renderOutput(dataTable, element);\n",
              "          const docLink = document.createElement('div');\n",
              "          docLink.innerHTML = docLinkHtml;\n",
              "          element.appendChild(docLink);\n",
              "        }\n",
              "      </script>\n",
              "    </div>\n",
              "  </div>\n",
              "  "
            ]
          },
          "metadata": {},
          "execution_count": 9
        }
      ]
    },
    {
      "cell_type": "code",
      "source": [
        "df.drop([0,1],axis=0,inplace=True)"
      ],
      "metadata": {
        "id": "Tn8T0WLiKBo4"
      },
      "execution_count": null,
      "outputs": []
    },
    {
      "cell_type": "code",
      "source": [
        "df"
      ],
      "metadata": {
        "colab": {
          "base_uri": "https://localhost:8080/",
          "height": 852
        },
        "id": "dL1BThXOKS7m",
        "outputId": "3abe7c3e-dbff-4a4c-e5e4-939b02469588"
      },
      "execution_count": null,
      "outputs": [
        {
          "output_type": "execute_result",
          "data": {
            "text/plain": [
              "    bp (Diastolic) bp limit             sg     al   class rbc     su pc pcc  \\\n",
              "2                0        0  1.019 - 1.021  1 - 1     ckd   0    < 0  0   0   \n",
              "3                0        0  1.009 - 1.011    < 0     ckd   0    < 0  0   0   \n",
              "4                0        0  1.009 - 1.011    ≥ 4     ckd   1    < 0  1   0   \n",
              "5                1        1  1.009 - 1.011  3 - 3     ckd   0    < 0  0   0   \n",
              "6                0        0  1.015 - 1.017    < 0     ckd   0    < 0  0   0   \n",
              "..             ...      ...            ...    ...     ...  ..    ... ..  ..   \n",
              "197              1        2  1.019 - 1.021    < 0     ckd   0    < 0  0   0   \n",
              "198              0        0  1.019 - 1.021    < 0     ckd   0    < 0  0   0   \n",
              "199              1        1        ≥ 1.023    < 0  notckd   0    < 0  0   0   \n",
              "200              1        1        ≥ 1.023    < 0  notckd   0    < 0  0   0   \n",
              "201              1        1  1.009 - 1.011  2 - 2     ckd   0  2 - 2  0   0   \n",
              "\n",
              "    ba  ... htn dm cad appet pe ane                grf stage affected      age  \n",
              "2    0  ...   0  0   0     0  0   0          ≥ 227.944    s1        1     < 12  \n",
              "3    0  ...   0  0   0     0  0   0          ≥ 227.944    s1        1     < 12  \n",
              "4    1  ...   0  0   0     1  0   0  127.281 - 152.446    s1        1     < 12  \n",
              "5    0  ...   0  0   0     0  0   0  127.281 - 152.446    s1        1     < 12  \n",
              "6    0  ...   0  1   0     1  1   0  127.281 - 152.446    s1        1  12 - 20  \n",
              "..  ..  ...  .. ..  ..   ... ..  ..                ...   ...      ...      ...  \n",
              "197  0  ...   1  1   0     0  0   1  26.6175 - 51.7832    s3        1     ≥ 74  \n",
              "198  0  ...   0  1   0     0  0   1          < 26.6175    s4        1     ≥ 74  \n",
              "199  0  ...   0  0   0     0  0   0   51.7832 - 76.949    s2        0     ≥ 74  \n",
              "200  0  ...   0  0   0     0  0   0  102.115 - 127.281    s1        0     ≥ 74  \n",
              "201  0  ...   1  1   0     0  0   0          < 26.6175    s4        1     ≥ 74  \n",
              "\n",
              "[200 rows x 29 columns]"
            ],
            "text/html": [
              "\n",
              "  <div id=\"df-42edf850-e3c8-43ea-a1f2-bb59fd7b7ed7\">\n",
              "    <div class=\"colab-df-container\">\n",
              "      <div>\n",
              "<style scoped>\n",
              "    .dataframe tbody tr th:only-of-type {\n",
              "        vertical-align: middle;\n",
              "    }\n",
              "\n",
              "    .dataframe tbody tr th {\n",
              "        vertical-align: top;\n",
              "    }\n",
              "\n",
              "    .dataframe thead th {\n",
              "        text-align: right;\n",
              "    }\n",
              "</style>\n",
              "<table border=\"1\" class=\"dataframe\">\n",
              "  <thead>\n",
              "    <tr style=\"text-align: right;\">\n",
              "      <th></th>\n",
              "      <th>bp (Diastolic)</th>\n",
              "      <th>bp limit</th>\n",
              "      <th>sg</th>\n",
              "      <th>al</th>\n",
              "      <th>class</th>\n",
              "      <th>rbc</th>\n",
              "      <th>su</th>\n",
              "      <th>pc</th>\n",
              "      <th>pcc</th>\n",
              "      <th>ba</th>\n",
              "      <th>...</th>\n",
              "      <th>htn</th>\n",
              "      <th>dm</th>\n",
              "      <th>cad</th>\n",
              "      <th>appet</th>\n",
              "      <th>pe</th>\n",
              "      <th>ane</th>\n",
              "      <th>grf</th>\n",
              "      <th>stage</th>\n",
              "      <th>affected</th>\n",
              "      <th>age</th>\n",
              "    </tr>\n",
              "  </thead>\n",
              "  <tbody>\n",
              "    <tr>\n",
              "      <th>2</th>\n",
              "      <td>0</td>\n",
              "      <td>0</td>\n",
              "      <td>1.019 - 1.021</td>\n",
              "      <td>1 - 1</td>\n",
              "      <td>ckd</td>\n",
              "      <td>0</td>\n",
              "      <td>&lt; 0</td>\n",
              "      <td>0</td>\n",
              "      <td>0</td>\n",
              "      <td>0</td>\n",
              "      <td>...</td>\n",
              "      <td>0</td>\n",
              "      <td>0</td>\n",
              "      <td>0</td>\n",
              "      <td>0</td>\n",
              "      <td>0</td>\n",
              "      <td>0</td>\n",
              "      <td>≥ 227.944</td>\n",
              "      <td>s1</td>\n",
              "      <td>1</td>\n",
              "      <td>&lt; 12</td>\n",
              "    </tr>\n",
              "    <tr>\n",
              "      <th>3</th>\n",
              "      <td>0</td>\n",
              "      <td>0</td>\n",
              "      <td>1.009 - 1.011</td>\n",
              "      <td>&lt; 0</td>\n",
              "      <td>ckd</td>\n",
              "      <td>0</td>\n",
              "      <td>&lt; 0</td>\n",
              "      <td>0</td>\n",
              "      <td>0</td>\n",
              "      <td>0</td>\n",
              "      <td>...</td>\n",
              "      <td>0</td>\n",
              "      <td>0</td>\n",
              "      <td>0</td>\n",
              "      <td>0</td>\n",
              "      <td>0</td>\n",
              "      <td>0</td>\n",
              "      <td>≥ 227.944</td>\n",
              "      <td>s1</td>\n",
              "      <td>1</td>\n",
              "      <td>&lt; 12</td>\n",
              "    </tr>\n",
              "    <tr>\n",
              "      <th>4</th>\n",
              "      <td>0</td>\n",
              "      <td>0</td>\n",
              "      <td>1.009 - 1.011</td>\n",
              "      <td>≥ 4</td>\n",
              "      <td>ckd</td>\n",
              "      <td>1</td>\n",
              "      <td>&lt; 0</td>\n",
              "      <td>1</td>\n",
              "      <td>0</td>\n",
              "      <td>1</td>\n",
              "      <td>...</td>\n",
              "      <td>0</td>\n",
              "      <td>0</td>\n",
              "      <td>0</td>\n",
              "      <td>1</td>\n",
              "      <td>0</td>\n",
              "      <td>0</td>\n",
              "      <td>127.281 - 152.446</td>\n",
              "      <td>s1</td>\n",
              "      <td>1</td>\n",
              "      <td>&lt; 12</td>\n",
              "    </tr>\n",
              "    <tr>\n",
              "      <th>5</th>\n",
              "      <td>1</td>\n",
              "      <td>1</td>\n",
              "      <td>1.009 - 1.011</td>\n",
              "      <td>3 - 3</td>\n",
              "      <td>ckd</td>\n",
              "      <td>0</td>\n",
              "      <td>&lt; 0</td>\n",
              "      <td>0</td>\n",
              "      <td>0</td>\n",
              "      <td>0</td>\n",
              "      <td>...</td>\n",
              "      <td>0</td>\n",
              "      <td>0</td>\n",
              "      <td>0</td>\n",
              "      <td>0</td>\n",
              "      <td>0</td>\n",
              "      <td>0</td>\n",
              "      <td>127.281 - 152.446</td>\n",
              "      <td>s1</td>\n",
              "      <td>1</td>\n",
              "      <td>&lt; 12</td>\n",
              "    </tr>\n",
              "    <tr>\n",
              "      <th>6</th>\n",
              "      <td>0</td>\n",
              "      <td>0</td>\n",
              "      <td>1.015 - 1.017</td>\n",
              "      <td>&lt; 0</td>\n",
              "      <td>ckd</td>\n",
              "      <td>0</td>\n",
              "      <td>&lt; 0</td>\n",
              "      <td>0</td>\n",
              "      <td>0</td>\n",
              "      <td>0</td>\n",
              "      <td>...</td>\n",
              "      <td>0</td>\n",
              "      <td>1</td>\n",
              "      <td>0</td>\n",
              "      <td>1</td>\n",
              "      <td>1</td>\n",
              "      <td>0</td>\n",
              "      <td>127.281 - 152.446</td>\n",
              "      <td>s1</td>\n",
              "      <td>1</td>\n",
              "      <td>12 - 20</td>\n",
              "    </tr>\n",
              "    <tr>\n",
              "      <th>...</th>\n",
              "      <td>...</td>\n",
              "      <td>...</td>\n",
              "      <td>...</td>\n",
              "      <td>...</td>\n",
              "      <td>...</td>\n",
              "      <td>...</td>\n",
              "      <td>...</td>\n",
              "      <td>...</td>\n",
              "      <td>...</td>\n",
              "      <td>...</td>\n",
              "      <td>...</td>\n",
              "      <td>...</td>\n",
              "      <td>...</td>\n",
              "      <td>...</td>\n",
              "      <td>...</td>\n",
              "      <td>...</td>\n",
              "      <td>...</td>\n",
              "      <td>...</td>\n",
              "      <td>...</td>\n",
              "      <td>...</td>\n",
              "      <td>...</td>\n",
              "    </tr>\n",
              "    <tr>\n",
              "      <th>197</th>\n",
              "      <td>1</td>\n",
              "      <td>2</td>\n",
              "      <td>1.019 - 1.021</td>\n",
              "      <td>&lt; 0</td>\n",
              "      <td>ckd</td>\n",
              "      <td>0</td>\n",
              "      <td>&lt; 0</td>\n",
              "      <td>0</td>\n",
              "      <td>0</td>\n",
              "      <td>0</td>\n",
              "      <td>...</td>\n",
              "      <td>1</td>\n",
              "      <td>1</td>\n",
              "      <td>0</td>\n",
              "      <td>0</td>\n",
              "      <td>0</td>\n",
              "      <td>1</td>\n",
              "      <td>26.6175 - 51.7832</td>\n",
              "      <td>s3</td>\n",
              "      <td>1</td>\n",
              "      <td>≥ 74</td>\n",
              "    </tr>\n",
              "    <tr>\n",
              "      <th>198</th>\n",
              "      <td>0</td>\n",
              "      <td>0</td>\n",
              "      <td>1.019 - 1.021</td>\n",
              "      <td>&lt; 0</td>\n",
              "      <td>ckd</td>\n",
              "      <td>0</td>\n",
              "      <td>&lt; 0</td>\n",
              "      <td>0</td>\n",
              "      <td>0</td>\n",
              "      <td>0</td>\n",
              "      <td>...</td>\n",
              "      <td>0</td>\n",
              "      <td>1</td>\n",
              "      <td>0</td>\n",
              "      <td>0</td>\n",
              "      <td>0</td>\n",
              "      <td>1</td>\n",
              "      <td>&lt; 26.6175</td>\n",
              "      <td>s4</td>\n",
              "      <td>1</td>\n",
              "      <td>≥ 74</td>\n",
              "    </tr>\n",
              "    <tr>\n",
              "      <th>199</th>\n",
              "      <td>1</td>\n",
              "      <td>1</td>\n",
              "      <td>≥ 1.023</td>\n",
              "      <td>&lt; 0</td>\n",
              "      <td>notckd</td>\n",
              "      <td>0</td>\n",
              "      <td>&lt; 0</td>\n",
              "      <td>0</td>\n",
              "      <td>0</td>\n",
              "      <td>0</td>\n",
              "      <td>...</td>\n",
              "      <td>0</td>\n",
              "      <td>0</td>\n",
              "      <td>0</td>\n",
              "      <td>0</td>\n",
              "      <td>0</td>\n",
              "      <td>0</td>\n",
              "      <td>51.7832 - 76.949</td>\n",
              "      <td>s2</td>\n",
              "      <td>0</td>\n",
              "      <td>≥ 74</td>\n",
              "    </tr>\n",
              "    <tr>\n",
              "      <th>200</th>\n",
              "      <td>1</td>\n",
              "      <td>1</td>\n",
              "      <td>≥ 1.023</td>\n",
              "      <td>&lt; 0</td>\n",
              "      <td>notckd</td>\n",
              "      <td>0</td>\n",
              "      <td>&lt; 0</td>\n",
              "      <td>0</td>\n",
              "      <td>0</td>\n",
              "      <td>0</td>\n",
              "      <td>...</td>\n",
              "      <td>0</td>\n",
              "      <td>0</td>\n",
              "      <td>0</td>\n",
              "      <td>0</td>\n",
              "      <td>0</td>\n",
              "      <td>0</td>\n",
              "      <td>102.115 - 127.281</td>\n",
              "      <td>s1</td>\n",
              "      <td>0</td>\n",
              "      <td>≥ 74</td>\n",
              "    </tr>\n",
              "    <tr>\n",
              "      <th>201</th>\n",
              "      <td>1</td>\n",
              "      <td>1</td>\n",
              "      <td>1.009 - 1.011</td>\n",
              "      <td>2 - 2</td>\n",
              "      <td>ckd</td>\n",
              "      <td>0</td>\n",
              "      <td>2 - 2</td>\n",
              "      <td>0</td>\n",
              "      <td>0</td>\n",
              "      <td>0</td>\n",
              "      <td>...</td>\n",
              "      <td>1</td>\n",
              "      <td>1</td>\n",
              "      <td>0</td>\n",
              "      <td>0</td>\n",
              "      <td>0</td>\n",
              "      <td>0</td>\n",
              "      <td>&lt; 26.6175</td>\n",
              "      <td>s4</td>\n",
              "      <td>1</td>\n",
              "      <td>≥ 74</td>\n",
              "    </tr>\n",
              "  </tbody>\n",
              "</table>\n",
              "<p>200 rows × 29 columns</p>\n",
              "</div>\n",
              "      <button class=\"colab-df-convert\" onclick=\"convertToInteractive('df-42edf850-e3c8-43ea-a1f2-bb59fd7b7ed7')\"\n",
              "              title=\"Convert this dataframe to an interactive table.\"\n",
              "              style=\"display:none;\">\n",
              "        \n",
              "  <svg xmlns=\"http://www.w3.org/2000/svg\" height=\"24px\"viewBox=\"0 0 24 24\"\n",
              "       width=\"24px\">\n",
              "    <path d=\"M0 0h24v24H0V0z\" fill=\"none\"/>\n",
              "    <path d=\"M18.56 5.44l.94 2.06.94-2.06 2.06-.94-2.06-.94-.94-2.06-.94 2.06-2.06.94zm-11 1L8.5 8.5l.94-2.06 2.06-.94-2.06-.94L8.5 2.5l-.94 2.06-2.06.94zm10 10l.94 2.06.94-2.06 2.06-.94-2.06-.94-.94-2.06-.94 2.06-2.06.94z\"/><path d=\"M17.41 7.96l-1.37-1.37c-.4-.4-.92-.59-1.43-.59-.52 0-1.04.2-1.43.59L10.3 9.45l-7.72 7.72c-.78.78-.78 2.05 0 2.83L4 21.41c.39.39.9.59 1.41.59.51 0 1.02-.2 1.41-.59l7.78-7.78 2.81-2.81c.8-.78.8-2.07 0-2.86zM5.41 20L4 18.59l7.72-7.72 1.47 1.35L5.41 20z\"/>\n",
              "  </svg>\n",
              "      </button>\n",
              "      \n",
              "  <style>\n",
              "    .colab-df-container {\n",
              "      display:flex;\n",
              "      flex-wrap:wrap;\n",
              "      gap: 12px;\n",
              "    }\n",
              "\n",
              "    .colab-df-convert {\n",
              "      background-color: #E8F0FE;\n",
              "      border: none;\n",
              "      border-radius: 50%;\n",
              "      cursor: pointer;\n",
              "      display: none;\n",
              "      fill: #1967D2;\n",
              "      height: 32px;\n",
              "      padding: 0 0 0 0;\n",
              "      width: 32px;\n",
              "    }\n",
              "\n",
              "    .colab-df-convert:hover {\n",
              "      background-color: #E2EBFA;\n",
              "      box-shadow: 0px 1px 2px rgba(60, 64, 67, 0.3), 0px 1px 3px 1px rgba(60, 64, 67, 0.15);\n",
              "      fill: #174EA6;\n",
              "    }\n",
              "\n",
              "    [theme=dark] .colab-df-convert {\n",
              "      background-color: #3B4455;\n",
              "      fill: #D2E3FC;\n",
              "    }\n",
              "\n",
              "    [theme=dark] .colab-df-convert:hover {\n",
              "      background-color: #434B5C;\n",
              "      box-shadow: 0px 1px 3px 1px rgba(0, 0, 0, 0.15);\n",
              "      filter: drop-shadow(0px 1px 2px rgba(0, 0, 0, 0.3));\n",
              "      fill: #FFFFFF;\n",
              "    }\n",
              "  </style>\n",
              "\n",
              "      <script>\n",
              "        const buttonEl =\n",
              "          document.querySelector('#df-42edf850-e3c8-43ea-a1f2-bb59fd7b7ed7 button.colab-df-convert');\n",
              "        buttonEl.style.display =\n",
              "          google.colab.kernel.accessAllowed ? 'block' : 'none';\n",
              "\n",
              "        async function convertToInteractive(key) {\n",
              "          const element = document.querySelector('#df-42edf850-e3c8-43ea-a1f2-bb59fd7b7ed7');\n",
              "          const dataTable =\n",
              "            await google.colab.kernel.invokeFunction('convertToInteractive',\n",
              "                                                     [key], {});\n",
              "          if (!dataTable) return;\n",
              "\n",
              "          const docLinkHtml = 'Like what you see? Visit the ' +\n",
              "            '<a target=\"_blank\" href=https://colab.research.google.com/notebooks/data_table.ipynb>data table notebook</a>'\n",
              "            + ' to learn more about interactive tables.';\n",
              "          element.innerHTML = '';\n",
              "          dataTable['output_type'] = 'display_data';\n",
              "          await google.colab.output.renderOutput(dataTable, element);\n",
              "          const docLink = document.createElement('div');\n",
              "          docLink.innerHTML = docLinkHtml;\n",
              "          element.appendChild(docLink);\n",
              "        }\n",
              "      </script>\n",
              "    </div>\n",
              "  </div>\n",
              "  "
            ]
          },
          "metadata": {},
          "execution_count": 12
        }
      ]
    },
    {
      "cell_type": "code",
      "source": [
        "sns.heatmap(df.isnull(),cmap='coolwarm')"
      ],
      "metadata": {
        "colab": {
          "base_uri": "https://localhost:8080/",
          "height": 343
        },
        "id": "5qFDLC_TK2mI",
        "outputId": "7fc935bc-4710-4055-8e80-03ce16b48d22"
      },
      "execution_count": null,
      "outputs": [
        {
          "output_type": "execute_result",
          "data": {
            "text/plain": [
              "<matplotlib.axes._subplots.AxesSubplot at 0x7f484c8969a0>"
            ]
          },
          "metadata": {},
          "execution_count": 17
        },
        {
          "output_type": "display_data",
          "data": {
            "text/plain": [
              "<Figure size 432x288 with 2 Axes>"
            ],
            "image/png": "[encoded data removed]"
          },
          "metadata": {
            "needs_background": "light"
          }
        }
      ]
    },
    {
      "cell_type": "code",
      "source": [
        "df['bp limit'].unique()"
      ],
      "metadata": {
        "colab": {
          "base_uri": "https://localhost:8080/"
        },
        "id": "rX63pHV0K65J",
        "outputId": "5b83d44b-8251-40d4-f74b-de821b424ba0"
      },
      "execution_count": null,
      "outputs": [
        {
          "output_type": "execute_result",
          "data": {
            "text/plain": [
              "array(['0', '1', '2'], dtype=object)"
            ]
          },
          "metadata": {},
          "execution_count": 23
        }
      ]
    },
    {
      "cell_type": "code",
      "source": [
        "df['sg'].unique()"
      ],
      "metadata": {
        "colab": {
          "base_uri": "https://localhost:8080/"
        },
        "id": "YzRwRg9vLNCM",
        "outputId": "60349c6f-3db8-4d1d-e4cd-eef55eced45d"
      },
      "execution_count": null,
      "outputs": [
        {
          "output_type": "execute_result",
          "data": {
            "text/plain": [
              "array(['1.019 - 1.021', '1.009 - 1.011', '1.015 - 1.017', '≥ 1.023',\n",
              "       '< 1.007'], dtype=object)"
            ]
          },
          "metadata": {},
          "execution_count": 26
        }
      ]
    },
    {
      "cell_type": "code",
      "source": [
        "df = pd.get_dummies(df,columns=['sg'],drop_first=True)"
      ],
      "metadata": {
        "id": "G54C2a4VMCdL"
      },
      "execution_count": null,
      "outputs": []
    },
    {
      "cell_type": "code",
      "source": [
        "df = pd.get_dummies(df,columns=['al'],drop_first= True)"
      ],
      "metadata": {
        "id": "7U7aXwjMPH2M"
      },
      "execution_count": null,
      "outputs": []
    },
    {
      "cell_type": "code",
      "source": [
        "df['class'].unique()"
      ],
      "metadata": {
        "colab": {
          "base_uri": "https://localhost:8080/"
        },
        "id": "thqbMWakPIq_",
        "outputId": "38d2b0d1-a9c7-4265-cd3e-ed3ff7009771"
      },
      "execution_count": null,
      "outputs": [
        {
          "output_type": "execute_result",
          "data": {
            "text/plain": [
              "array(['ckd', 'notckd'], dtype=object)"
            ]
          },
          "metadata": {},
          "execution_count": 32
        }
      ]
    },
    {
      "cell_type": "code",
      "source": [
        "df = pd.get_dummies(df,columns=['class'],drop_first=True)"
      ],
      "metadata": {
        "id": "KgVmI5F-RAUP"
      },
      "execution_count": null,
      "outputs": []
    },
    {
      "cell_type": "code",
      "source": [
        "df = pd.get_dummies(df,columns=['su'],drop_first=True)"
      ],
      "metadata": {
        "id": "U2MVwQPCRIuv"
      },
      "execution_count": null,
      "outputs": []
    },
    {
      "cell_type": "code",
      "source": [
        "df.columns"
      ],
      "metadata": {
        "colab": {
          "base_uri": "https://localhost:8080/"
        },
        "id": "n7yNsySxRTVQ",
        "outputId": "fa158515-c019-45d0-8cb4-7c647a5036b0"
      },
      "execution_count": null,
      "outputs": [
        {
          "output_type": "execute_result",
          "data": {
            "text/plain": [
              "Index(['bp (Diastolic)', 'bp limit', 'rbc', 'pc', 'pcc', 'ba', 'bgr', 'bu',\n",
              "       'sod', 'sc', 'pot', 'hemo', 'pcv', 'rbcc', 'wbcc', 'htn', 'dm', 'cad',\n",
              "       'appet', 'pe', 'ane', 'grf', 'stage', 'affected', 'age',\n",
              "       'sg_1.015 - 1.017', 'sg_1.019 - 1.021', 'sg_< 1.007', 'sg_≥ 1.023',\n",
              "       'al_2 - 2', 'al_3 - 3', 'al_< 0', 'al_≥ 4', 'class_notckd', 'su_2 - 2',\n",
              "       'su_3 - 4', 'su_4 - 4', 'su_< 0', 'su_≥ 4'],\n",
              "      dtype='object')"
            ]
          },
          "metadata": {},
          "execution_count": 42
        }
      ]
    },
    {
      "cell_type": "code",
      "source": [
        "cols = []\n",
        "\n",
        "for i in df.columns:\n",
        "  cols.append('{}'.format(i))"
      ],
      "metadata": {
        "id": "h751Wl5ERn48"
      },
      "execution_count": null,
      "outputs": []
    },
    {
      "cell_type": "code",
      "source": [
        "cols"
      ],
      "metadata": {
        "colab": {
          "base_uri": "https://localhost:8080/"
        },
        "id": "GV0u3qfMSTRc",
        "outputId": "74a09554-723d-4f36-98de-b10b3d96f060"
      },
      "execution_count": null,
      "outputs": [
        {
          "output_type": "execute_result",
          "data": {
            "text/plain": [
              "['bp (Diastolic)',\n",
              " 'bp limit',\n",
              " 'rbc',\n",
              " 'pc',\n",
              " 'pcc',\n",
              " 'ba',\n",
              " 'bgr',\n",
              " 'bu',\n",
              " 'sod',\n",
              " 'sc',\n",
              " 'pot',\n",
              " 'hemo',\n",
              " 'pcv',\n",
              " 'rbcc',\n",
              " 'wbcc',\n",
              " 'htn',\n",
              " 'dm',\n",
              " 'cad',\n",
              " 'appet',\n",
              " 'pe',\n",
              " 'ane',\n",
              " 'grf',\n",
              " 'stage',\n",
              " 'affected',\n",
              " 'age',\n",
              " 'sg_1.015 - 1.017',\n",
              " 'sg_1.019 - 1.021',\n",
              " 'sg_< 1.007',\n",
              " 'sg_≥ 1.023',\n",
              " 'al_2 - 2',\n",
              " 'al_3 - 3',\n",
              " 'al_< 0',\n",
              " 'al_≥ 4',\n",
              " 'class_notckd',\n",
              " 'su_2 - 2',\n",
              " 'su_3 - 4',\n",
              " 'su_4 - 4',\n",
              " 'su_< 0',\n",
              " 'su_≥ 4']"
            ]
          },
          "metadata": {},
          "execution_count": 50
        }
      ]
    },
    {
      "cell_type": "code",
      "source": [
        "for i in cols:\n",
        "  print(df[i].unique())"
      ],
      "metadata": {
        "colab": {
          "base_uri": "https://localhost:8080/"
        },
        "id": "NgKmpm3DR8E3",
        "outputId": "90d8b130-c481-4d5f-96d8-1508f813cb5c"
      },
      "execution_count": null,
      "outputs": [
        {
          "output_type": "stream",
          "name": "stdout",
          "text": [
            "['0' '1']\n",
            "['0' '1' '2']\n",
            "['0' '1']\n",
            "['0' '1']\n",
            "['0' '1']\n",
            "['0' '1']\n",
            "['< 112' '112 - 154' '154 - 196' '406 - 448' '238 - 280' '196 - 238'\n",
            " '≥ 448' '280 - 322' '364 - 406' '322 - 364']\n",
            "['< 48.1' '48.1 - 86.2' '200.5 - 238.6' '124.3 - 162.4' '86.2 - 124.3'\n",
            " '162.4 - 200.5' '≥ 352.9' '238.6 - 276.7']\n",
            "['138 - 143' '133 - 138' '123 - 128' '143 - 148' '148 - 153' '< 118'\n",
            " '128 - 133' '118 - 123' '≥ 158']\n",
            "['< 3.65' '3.65 - 6.8' '16.25 - 19.4' '6.8 - 9.95' '13.1 - 16.25'\n",
            " '9.95 - 13.1' '≥ 28.85']\n",
            "['< 7.31' '≥ 42.59' '7.31 - 11.72' '38.18 - 42.59']\n",
            "['11.3 - 12.6' '8.7 - 10' '13.9 - 15.2' '≥ 16.5' '10 - 11.3' '7.4 - 8.7'\n",
            " '12.6 - 13.9' '15.2 - 16.5' '< 6.1' '6.1 - 7.4']\n",
            "['33.5 - 37.4' '29.6 - 33.5' '41.3 - 45.2' '37.4 - 41.3' '≥ 49.1'\n",
            " '21.8 - 25.7' '45.2 - 49.1' '< 17.9' '25.7 - 29.6' '17.9 - 21.8']\n",
            "['4.46 - 5.05' '5.05 - 5.64' '3.28 - 3.87' '3.87 - 4.46' '6.23 - 6.82'\n",
            " '5.64 - 6.23' '2.69 - 3.28' '< 2.69' '≥ 7.41']\n",
            "['7360 - 9740' '12120 - 14500' '14500 - 16880' '4980 - 7360' '< 4980'\n",
            " '9740 - 12120' '16880 - 19260' '≥ 24020' '19260 - 21640']\n",
            "['0' '1']\n",
            "['0' '1']\n",
            "['0' '1']\n",
            "['0' '1']\n",
            "['0' '1']\n",
            "['0' '1']\n",
            "['≥ 227.944' '127.281 - 152.446' '102.115 - 127.281' '177.612 - 202.778'\n",
            " '26.6175 - 51.7832' '51.7832 - 76.949' '76.949 - 102.115'\n",
            " '152.446 - 177.612' '202.778 - 227.944' '< 26.6175' ' p ']\n",
            "['s1' 's4' 's3' 's2' 's5']\n",
            "['1' '0']\n",
            "['< 12' '12 - 20' '20 - 27' '27 - 35' '35 - 43' '43 - 51' '51 - 59'\n",
            " '59 - 66' '66 - 74' '≥ 74']\n",
            "[0 1]\n",
            "[1 0]\n",
            "[0 1]\n",
            "[0 1]\n",
            "[0 1]\n",
            "[0 1]\n",
            "[0 1]\n",
            "[0 1]\n",
            "[0 1]\n",
            "[0 1]\n",
            "[0 1]\n",
            "[0 1]\n",
            "[1 0]\n",
            "[0 1]\n"
          ]
        }
      ]
    },
    {
      "cell_type": "code",
      "source": [
        "#6,7,8,9\n",
        "cols[6:10]"
      ],
      "metadata": {
        "colab": {
          "base_uri": "https://localhost:8080/"
        },
        "id": "4KbvDGH1SI9-",
        "outputId": "9ae499e0-f70e-4fb3-939f-95a368794a0a"
      },
      "execution_count": null,
      "outputs": [
        {
          "output_type": "execute_result",
          "data": {
            "text/plain": [
              "['bgr', 'bu', 'sod', 'sc']"
            ]
          },
          "metadata": {},
          "execution_count": 54
        }
      ]
    },
    {
      "cell_type": "code",
      "source": [
        "df = pd.get_dummies(df,columns=['bgr', 'bu', 'sod', 'sc'],drop_first=True)"
      ],
      "metadata": {
        "id": "UudZavOVSy1O"
      },
      "execution_count": null,
      "outputs": []
    },
    {
      "cell_type": "code",
      "source": [
        "df"
      ],
      "metadata": {
        "colab": {
          "base_uri": "https://localhost:8080/",
          "height": 852
        },
        "id": "wMw3aLhGTQSZ",
        "outputId": "f3b13b5f-f141-4ac3-f089-a90aba46449d"
      },
      "execution_count": null,
      "outputs": [
        {
          "output_type": "execute_result",
          "data": {
            "text/plain": [
              "    bp (Diastolic) bp limit rbc pc pcc ba     pot         hemo          pcv  \\\n",
              "2                0        0   0  0   0  0  < 7.31  11.3 - 12.6  33.5 - 37.4   \n",
              "3                0        0   0  0   0  0  < 7.31  11.3 - 12.6  33.5 - 37.4   \n",
              "4                0        0   1  1   0  1  < 7.31     8.7 - 10  29.6 - 33.5   \n",
              "5                1        1   0  0   0  0  < 7.31  13.9 - 15.2  41.3 - 45.2   \n",
              "6                0        0   0  0   0  0  < 7.31  13.9 - 15.2  37.4 - 41.3   \n",
              "..             ...      ...  .. ..  .. ..     ...          ...          ...   \n",
              "197              1        2   0  0   0  0  < 7.31     8.7 - 10  29.6 - 33.5   \n",
              "198              0        0   0  0   0  0  < 7.31    7.4 - 8.7  21.8 - 25.7   \n",
              "199              1        1   0  0   0  0  < 7.31  15.2 - 16.5  37.4 - 41.3   \n",
              "200              1        1   0  0   0  0  < 7.31  13.9 - 15.2  45.2 - 49.1   \n",
              "201              1        1   0  0   0  0  < 7.31  12.6 - 13.9  37.4 - 41.3   \n",
              "\n",
              "            rbcc  ... sod_143 - 148 sod_148 - 153 sod_< 118 sod_≥ 158  \\\n",
              "2    4.46 - 5.05  ...             0             0         0         0   \n",
              "3    4.46 - 5.05  ...             0             0         0         0   \n",
              "4    4.46 - 5.05  ...             0             0         0         0   \n",
              "5    4.46 - 5.05  ...             0             0         0         0   \n",
              "6    5.05 - 5.64  ...             0             0         0         0   \n",
              "..           ...  ...           ...           ...       ...       ...   \n",
              "197  4.46 - 5.05  ...             0             0         0         0   \n",
              "198  4.46 - 5.05  ...             0             0         0         0   \n",
              "199  6.23 - 6.82  ...             1             0         0         0   \n",
              "200  4.46 - 5.05  ...             0             0         0         0   \n",
              "201  3.87 - 4.46  ...             0             0         0         0   \n",
              "\n",
              "    sc_16.25 - 19.4 sc_3.65 - 6.8 sc_6.8 - 9.95 sc_9.95 - 13.1 sc_< 3.65  \\\n",
              "2                 0             0             0              0         1   \n",
              "3                 0             0             0              0         1   \n",
              "4                 0             0             0              0         1   \n",
              "5                 0             0             0              0         1   \n",
              "6                 0             0             0              0         1   \n",
              "..              ...           ...           ...            ...       ...   \n",
              "197               0             0             0              0         1   \n",
              "198               0             0             0              0         1   \n",
              "199               0             0             0              0         1   \n",
              "200               0             0             0              0         1   \n",
              "201               0             0             0              0         1   \n",
              "\n",
              "    sc_≥ 28.85  \n",
              "2            0  \n",
              "3            0  \n",
              "4            0  \n",
              "5            0  \n",
              "6            0  \n",
              "..         ...  \n",
              "197          0  \n",
              "198          0  \n",
              "199          0  \n",
              "200          0  \n",
              "201          0  \n",
              "\n",
              "[200 rows x 65 columns]"
            ],
            "text/html": [
              "\n",
              "  <div id=\"df-d3f94f97-9dc0-43a1-a38a-17e00db61a43\">\n",
              "    <div class=\"colab-df-container\">\n",
              "      <div>\n",
              "<style scoped>\n",
              "    .dataframe tbody tr th:only-of-type {\n",
              "        vertical-align: middle;\n",
              "    }\n",
              "\n",
              "    .dataframe tbody tr th {\n",
              "        vertical-align: top;\n",
              "    }\n",
              "\n",
              "    .dataframe thead th {\n",
              "        text-align: right;\n",
              "    }\n",
              "</style>\n",
              "<table border=\"1\" class=\"dataframe\">\n",
              "  <thead>\n",
              "    <tr style=\"text-align: right;\">\n",
              "      <th></th>\n",
              "      <th>bp (Diastolic)</th>\n",
              "      <th>bp limit</th>\n",
              "      <th>rbc</th>\n",
              "      <th>pc</th>\n",
              "      <th>pcc</th>\n",
              "      <th>ba</th>\n",
              "      <th>pot</th>\n",
              "      <th>hemo</th>\n",
              "      <th>pcv</th>\n",
              "      <th>rbcc</th>\n",
              "      <th>...</th>\n",
              "      <th>sod_143 - 148</th>\n",
              "      <th>sod_148 - 153</th>\n",
              "      <th>sod_&lt; 118</th>\n",
              "      <th>sod_≥ 158</th>\n",
              "      <th>sc_16.25 - 19.4</th>\n",
              "      <th>sc_3.65 - 6.8</th>\n",
              "      <th>sc_6.8 - 9.95</th>\n",
              "      <th>sc_9.95 - 13.1</th>\n",
              "      <th>sc_&lt; 3.65</th>\n",
              "      <th>sc_≥ 28.85</th>\n",
              "    </tr>\n",
              "  </thead>\n",
              "  <tbody>\n",
              "    <tr>\n",
              "      <th>2</th>\n",
              "      <td>0</td>\n",
              "      <td>0</td>\n",
              "      <td>0</td>\n",
              "      <td>0</td>\n",
              "      <td>0</td>\n",
              "      <td>0</td>\n",
              "      <td>&lt; 7.31</td>\n",
              "      <td>11.3 - 12.6</td>\n",
              "      <td>33.5 - 37.4</td>\n",
              "      <td>4.46 - 5.05</td>\n",
              "      <td>...</td>\n",
              "      <td>0</td>\n",
              "      <td>0</td>\n",
              "      <td>0</td>\n",
              "      <td>0</td>\n",
              "      <td>0</td>\n",
              "      <td>0</td>\n",
              "      <td>0</td>\n",
              "      <td>0</td>\n",
              "      <td>1</td>\n",
              "      <td>0</td>\n",
              "    </tr>\n",
              "    <tr>\n",
              "      <th>3</th>\n",
              "      <td>0</td>\n",
              "      <td>0</td>\n",
              "      <td>0</td>\n",
              "      <td>0</td>\n",
              "      <td>0</td>\n",
              "      <td>0</td>\n",
              "      <td>&lt; 7.31</td>\n",
              "      <td>11.3 - 12.6</td>\n",
              "      <td>33.5 - 37.4</td>\n",
              "      <td>4.46 - 5.05</td>\n",
              "      <td>...</td>\n",
              "      <td>0</td>\n",
              "      <td>0</td>\n",
              "      <td>0</td>\n",
              "      <td>0</td>\n",
              "      <td>0</td>\n",
              "      <td>0</td>\n",
              "      <td>0</td>\n",
              "      <td>0</td>\n",
              "      <td>1</td>\n",
              "      <td>0</td>\n",
              "    </tr>\n",
              "    <tr>\n",
              "      <th>4</th>\n",
              "      <td>0</td>\n",
              "      <td>0</td>\n",
              "      <td>1</td>\n",
              "      <td>1</td>\n",
              "      <td>0</td>\n",
              "      <td>1</td>\n",
              "      <td>&lt; 7.31</td>\n",
              "      <td>8.7 - 10</td>\n",
              "      <td>29.6 - 33.5</td>\n",
              "      <td>4.46 - 5.05</td>\n",
              "      <td>...</td>\n",
              "      <td>0</td>\n",
              "      <td>0</td>\n",
              "      <td>0</td>\n",
              "      <td>0</td>\n",
              "      <td>0</td>\n",
              "      <td>0</td>\n",
              "      <td>0</td>\n",
              "      <td>0</td>\n",
              "      <td>1</td>\n",
              "      <td>0</td>\n",
              "    </tr>\n",
              "    <tr>\n",
              "      <th>5</th>\n",
              "      <td>1</td>\n",
              "      <td>1</td>\n",
              "      <td>0</td>\n",
              "      <td>0</td>\n",
              "      <td>0</td>\n",
              "      <td>0</td>\n",
              "      <td>&lt; 7.31</td>\n",
              "      <td>13.9 - 15.2</td>\n",
              "      <td>41.3 - 45.2</td>\n",
              "      <td>4.46 - 5.05</td>\n",
              "      <td>...</td>\n",
              "      <td>0</td>\n",
              "      <td>0</td>\n",
              "      <td>0</td>\n",
              "      <td>0</td>\n",
              "      <td>0</td>\n",
              "      <td>0</td>\n",
              "      <td>0</td>\n",
              "      <td>0</td>\n",
              "      <td>1</td>\n",
              "      <td>0</td>\n",
              "    </tr>\n",
              "    <tr>\n",
              "      <th>6</th>\n",
              "      <td>0</td>\n",
              "      <td>0</td>\n",
              "      <td>0</td>\n",
              "      <td>0</td>\n",
              "      <td>0</td>\n",
              "      <td>0</td>\n",
              "      <td>&lt; 7.31</td>\n",
              "      <td>13.9 - 15.2</td>\n",
              "      <td>37.4 - 41.3</td>\n",
              "      <td>5.05 - 5.64</td>\n",
              "      <td>...</td>\n",
              "      <td>0</td>\n",
              "      <td>0</td>\n",
              "      <td>0</td>\n",
              "      <td>0</td>\n",
              "      <td>0</td>\n",
              "      <td>0</td>\n",
              "      <td>0</td>\n",
              "      <td>0</td>\n",
              "      <td>1</td>\n",
              "      <td>0</td>\n",
              "    </tr>\n",
              "    <tr>\n",
              "      <th>...</th>\n",
              "      <td>...</td>\n",
              "      <td>...</td>\n",
              "      <td>...</td>\n",
              "      <td>...</td>\n",
              "      <td>...</td>\n",
              "      <td>...</td>\n",
              "      <td>...</td>\n",
              "      <td>...</td>\n",
              "      <td>...</td>\n",
              "      <td>...</td>\n",
              "      <td>...</td>\n",
              "      <td>...</td>\n",
              "      <td>...</td>\n",
              "      <td>...</td>\n",
              "      <td>...</td>\n",
              "      <td>...</td>\n",
              "      <td>...</td>\n",
              "      <td>...</td>\n",
              "      <td>...</td>\n",
              "      <td>...</td>\n",
              "      <td>...</td>\n",
              "    </tr>\n",
              "    <tr>\n",
              "      <th>197</th>\n",
              "      <td>1</td>\n",
              "      <td>2</td>\n",
              "      <td>0</td>\n",
              "      <td>0</td>\n",
              "      <td>0</td>\n",
              "      <td>0</td>\n",
              "      <td>&lt; 7.31</td>\n",
              "      <td>8.7 - 10</td>\n",
              "      <td>29.6 - 33.5</td>\n",
              "      <td>4.46 - 5.05</td>\n",
              "      <td>...</td>\n",
              "      <td>0</td>\n",
              "      <td>0</td>\n",
              "      <td>0</td>\n",
              "      <td>0</td>\n",
              "      <td>0</td>\n",
              "      <td>0</td>\n",
              "      <td>0</td>\n",
              "      <td>0</td>\n",
              "      <td>1</td>\n",
              "      <td>0</td>\n",
              "    </tr>\n",
              "    <tr>\n",
              "      <th>198</th>\n",
              "      <td>0</td>\n",
              "      <td>0</td>\n",
              "      <td>0</td>\n",
              "      <td>0</td>\n",
              "      <td>0</td>\n",
              "      <td>0</td>\n",
              "      <td>&lt; 7.31</td>\n",
              "      <td>7.4 - 8.7</td>\n",
              "      <td>21.8 - 25.7</td>\n",
              "      <td>4.46 - 5.05</td>\n",
              "      <td>...</td>\n",
              "      <td>0</td>\n",
              "      <td>0</td>\n",
              "      <td>0</td>\n",
              "      <td>0</td>\n",
              "      <td>0</td>\n",
              "      <td>0</td>\n",
              "      <td>0</td>\n",
              "      <td>0</td>\n",
              "      <td>1</td>\n",
              "      <td>0</td>\n",
              "    </tr>\n",
              "    <tr>\n",
              "      <th>199</th>\n",
              "      <td>1</td>\n",
              "      <td>1</td>\n",
              "      <td>0</td>\n",
              "      <td>0</td>\n",
              "      <td>0</td>\n",
              "      <td>0</td>\n",
              "      <td>&lt; 7.31</td>\n",
              "      <td>15.2 - 16.5</td>\n",
              "      <td>37.4 - 41.3</td>\n",
              "      <td>6.23 - 6.82</td>\n",
              "      <td>...</td>\n",
              "      <td>1</td>\n",
              "      <td>0</td>\n",
              "      <td>0</td>\n",
              "      <td>0</td>\n",
              "      <td>0</td>\n",
              "      <td>0</td>\n",
              "      <td>0</td>\n",
              "      <td>0</td>\n",
              "      <td>1</td>\n",
              "      <td>0</td>\n",
              "    </tr>\n",
              "    <tr>\n",
              "      <th>200</th>\n",
              "      <td>1</td>\n",
              "      <td>1</td>\n",
              "      <td>0</td>\n",
              "      <td>0</td>\n",
              "      <td>0</td>\n",
              "      <td>0</td>\n",
              "      <td>&lt; 7.31</td>\n",
              "      <td>13.9 - 15.2</td>\n",
              "      <td>45.2 - 49.1</td>\n",
              "      <td>4.46 - 5.05</td>\n",
              "      <td>...</td>\n",
              "      <td>0</td>\n",
              "      <td>0</td>\n",
              "      <td>0</td>\n",
              "      <td>0</td>\n",
              "      <td>0</td>\n",
              "      <td>0</td>\n",
              "      <td>0</td>\n",
              "      <td>0</td>\n",
              "      <td>1</td>\n",
              "      <td>0</td>\n",
              "    </tr>\n",
              "    <tr>\n",
              "      <th>201</th>\n",
              "      <td>1</td>\n",
              "      <td>1</td>\n",
              "      <td>0</td>\n",
              "      <td>0</td>\n",
              "      <td>0</td>\n",
              "      <td>0</td>\n",
              "      <td>&lt; 7.31</td>\n",
              "      <td>12.6 - 13.9</td>\n",
              "      <td>37.4 - 41.3</td>\n",
              "      <td>3.87 - 4.46</td>\n",
              "      <td>...</td>\n",
              "      <td>0</td>\n",
              "      <td>0</td>\n",
              "      <td>0</td>\n",
              "      <td>0</td>\n",
              "      <td>0</td>\n",
              "      <td>0</td>\n",
              "      <td>0</td>\n",
              "      <td>0</td>\n",
              "      <td>1</td>\n",
              "      <td>0</td>\n",
              "    </tr>\n",
              "  </tbody>\n",
              "</table>\n",
              "<p>200 rows × 65 columns</p>\n",
              "</div>\n",
              "      <button class=\"colab-df-convert\" onclick=\"convertToInteractive('df-d3f94f97-9dc0-43a1-a38a-17e00db61a43')\"\n",
              "              title=\"Convert this dataframe to an interactive table.\"\n",
              "              style=\"display:none;\">\n",
              "        \n",
              "  <svg xmlns=\"http://www.w3.org/2000/svg\" height=\"24px\"viewBox=\"0 0 24 24\"\n",
              "       width=\"24px\">\n",
              "    <path d=\"M0 0h24v24H0V0z\" fill=\"none\"/>\n",
              "    <path d=\"M18.56 5.44l.94 2.06.94-2.06 2.06-.94-2.06-.94-.94-2.06-.94 2.06-2.06.94zm-11 1L8.5 8.5l.94-2.06 2.06-.94-2.06-.94L8.5 2.5l-.94 2.06-2.06.94zm10 10l.94 2.06.94-2.06 2.06-.94-2.06-.94-.94-2.06-.94 2.06-2.06.94z\"/><path d=\"M17.41 7.96l-1.37-1.37c-.4-.4-.92-.59-1.43-.59-.52 0-1.04.2-1.43.59L10.3 9.45l-7.72 7.72c-.78.78-.78 2.05 0 2.83L4 21.41c.39.39.9.59 1.41.59.51 0 1.02-.2 1.41-.59l7.78-7.78 2.81-2.81c.8-.78.8-2.07 0-2.86zM5.41 20L4 18.59l7.72-7.72 1.47 1.35L5.41 20z\"/>\n",
              "  </svg>\n",
              "      </button>\n",
              "      \n",
              "  <style>\n",
              "    .colab-df-container {\n",
              "      display:flex;\n",
              "      flex-wrap:wrap;\n",
              "      gap: 12px;\n",
              "    }\n",
              "\n",
              "    .colab-df-convert {\n",
              "      background-color: #E8F0FE;\n",
              "      border: none;\n",
              "      border-radius: 50%;\n",
              "      cursor: pointer;\n",
              "      display: none;\n",
              "      fill: #1967D2;\n",
              "      height: 32px;\n",
              "      padding: 0 0 0 0;\n",
              "      width: 32px;\n",
              "    }\n",
              "\n",
              "    .colab-df-convert:hover {\n",
              "      background-color: #E2EBFA;\n",
              "      box-shadow: 0px 1px 2px rgba(60, 64, 67, 0.3), 0px 1px 3px 1px rgba(60, 64, 67, 0.15);\n",
              "      fill: #174EA6;\n",
              "    }\n",
              "\n",
              "    [theme=dark] .colab-df-convert {\n",
              "      background-color: #3B4455;\n",
              "      fill: #D2E3FC;\n",
              "    }\n",
              "\n",
              "    [theme=dark] .colab-df-convert:hover {\n",
              "      background-color: #434B5C;\n",
              "      box-shadow: 0px 1px 3px 1px rgba(0, 0, 0, 0.15);\n",
              "      filter: drop-shadow(0px 1px 2px rgba(0, 0, 0, 0.3));\n",
              "      fill: #FFFFFF;\n",
              "    }\n",
              "  </style>\n",
              "\n",
              "      <script>\n",
              "        const buttonEl =\n",
              "          document.querySelector('#df-d3f94f97-9dc0-43a1-a38a-17e00db61a43 button.colab-df-convert');\n",
              "        buttonEl.style.display =\n",
              "          google.colab.kernel.accessAllowed ? 'block' : 'none';\n",
              "\n",
              "        async function convertToInteractive(key) {\n",
              "          const element = document.querySelector('#df-d3f94f97-9dc0-43a1-a38a-17e00db61a43');\n",
              "          const dataTable =\n",
              "            await google.colab.kernel.invokeFunction('convertToInteractive',\n",
              "                                                     [key], {});\n",
              "          if (!dataTable) return;\n",
              "\n",
              "          const docLinkHtml = 'Like what you see? Visit the ' +\n",
              "            '<a target=\"_blank\" href=https://colab.research.google.com/notebooks/data_table.ipynb>data table notebook</a>'\n",
              "            + ' to learn more about interactive tables.';\n",
              "          element.innerHTML = '';\n",
              "          dataTable['output_type'] = 'display_data';\n",
              "          await google.colab.output.renderOutput(dataTable, element);\n",
              "          const docLink = document.createElement('div');\n",
              "          docLink.innerHTML = docLinkHtml;\n",
              "          element.appendChild(docLink);\n",
              "        }\n",
              "      </script>\n",
              "    </div>\n",
              "  </div>\n",
              "  "
            ]
          },
          "metadata": {},
          "execution_count": 56
        }
      ]
    },
    {
      "cell_type": "code",
      "source": [
        "cols[10:15]"
      ],
      "metadata": {
        "colab": {
          "base_uri": "https://localhost:8080/"
        },
        "id": "RXIFwloOTRkK",
        "outputId": "4e69f034-2082-434d-e3c5-454e85a7f487"
      },
      "execution_count": null,
      "outputs": [
        {
          "output_type": "execute_result",
          "data": {
            "text/plain": [
              "['pot', 'hemo', 'pcv', 'rbcc', 'wbcc']"
            ]
          },
          "metadata": {},
          "execution_count": 65
        }
      ]
    },
    {
      "cell_type": "code",
      "source": [
        "df = pd.get_dummies(df,columns=['pot', 'hemo', 'pcv', 'rbcc', 'wbcc'],drop_first=True)"
      ],
      "metadata": {
        "id": "Jz1F1tyvTe_M"
      },
      "execution_count": null,
      "outputs": []
    },
    {
      "cell_type": "code",
      "source": [
        "df"
      ],
      "metadata": {
        "colab": {
          "base_uri": "https://localhost:8080/",
          "height": 505
        },
        "id": "xWXndiUUThbv",
        "outputId": "d417a88c-6c21-47d6-fbac-079a291b7e18"
      },
      "execution_count": null,
      "outputs": [
        {
          "output_type": "execute_result",
          "data": {
            "text/plain": [
              "    bp (Diastolic) bp limit rbc pc pcc ba htn dm cad appet  ... rbcc_< 2.69  \\\n",
              "2                0        0   0  0   0  0   0  0   0     0  ...           0   \n",
              "3                0        0   0  0   0  0   0  0   0     0  ...           0   \n",
              "4                0        0   1  1   0  1   0  0   0     1  ...           0   \n",
              "5                1        1   0  0   0  0   0  0   0     0  ...           0   \n",
              "6                0        0   0  0   0  0   0  1   0     1  ...           0   \n",
              "..             ...      ...  .. ..  .. ..  .. ..  ..   ...  ...         ...   \n",
              "197              1        2   0  0   0  0   1  1   0     0  ...           0   \n",
              "198              0        0   0  0   0  0   0  1   0     0  ...           0   \n",
              "199              1        1   0  0   0  0   0  0   0     0  ...           0   \n",
              "200              1        1   0  0   0  0   0  0   0     0  ...           0   \n",
              "201              1        1   0  0   0  0   1  1   0     0  ...           0   \n",
              "\n",
              "    rbcc_≥ 7.41 wbcc_14500 - 16880 wbcc_16880 - 19260 wbcc_19260 - 21640  \\\n",
              "2             0                  0                  0                  0   \n",
              "3             0                  0                  0                  0   \n",
              "4             0                  1                  0                  0   \n",
              "5             0                  0                  0                  0   \n",
              "6             0                  0                  0                  0   \n",
              "..          ...                ...                ...                ...   \n",
              "197           0                  0                  0                  0   \n",
              "198           0                  0                  0                  0   \n",
              "199           0                  0                  0                  0   \n",
              "200           0                  0                  0                  0   \n",
              "201           0                  0                  0                  0   \n",
              "\n",
              "    wbcc_4980 - 7360  wbcc_7360 - 9740  wbcc_9740 - 12120  wbcc_< 4980  \\\n",
              "2                  0                 1                  0            0   \n",
              "3                  0                 0                  0            0   \n",
              "4                  0                 0                  0            0   \n",
              "5                  0                 1                  0            0   \n",
              "6                  0                 1                  0            0   \n",
              "..               ...               ...                ...          ...   \n",
              "197                0                 1                  0            0   \n",
              "198                0                 1                  0            0   \n",
              "199                0                 1                  0            0   \n",
              "200                1                 0                  0            0   \n",
              "201                0                 0                  1            0   \n",
              "\n",
              "     wbcc_≥ 24020  \n",
              "2               0  \n",
              "3               0  \n",
              "4               0  \n",
              "5               0  \n",
              "6               0  \n",
              "..            ...  \n",
              "197             0  \n",
              "198             0  \n",
              "199             0  \n",
              "200             0  \n",
              "201             0  \n",
              "\n",
              "[200 rows x 97 columns]"
            ],
            "text/html": [
              "\n",
              "  <div id=\"df-7b3c1601-dd84-4aa7-9101-f845b9371b4a\">\n",
              "    <div class=\"colab-df-container\">\n",
              "      <div>\n",
              "<style scoped>\n",
              "    .dataframe tbody tr th:only-of-type {\n",
              "        vertical-align: middle;\n",
              "    }\n",
              "\n",
              "    .dataframe tbody tr th {\n",
              "        vertical-align: top;\n",
              "    }\n",
              "\n",
              "    .dataframe thead th {\n",
              "        text-align: right;\n",
              "    }\n",
              "</style>\n",
              "<table border=\"1\" class=\"dataframe\">\n",
              "  <thead>\n",
              "    <tr style=\"text-align: right;\">\n",
              "      <th></th>\n",
              "      <th>bp (Diastolic)</th>\n",
              "      <th>bp limit</th>\n",
              "      <th>rbc</th>\n",
              "      <th>pc</th>\n",
              "      <th>pcc</th>\n",
              "      <th>ba</th>\n",
              "      <th>htn</th>\n",
              "      <th>dm</th>\n",
              "      <th>cad</th>\n",
              "      <th>appet</th>\n",
              "      <th>...</th>\n",
              "      <th>rbcc_&lt; 2.69</th>\n",
              "      <th>rbcc_≥ 7.41</th>\n",
              "      <th>wbcc_14500 - 16880</th>\n",
              "      <th>wbcc_16880 - 19260</th>\n",
              "      <th>wbcc_19260 - 21640</th>\n",
              "      <th>wbcc_4980 - 7360</th>\n",
              "      <th>wbcc_7360 - 9740</th>\n",
              "      <th>wbcc_9740 - 12120</th>\n",
              "      <th>wbcc_&lt; 4980</th>\n",
              "      <th>wbcc_≥ 24020</th>\n",
              "    </tr>\n",
              "  </thead>\n",
              "  <tbody>\n",
              "    <tr>\n",
              "      <th>2</th>\n",
              "      <td>0</td>\n",
              "      <td>0</td>\n",
              "      <td>0</td>\n",
              "      <td>0</td>\n",
              "      <td>0</td>\n",
              "      <td>0</td>\n",
              "      <td>0</td>\n",
              "      <td>0</td>\n",
              "      <td>0</td>\n",
              "      <td>0</td>\n",
              "      <td>...</td>\n",
              "      <td>0</td>\n",
              "      <td>0</td>\n",
              "      <td>0</td>\n",
              "      <td>0</td>\n",
              "      <td>0</td>\n",
              "      <td>0</td>\n",
              "      <td>1</td>\n",
              "      <td>0</td>\n",
              "      <td>0</td>\n",
              "      <td>0</td>\n",
              "    </tr>\n",
              "    <tr>\n",
              "      <th>3</th>\n",
              "      <td>0</td>\n",
              "      <td>0</td>\n",
              "      <td>0</td>\n",
              "      <td>0</td>\n",
              "      <td>0</td>\n",
              "      <td>0</td>\n",
              "      <td>0</td>\n",
              "      <td>0</td>\n",
              "      <td>0</td>\n",
              "      <td>0</td>\n",
              "      <td>...</td>\n",
              "      <td>0</td>\n",
              "      <td>0</td>\n",
              "      <td>0</td>\n",
              "      <td>0</td>\n",
              "      <td>0</td>\n",
              "      <td>0</td>\n",
              "      <td>0</td>\n",
              "      <td>0</td>\n",
              "      <td>0</td>\n",
              "      <td>0</td>\n",
              "    </tr>\n",
              "    <tr>\n",
              "      <th>4</th>\n",
              "      <td>0</td>\n",
              "      <td>0</td>\n",
              "      <td>1</td>\n",
              "      <td>1</td>\n",
              "      <td>0</td>\n",
              "      <td>1</td>\n",
              "      <td>0</td>\n",
              "      <td>0</td>\n",
              "      <td>0</td>\n",
              "      <td>1</td>\n",
              "      <td>...</td>\n",
              "      <td>0</td>\n",
              "      <td>0</td>\n",
              "      <td>1</td>\n",
              "      <td>0</td>\n",
              "      <td>0</td>\n",
              "      <td>0</td>\n",
              "      <td>0</td>\n",
              "      <td>0</td>\n",
              "      <td>0</td>\n",
              "      <td>0</td>\n",
              "    </tr>\n",
              "    <tr>\n",
              "      <th>5</th>\n",
              "      <td>1</td>\n",
              "      <td>1</td>\n",
              "      <td>0</td>\n",
              "      <td>0</td>\n",
              "      <td>0</td>\n",
              "      <td>0</td>\n",
              "      <td>0</td>\n",
              "      <td>0</td>\n",
              "      <td>0</td>\n",
              "      <td>0</td>\n",
              "      <td>...</td>\n",
              "      <td>0</td>\n",
              "      <td>0</td>\n",
              "      <td>0</td>\n",
              "      <td>0</td>\n",
              "      <td>0</td>\n",
              "      <td>0</td>\n",
              "      <td>1</td>\n",
              "      <td>0</td>\n",
              "      <td>0</td>\n",
              "      <td>0</td>\n",
              "    </tr>\n",
              "    <tr>\n",
              "      <th>6</th>\n",
              "      <td>0</td>\n",
              "      <td>0</td>\n",
              "      <td>0</td>\n",
              "      <td>0</td>\n",
              "      <td>0</td>\n",
              "      <td>0</td>\n",
              "      <td>0</td>\n",
              "      <td>1</td>\n",
              "      <td>0</td>\n",
              "      <td>1</td>\n",
              "      <td>...</td>\n",
              "      <td>0</td>\n",
              "      <td>0</td>\n",
              "      <td>0</td>\n",
              "      <td>0</td>\n",
              "      <td>0</td>\n",
              "      <td>0</td>\n",
              "      <td>1</td>\n",
              "      <td>0</td>\n",
              "      <td>0</td>\n",
              "      <td>0</td>\n",
              "    </tr>\n",
              "    <tr>\n",
              "      <th>...</th>\n",
              "      <td>...</td>\n",
              "      <td>...</td>\n",
              "      <td>...</td>\n",
              "      <td>...</td>\n",
              "      <td>...</td>\n",
              "      <td>...</td>\n",
              "      <td>...</td>\n",
              "      <td>...</td>\n",
              "      <td>...</td>\n",
              "      <td>...</td>\n",
              "      <td>...</td>\n",
              "      <td>...</td>\n",
              "      <td>...</td>\n",
              "      <td>...</td>\n",
              "      <td>...</td>\n",
              "      <td>...</td>\n",
              "      <td>...</td>\n",
              "      <td>...</td>\n",
              "      <td>...</td>\n",
              "      <td>...</td>\n",
              "      <td>...</td>\n",
              "    </tr>\n",
              "    <tr>\n",
              "      <th>197</th>\n",
              "      <td>1</td>\n",
              "      <td>2</td>\n",
              "      <td>0</td>\n",
              "      <td>0</td>\n",
              "      <td>0</td>\n",
              "      <td>0</td>\n",
              "      <td>1</td>\n",
              "      <td>1</td>\n",
              "      <td>0</td>\n",
              "      <td>0</td>\n",
              "      <td>...</td>\n",
              "      <td>0</td>\n",
              "      <td>0</td>\n",
              "      <td>0</td>\n",
              "      <td>0</td>\n",
              "      <td>0</td>\n",
              "      <td>0</td>\n",
              "      <td>1</td>\n",
              "      <td>0</td>\n",
              "      <td>0</td>\n",
              "      <td>0</td>\n",
              "    </tr>\n",
              "    <tr>\n",
              "      <th>198</th>\n",
              "      <td>0</td>\n",
              "      <td>0</td>\n",
              "      <td>0</td>\n",
              "      <td>0</td>\n",
              "      <td>0</td>\n",
              "      <td>0</td>\n",
              "      <td>0</td>\n",
              "      <td>1</td>\n",
              "      <td>0</td>\n",
              "      <td>0</td>\n",
              "      <td>...</td>\n",
              "      <td>0</td>\n",
              "      <td>0</td>\n",
              "      <td>0</td>\n",
              "      <td>0</td>\n",
              "      <td>0</td>\n",
              "      <td>0</td>\n",
              "      <td>1</td>\n",
              "      <td>0</td>\n",
              "      <td>0</td>\n",
              "      <td>0</td>\n",
              "    </tr>\n",
              "    <tr>\n",
              "      <th>199</th>\n",
              "      <td>1</td>\n",
              "      <td>1</td>\n",
              "      <td>0</td>\n",
              "      <td>0</td>\n",
              "      <td>0</td>\n",
              "      <td>0</td>\n",
              "      <td>0</td>\n",
              "      <td>0</td>\n",
              "      <td>0</td>\n",
              "      <td>0</td>\n",
              "      <td>...</td>\n",
              "      <td>0</td>\n",
              "      <td>0</td>\n",
              "      <td>0</td>\n",
              "      <td>0</td>\n",
              "      <td>0</td>\n",
              "      <td>0</td>\n",
              "      <td>1</td>\n",
              "      <td>0</td>\n",
              "      <td>0</td>\n",
              "      <td>0</td>\n",
              "    </tr>\n",
              "    <tr>\n",
              "      <th>200</th>\n",
              "      <td>1</td>\n",
              "      <td>1</td>\n",
              "      <td>0</td>\n",
              "      <td>0</td>\n",
              "      <td>0</td>\n",
              "      <td>0</td>\n",
              "      <td>0</td>\n",
              "      <td>0</td>\n",
              "      <td>0</td>\n",
              "      <td>0</td>\n",
              "      <td>...</td>\n",
              "      <td>0</td>\n",
              "      <td>0</td>\n",
              "      <td>0</td>\n",
              "      <td>0</td>\n",
              "      <td>0</td>\n",
              "      <td>1</td>\n",
              "      <td>0</td>\n",
              "      <td>0</td>\n",
              "      <td>0</td>\n",
              "      <td>0</td>\n",
              "    </tr>\n",
              "    <tr>\n",
              "      <th>201</th>\n",
              "      <td>1</td>\n",
              "      <td>1</td>\n",
              "      <td>0</td>\n",
              "      <td>0</td>\n",
              "      <td>0</td>\n",
              "      <td>0</td>\n",
              "      <td>1</td>\n",
              "      <td>1</td>\n",
              "      <td>0</td>\n",
              "      <td>0</td>\n",
              "      <td>...</td>\n",
              "      <td>0</td>\n",
              "      <td>0</td>\n",
              "      <td>0</td>\n",
              "      <td>0</td>\n",
              "      <td>0</td>\n",
              "      <td>0</td>\n",
              "      <td>0</td>\n",
              "      <td>1</td>\n",
              "      <td>0</td>\n",
              "      <td>0</td>\n",
              "    </tr>\n",
              "  </tbody>\n",
              "</table>\n",
              "<p>200 rows × 97 columns</p>\n",
              "</div>\n",
              "      <button class=\"colab-df-convert\" onclick=\"convertToInteractive('df-7b3c1601-dd84-4aa7-9101-f845b9371b4a')\"\n",
              "              title=\"Convert this dataframe to an interactive table.\"\n",
              "              style=\"display:none;\">\n",
              "        \n",
              "  <svg xmlns=\"http://www.w3.org/2000/svg\" height=\"24px\"viewBox=\"0 0 24 24\"\n",
              "       width=\"24px\">\n",
              "    <path d=\"M0 0h24v24H0V0z\" fill=\"none\"/>\n",
              "    <path d=\"M18.56 5.44l.94 2.06.94-2.06 2.06-.94-2.06-.94-.94-2.06-.94 2.06-2.06.94zm-11 1L8.5 8.5l.94-2.06 2.06-.94-2.06-.94L8.5 2.5l-.94 2.06-2.06.94zm10 10l.94 2.06.94-2.06 2.06-.94-2.06-.94-.94-2.06-.94 2.06-2.06.94z\"/><path d=\"M17.41 7.96l-1.37-1.37c-.4-.4-.92-.59-1.43-.59-.52 0-1.04.2-1.43.59L10.3 9.45l-7.72 7.72c-.78.78-.78 2.05 0 2.83L4 21.41c.39.39.9.59 1.41.59.51 0 1.02-.2 1.41-.59l7.78-7.78 2.81-2.81c.8-.78.8-2.07 0-2.86zM5.41 20L4 18.59l7.72-7.72 1.47 1.35L5.41 20z\"/>\n",
              "  </svg>\n",
              "      </button>\n",
              "      \n",
              "  <style>\n",
              "    .colab-df-container {\n",
              "      display:flex;\n",
              "      flex-wrap:wrap;\n",
              "      gap: 12px;\n",
              "    }\n",
              "\n",
              "    .colab-df-convert {\n",
              "      background-color: #E8F0FE;\n",
              "      border: none;\n",
              "      border-radius: 50%;\n",
              "      cursor: pointer;\n",
              "      display: none;\n",
              "      fill: #1967D2;\n",
              "      height: 32px;\n",
              "      padding: 0 0 0 0;\n",
              "      width: 32px;\n",
              "    }\n",
              "\n",
              "    .colab-df-convert:hover {\n",
              "      background-color: #E2EBFA;\n",
              "      box-shadow: 0px 1px 2px rgba(60, 64, 67, 0.3), 0px 1px 3px 1px rgba(60, 64, 67, 0.15);\n",
              "      fill: #174EA6;\n",
              "    }\n",
              "\n",
              "    [theme=dark] .colab-df-convert {\n",
              "      background-color: #3B4455;\n",
              "      fill: #D2E3FC;\n",
              "    }\n",
              "\n",
              "    [theme=dark] .colab-df-convert:hover {\n",
              "      background-color: #434B5C;\n",
              "      box-shadow: 0px 1px 3px 1px rgba(0, 0, 0, 0.15);\n",
              "      filter: drop-shadow(0px 1px 2px rgba(0, 0, 0, 0.3));\n",
              "      fill: #FFFFFF;\n",
              "    }\n",
              "  </style>\n",
              "\n",
              "      <script>\n",
              "        const buttonEl =\n",
              "          document.querySelector('#df-7b3c1601-dd84-4aa7-9101-f845b9371b4a button.colab-df-convert');\n",
              "        buttonEl.style.display =\n",
              "          google.colab.kernel.accessAllowed ? 'block' : 'none';\n",
              "\n",
              "        async function convertToInteractive(key) {\n",
              "          const element = document.querySelector('#df-7b3c1601-dd84-4aa7-9101-f845b9371b4a');\n",
              "          const dataTable =\n",
              "            await google.colab.kernel.invokeFunction('convertToInteractive',\n",
              "                                                     [key], {});\n",
              "          if (!dataTable) return;\n",
              "\n",
              "          const docLinkHtml = 'Like what you see? Visit the ' +\n",
              "            '<a target=\"_blank\" href=https://colab.research.google.com/notebooks/data_table.ipynb>data table notebook</a>'\n",
              "            + ' to learn more about interactive tables.';\n",
              "          element.innerHTML = '';\n",
              "          dataTable['output_type'] = 'display_data';\n",
              "          await google.colab.output.renderOutput(dataTable, element);\n",
              "          const docLink = document.createElement('div');\n",
              "          docLink.innerHTML = docLinkHtml;\n",
              "          element.appendChild(docLink);\n",
              "        }\n",
              "      </script>\n",
              "    </div>\n",
              "  </div>\n",
              "  "
            ]
          },
          "metadata": {},
          "execution_count": 67
        }
      ]
    },
    {
      "cell_type": "code",
      "source": [
        "cols[21:25]"
      ],
      "metadata": {
        "colab": {
          "base_uri": "https://localhost:8080/"
        },
        "id": "VVhpbHILV6Xp",
        "outputId": "27581490-2e25-4b61-a0cf-b55e335b5a30"
      },
      "execution_count": null,
      "outputs": [
        {
          "output_type": "execute_result",
          "data": {
            "text/plain": [
              "['grf', 'stage', 'affected', 'age']"
            ]
          },
          "metadata": {},
          "execution_count": 70
        }
      ]
    },
    {
      "cell_type": "code",
      "source": [
        "df = pd.get_dummies(df,columns=['grf', 'stage', 'affected', 'age'],drop_first=True)"
      ],
      "metadata": {
        "id": "hmY5O-DIWJPk"
      },
      "execution_count": null,
      "outputs": []
    },
    {
      "cell_type": "code",
      "source": [
        "cols = []\n",
        "\n",
        "for i in df.columns:\n",
        "  cols.append(\"{}\".format(i))"
      ],
      "metadata": {
        "id": "BlXUFCjqWVKX"
      },
      "execution_count": null,
      "outputs": []
    },
    {
      "cell_type": "code",
      "source": [
        "cols"
      ],
      "metadata": {
        "colab": {
          "base_uri": "https://localhost:8080/"
        },
        "id": "qQey57bdWWdE",
        "outputId": "7f6079a2-9a15-4fdd-ad35-747bffdad525"
      },
      "execution_count": null,
      "outputs": [
        {
          "output_type": "execute_result",
          "data": {
            "text/plain": [
              "['bp (Diastolic)',\n",
              " 'bp limit',\n",
              " 'rbc',\n",
              " 'pc',\n",
              " 'pcc',\n",
              " 'ba',\n",
              " 'htn',\n",
              " 'dm',\n",
              " 'cad',\n",
              " 'appet',\n",
              " 'pe',\n",
              " 'ane',\n",
              " 'sg_1.015 - 1.017',\n",
              " 'sg_1.019 - 1.021',\n",
              " 'sg_< 1.007',\n",
              " 'sg_≥ 1.023',\n",
              " 'al_2 - 2',\n",
              " 'al_3 - 3',\n",
              " 'al_< 0',\n",
              " 'al_≥ 4',\n",
              " 'class_notckd',\n",
              " 'su_2 - 2',\n",
              " 'su_3 - 4',\n",
              " 'su_4 - 4',\n",
              " 'su_< 0',\n",
              " 'su_≥ 4',\n",
              " 'bgr_154 - 196',\n",
              " 'bgr_196 - 238',\n",
              " 'bgr_238 - 280',\n",
              " 'bgr_280 - 322',\n",
              " 'bgr_322 - 364',\n",
              " 'bgr_364 - 406',\n",
              " 'bgr_406 - 448',\n",
              " 'bgr_< 112',\n",
              " 'bgr_≥ 448',\n",
              " 'bu_162.4 - 200.5',\n",
              " 'bu_200.5 - 238.6',\n",
              " 'bu_238.6 - 276.7',\n",
              " 'bu_48.1 - 86.2',\n",
              " 'bu_86.2 - 124.3',\n",
              " 'bu_< 48.1',\n",
              " 'bu_≥ 352.9',\n",
              " 'sod_123 - 128',\n",
              " 'sod_128 - 133',\n",
              " 'sod_133 - 138',\n",
              " 'sod_138 - 143',\n",
              " 'sod_143 - 148',\n",
              " 'sod_148 - 153',\n",
              " 'sod_< 118',\n",
              " 'sod_≥ 158',\n",
              " 'sc_16.25 - 19.4',\n",
              " 'sc_3.65 - 6.8',\n",
              " 'sc_6.8 - 9.95',\n",
              " 'sc_9.95 - 13.1',\n",
              " 'sc_< 3.65',\n",
              " 'sc_≥ 28.85',\n",
              " 'pot_7.31 - 11.72',\n",
              " 'pot_< 7.31',\n",
              " 'pot_≥ 42.59',\n",
              " 'hemo_11.3 - 12.6',\n",
              " 'hemo_12.6 - 13.9',\n",
              " 'hemo_13.9 - 15.2',\n",
              " 'hemo_15.2 - 16.5',\n",
              " 'hemo_6.1 - 7.4',\n",
              " 'hemo_7.4 - 8.7',\n",
              " 'hemo_8.7 - 10',\n",
              " 'hemo_< 6.1',\n",
              " 'hemo_≥ 16.5',\n",
              " 'pcv_21.8 - 25.7',\n",
              " 'pcv_25.7 - 29.6',\n",
              " 'pcv_29.6 - 33.5',\n",
              " 'pcv_33.5 - 37.4',\n",
              " 'pcv_37.4 - 41.3',\n",
              " 'pcv_41.3 - 45.2',\n",
              " 'pcv_45.2 - 49.1',\n",
              " 'pcv_< 17.9',\n",
              " 'pcv_≥ 49.1',\n",
              " 'rbcc_3.28 - 3.87',\n",
              " 'rbcc_3.87 - 4.46',\n",
              " 'rbcc_4.46 - 5.05',\n",
              " 'rbcc_5.05 - 5.64',\n",
              " 'rbcc_5.64 - 6.23',\n",
              " 'rbcc_6.23 - 6.82',\n",
              " 'rbcc_< 2.69',\n",
              " 'rbcc_≥ 7.41',\n",
              " 'wbcc_14500 - 16880',\n",
              " 'wbcc_16880 - 19260',\n",
              " 'wbcc_19260 - 21640',\n",
              " 'wbcc_4980 - 7360',\n",
              " 'wbcc_7360 - 9740',\n",
              " 'wbcc_9740 - 12120',\n",
              " 'wbcc_< 4980',\n",
              " 'wbcc_≥ 24020',\n",
              " 'grf_102.115 - 127.281',\n",
              " 'grf_127.281 - 152.446',\n",
              " 'grf_152.446 - 177.612',\n",
              " 'grf_177.612 - 202.778',\n",
              " 'grf_202.778 - 227.944',\n",
              " 'grf_26.6175 - 51.7832',\n",
              " 'grf_51.7832 - 76.949',\n",
              " 'grf_76.949 - 102.115',\n",
              " 'grf_< 26.6175',\n",
              " 'grf_≥ 227.944',\n",
              " 'stage_s2',\n",
              " 'stage_s3',\n",
              " 'stage_s4',\n",
              " 'stage_s5',\n",
              " 'affected_1',\n",
              " 'age_20 - 27',\n",
              " 'age_27 - 35',\n",
              " 'age_35 - 43',\n",
              " 'age_43 - 51',\n",
              " 'age_51 - 59',\n",
              " 'age_59 - 66',\n",
              " 'age_66 - 74',\n",
              " 'age_< 12',\n",
              " 'age_≥ 74']"
            ]
          },
          "metadata": {},
          "execution_count": 77
        }
      ]
    },
    {
      "cell_type": "code",
      "source": [
        "df = df.drop(columns=['class_notckd'],axis=1)"
      ],
      "metadata": {
        "id": "l3ES7LumXE8Z"
      },
      "execution_count": null,
      "outputs": []
    },
    {
      "cell_type": "code",
      "source": [
        "df.corr()['affected_1'].sort_values()[:-1]"
      ],
      "metadata": {
        "colab": {
          "base_uri": "https://localhost:8080/"
        },
        "id": "ZlLkQG7mWoOw",
        "outputId": "722b9412-2822-492a-c0b7-f7291572b0bd"
      },
      "execution_count": null,
      "outputs": [
        {
          "output_type": "execute_result",
          "data": {
            "text/plain": [
              "al_< 0             -0.638222\n",
              "sg_≥ 1.023         -0.522250\n",
              "bu_< 48.1          -0.504116\n",
              "hemo_15.2 - 16.5   -0.444444\n",
              "pcv_≥ 49.1         -0.431993\n",
              "                      ...   \n",
              "stage_s3            0.321217\n",
              "hemo_11.3 - 12.6    0.330359\n",
              "stage_s5            0.345425\n",
              "sg_1.015 - 1.017    0.351391\n",
              "grf_< 26.6175       0.494326\n",
              "Name: affected_1, Length: 103, dtype: float64"
            ]
          },
          "metadata": {},
          "execution_count": 88
        }
      ]
    },
    {
      "cell_type": "code",
      "source": [
        "df = df.sample(frac=1)"
      ],
      "metadata": {
        "id": "Xloq3IHbXO_K"
      },
      "execution_count": null,
      "outputs": []
    },
    {
      "cell_type": "code",
      "source": [
        "sns.countplot(df['affected_1'])"
      ],
      "metadata": {
        "colab": {
          "base_uri": "https://localhost:8080/",
          "height": 352
        },
        "id": "Yr18fFh9ZM5_",
        "outputId": "25f70462-68d6-4e72-99ed-7410f9a4cc5e"
      },
      "execution_count": null,
      "outputs": [
        {
          "output_type": "stream",
          "name": "stderr",
          "text": [
            "/usr/local/lib/python3.8/dist-packages/seaborn/_decorators.py:36: FutureWarning: Pass the following variable as a keyword arg: x. From version 0.12, the only valid positional argument will be `data`, and passing other arguments without an explicit keyword will result in an error or misinterpretation.\n",
            "  warnings.warn(\n"
          ]
        },
        {
          "output_type": "execute_result",
          "data": {
            "text/plain": [
              "<matplotlib.axes._subplots.AxesSubplot at 0x7f48492e3b50>"
            ]
          },
          "metadata": {},
          "execution_count": 102
        },
        {
          "output_type": "display_data",
          "data": {
            "text/plain": [
              "<Figure size 432x288 with 1 Axes>"
            ],
            "image/png": "[encoded data removed]"
          },
          "metadata": {
            "needs_background": "light"
          }
        }
      ]
    },
    {
      "cell_type": "code",
      "source": [
        "from sklearn.model_selection import train_test_split"
      ],
      "metadata": {
        "id": "O2ZIxt_bYBE5"
      },
      "execution_count": null,
      "outputs": []
    },
    {
      "cell_type": "code",
      "source": [
        "X = df.drop(columns=['affected_1'],axis=1)\n",
        "\n",
        "y = df['affected_1']"
      ],
      "metadata": {
        "id": "rBZJX2GwYHmy"
      },
      "execution_count": null,
      "outputs": []
    },
    {
      "cell_type": "code",
      "source": [
        "X_train, X_test, y_train, y_test = train_test_split(X, y, test_size=0.25, random_state=42)"
      ],
      "metadata": {
        "id": "up4jAzsZYOD3"
      },
      "execution_count": null,
      "outputs": []
    },
    {
      "cell_type": "code",
      "source": [
        "from sklearn.preprocessing import MinMaxScaler"
      ],
      "metadata": {
        "id": "5Le5D9kTYVnj"
      },
      "execution_count": null,
      "outputs": []
    },
    {
      "cell_type": "code",
      "source": [
        "scaler = MinMaxScaler()"
      ],
      "metadata": {
        "id": "-lo4mAXDYbxA"
      },
      "execution_count": null,
      "outputs": []
    },
    {
      "cell_type": "code",
      "source": [
        "X_train = scaler.fit_transform(X_train)"
      ],
      "metadata": {
        "id": "2npgY1XeYdUf"
      },
      "execution_count": null,
      "outputs": []
    },
    {
      "cell_type": "code",
      "source": [
        "X_test = scaler.transform(X_test)"
      ],
      "metadata": {
        "id": "V3g59XXcYgwA"
      },
      "execution_count": null,
      "outputs": []
    },
    {
      "cell_type": "code",
      "source": [
        "from tensorflow.keras.models import Sequential"
      ],
      "metadata": {
        "id": "kGRYn490Yi-l"
      },
      "execution_count": null,
      "outputs": []
    },
    {
      "cell_type": "code",
      "source": [
        "from tensorflow.keras.layers import Dense, Dropout"
      ],
      "metadata": {
        "id": "GubuFIv9ZUd2"
      },
      "execution_count": null,
      "outputs": []
    },
    {
      "cell_type": "code",
      "source": [
        "model = Sequential()\n",
        "\n",
        "model.add(Dense(128, activation='relu'))\n",
        "model.add(Dropout(0.15))\n",
        "\n",
        "model.add(Dense(64, activation='relu'))\n",
        "model.add(Dropout(0.15))\n",
        "\n",
        "model.add(Dense(32, activation='relu'))\n",
        "\n",
        "model.add(Dense(1, activation='sigmoid'))\n",
        "\n",
        "model.compile(loss='binary_crossentropy', metrics=['accuracy'], optimizer='adam')"
      ],
      "metadata": {
        "id": "2eisj7dpZgQC"
      },
      "execution_count": null,
      "outputs": []
    },
    {
      "cell_type": "code",
      "source": [
        "from tensorflow.keras.callbacks import EarlyStopping"
      ],
      "metadata": {
        "id": "ifmZNna6Zvy8"
      },
      "execution_count": null,
      "outputs": []
    },
    {
      "cell_type": "code",
      "source": [
        "early_stop = EarlyStopping(monitor='val_loss',patience=25,mode='min')"
      ],
      "metadata": {
        "id": "d9AhCooeZ4yM"
      },
      "execution_count": null,
      "outputs": []
    },
    {
      "cell_type": "code",
      "source": [
        "validation_Data = (X_test,y_test)"
      ],
      "metadata": {
        "id": "LlV2SWHvaGfO"
      },
      "execution_count": null,
      "outputs": []
    },
    {
      "cell_type": "code",
      "source": [
        "result = model.fit(X_train,y_train,validation_data=validation_Data,epochs=600,callbacks=[early_stop])"
      ],
      "metadata": {
        "colab": {
          "base_uri": "https://localhost:8080/"
        },
        "id": "DcFBhfvTaK_F",
        "outputId": "763e4040-6efa-45fb-9a7d-91742b0b4688"
      },
      "execution_count": null,
      "outputs": [
        {
          "output_type": "stream",
          "name": "stdout",
          "text": [
            "Epoch 1/600\n",
            "5/5 [==============================] - 1s 61ms/step - loss: 0.7082 - accuracy: 0.5200 - val_loss: 0.6457 - val_accuracy: 0.8200\n",
            "Epoch 2/600\n",
            "5/5 [==============================] - 0s 10ms/step - loss: 0.6232 - accuracy: 0.7200 - val_loss: 0.6000 - val_accuracy: 0.6400\n",
            "Epoch 3/600\n",
            "5/5 [==============================] - 0s 10ms/step - loss: 0.5501 - accuracy: 0.7333 - val_loss: 0.5380 - val_accuracy: 0.6800\n",
            "Epoch 4/600\n",
            "5/5 [==============================] - 0s 9ms/step - loss: 0.4821 - accuracy: 0.7600 - val_loss: 0.4571 - val_accuracy: 0.8200\n",
            "Epoch 5/600\n",
            "5/5 [==============================] - 0s 10ms/step - loss: 0.3843 - accuracy: 0.8533 - val_loss: 0.3620 - val_accuracy: 0.9200\n",
            "Epoch 6/600\n",
            "5/5 [==============================] - 0s 8ms/step - loss: 0.2996 - accuracy: 0.9133 - val_loss: 0.2680 - val_accuracy: 0.9800\n",
            "Epoch 7/600\n",
            "5/5 [==============================] - 0s 9ms/step - loss: 0.2085 - accuracy: 0.9667 - val_loss: 0.1915 - val_accuracy: 0.9800\n",
            "Epoch 8/600\n",
            "5/5 [==============================] - 0s 8ms/step - loss: 0.1379 - accuracy: 0.9800 - val_loss: 0.1375 - val_accuracy: 0.9800\n",
            "Epoch 9/600\n",
            "5/5 [==============================] - 0s 9ms/step - loss: 0.0966 - accuracy: 0.9867 - val_loss: 0.1073 - val_accuracy: 0.9800\n",
            "Epoch 10/600\n",
            "5/5 [==============================] - 0s 9ms/step - loss: 0.0646 - accuracy: 0.9933 - val_loss: 0.0897 - val_accuracy: 0.9800\n",
            "Epoch 11/600\n",
            "5/5 [==============================] - 0s 10ms/step - loss: 0.0477 - accuracy: 1.0000 - val_loss: 0.0760 - val_accuracy: 0.9800\n",
            "Epoch 12/600\n",
            "5/5 [==============================] - 0s 9ms/step - loss: 0.0310 - accuracy: 0.9933 - val_loss: 0.0682 - val_accuracy: 0.9800\n",
            "Epoch 13/600\n",
            "5/5 [==============================] - 0s 10ms/step - loss: 0.0194 - accuracy: 1.0000 - val_loss: 0.0793 - val_accuracy: 0.9800\n",
            "Epoch 14/600\n",
            "5/5 [==============================] - 0s 9ms/step - loss: 0.0172 - accuracy: 1.0000 - val_loss: 0.0931 - val_accuracy: 0.9800\n",
            "Epoch 15/600\n",
            "5/5 [==============================] - 0s 10ms/step - loss: 0.0117 - accuracy: 1.0000 - val_loss: 0.0928 - val_accuracy: 0.9800\n",
            "Epoch 16/600\n",
            "5/5 [==============================] - 0s 10ms/step - loss: 0.0071 - accuracy: 1.0000 - val_loss: 0.0932 - val_accuracy: 0.9800\n",
            "Epoch 17/600\n",
            "5/5 [==============================] - 0s 8ms/step - loss: 0.0206 - accuracy: 0.9933 - val_loss: 0.0824 - val_accuracy: 0.9800\n",
            "Epoch 18/600\n",
            "5/5 [==============================] - 0s 9ms/step - loss: 0.0140 - accuracy: 0.9933 - val_loss: 0.0757 - val_accuracy: 0.9800\n",
            "Epoch 19/600\n",
            "5/5 [==============================] - 0s 9ms/step - loss: 0.0051 - accuracy: 1.0000 - val_loss: 0.0862 - val_accuracy: 0.9800\n",
            "Epoch 20/600\n",
            "5/5 [==============================] - 0s 9ms/step - loss: 0.0070 - accuracy: 1.0000 - val_loss: 0.0991 - val_accuracy: 0.9800\n",
            "Epoch 21/600\n",
            "5/5 [==============================] - 0s 8ms/step - loss: 0.0033 - accuracy: 1.0000 - val_loss: 0.1074 - val_accuracy: 0.9800\n",
            "Epoch 22/600\n",
            "5/5 [==============================] - 0s 9ms/step - loss: 0.0078 - accuracy: 1.0000 - val_loss: 0.1051 - val_accuracy: 0.9800\n",
            "Epoch 23/600\n",
            "5/5 [==============================] - 0s 8ms/step - loss: 0.0034 - accuracy: 1.0000 - val_loss: 0.0943 - val_accuracy: 0.9800\n",
            "Epoch 24/600\n",
            "5/5 [==============================] - 0s 8ms/step - loss: 0.0034 - accuracy: 1.0000 - val_loss: 0.0952 - val_accuracy: 0.9800\n",
            "Epoch 25/600\n",
            "5/5 [==============================] - 0s 9ms/step - loss: 0.0021 - accuracy: 1.0000 - val_loss: 0.0961 - val_accuracy: 0.9800\n",
            "Epoch 26/600\n",
            "5/5 [==============================] - 0s 13ms/step - loss: 0.0020 - accuracy: 1.0000 - val_loss: 0.0978 - val_accuracy: 0.9800\n",
            "Epoch 27/600\n",
            "5/5 [==============================] - 0s 10ms/step - loss: 0.0054 - accuracy: 1.0000 - val_loss: 0.1098 - val_accuracy: 0.9800\n",
            "Epoch 28/600\n",
            "5/5 [==============================] - 0s 9ms/step - loss: 0.0018 - accuracy: 1.0000 - val_loss: 0.1202 - val_accuracy: 0.9800\n",
            "Epoch 29/600\n",
            "5/5 [==============================] - 0s 10ms/step - loss: 0.0036 - accuracy: 1.0000 - val_loss: 0.1205 - val_accuracy: 0.9800\n",
            "Epoch 30/600\n",
            "5/5 [==============================] - 0s 10ms/step - loss: 0.0019 - accuracy: 1.0000 - val_loss: 0.1205 - val_accuracy: 0.9800\n",
            "Epoch 31/600\n",
            "5/5 [==============================] - 0s 14ms/step - loss: 0.0018 - accuracy: 1.0000 - val_loss: 0.1148 - val_accuracy: 0.9800\n",
            "Epoch 32/600\n",
            "5/5 [==============================] - 0s 8ms/step - loss: 0.0013 - accuracy: 1.0000 - val_loss: 0.1133 - val_accuracy: 0.9800\n",
            "Epoch 33/600\n",
            "5/5 [==============================] - 0s 8ms/step - loss: 0.0021 - accuracy: 1.0000 - val_loss: 0.1126 - val_accuracy: 0.9800\n",
            "Epoch 34/600\n",
            "5/5 [==============================] - 0s 8ms/step - loss: 0.0018 - accuracy: 1.0000 - val_loss: 0.1140 - val_accuracy: 0.9800\n",
            "Epoch 35/600\n",
            "5/5 [==============================] - 0s 8ms/step - loss: 8.8490e-04 - accuracy: 1.0000 - val_loss: 0.1156 - val_accuracy: 0.9800\n",
            "Epoch 36/600\n",
            "5/5 [==============================] - 0s 8ms/step - loss: 0.0011 - accuracy: 1.0000 - val_loss: 0.1178 - val_accuracy: 0.9800\n",
            "Epoch 37/600\n",
            "5/5 [==============================] - 0s 10ms/step - loss: 0.0020 - accuracy: 1.0000 - val_loss: 0.1251 - val_accuracy: 0.9800\n"
          ]
        }
      ]
    },
    {
      "cell_type": "code",
      "source": [
        "loss = pd.DataFrame(model.history.history)"
      ],
      "metadata": {
        "id": "70nrBiDBaX4m"
      },
      "execution_count": null,
      "outputs": []
    },
    {
      "cell_type": "code",
      "source": [
        "loss"
      ],
      "metadata": {
        "colab": {
          "base_uri": "https://localhost:8080/",
          "height": 1000
        },
        "id": "7JuCIJTcaiLk",
        "outputId": "22afb304-4221-44fe-b720-c50976f24724"
      },
      "execution_count": null,
      "outputs": [
        {
          "output_type": "execute_result",
          "data": {
            "text/plain": [
              "        loss  accuracy  val_loss  val_accuracy\n",
              "0   0.708185  0.520000  0.645705          0.82\n",
              "1   0.623184  0.720000  0.599972          0.64\n",
              "2   0.550066  0.733333  0.538017          0.68\n",
              "3   0.482057  0.760000  0.457099          0.82\n",
              "4   0.384332  0.853333  0.361988          0.92\n",
              "5   0.299608  0.913333  0.268016          0.98\n",
              "6   0.208541  0.966667  0.191487          0.98\n",
              "7   0.137908  0.980000  0.137454          0.98\n",
              "8   0.096563  0.986667  0.107343          0.98\n",
              "9   0.064590  0.993333  0.089681          0.98\n",
              "10  0.047685  1.000000  0.076025          0.98\n",
              "11  0.031002  0.993333  0.068194          0.98\n",
              "12  0.019361  1.000000  0.079309          0.98\n",
              "13  0.017188  1.000000  0.093068          0.98\n",
              "14  0.011715  1.000000  0.092809          0.98\n",
              "15  0.007127  1.000000  0.093234          0.98\n",
              "16  0.020626  0.993333  0.082444          0.98\n",
              "17  0.014027  0.993333  0.075717          0.98\n",
              "18  0.005141  1.000000  0.086240          0.98\n",
              "19  0.006993  1.000000  0.099131          0.98\n",
              "20  0.003274  1.000000  0.107425          0.98\n",
              "21  0.007848  1.000000  0.105133          0.98\n",
              "22  0.003376  1.000000  0.094313          0.98\n",
              "23  0.003435  1.000000  0.095236          0.98\n",
              "24  0.002057  1.000000  0.096083          0.98\n",
              "25  0.001967  1.000000  0.097751          0.98\n",
              "26  0.005428  1.000000  0.109764          0.98\n",
              "27  0.001800  1.000000  0.120241          0.98\n",
              "28  0.003616  1.000000  0.120522          0.98\n",
              "29  0.001862  1.000000  0.120489          0.98\n",
              "30  0.001833  1.000000  0.114820          0.98\n",
              "31  0.001267  1.000000  0.113337          0.98\n",
              "32  0.002149  1.000000  0.112576          0.98\n",
              "33  0.001783  1.000000  0.113975          0.98\n",
              "34  0.000885  1.000000  0.115648          0.98\n",
              "35  0.001056  1.000000  0.117833          0.98\n",
              "36  0.002021  1.000000  0.125075          0.98"
            ],
            "text/html": [
              "\n",
              "  <div id=\"df-6d127c52-2a74-4716-b8f6-7ed7f3299ee0\">\n",
              "    <div class=\"colab-df-container\">\n",
              "      <div>\n",
              "<style scoped>\n",
              "    .dataframe tbody tr th:only-of-type {\n",
              "        vertical-align: middle;\n",
              "    }\n",
              "\n",
              "    .dataframe tbody tr th {\n",
              "        vertical-align: top;\n",
              "    }\n",
              "\n",
              "    .dataframe thead th {\n",
              "        text-align: right;\n",
              "    }\n",
              "</style>\n",
              "<table border=\"1\" class=\"dataframe\">\n",
              "  <thead>\n",
              "    <tr style=\"text-align: right;\">\n",
              "      <th></th>\n",
              "      <th>loss</th>\n",
              "      <th>accuracy</th>\n",
              "      <th>val_loss</th>\n",
              "      <th>val_accuracy</th>\n",
              "    </tr>\n",
              "  </thead>\n",
              "  <tbody>\n",
              "    <tr>\n",
              "      <th>0</th>\n",
              "      <td>0.708185</td>\n",
              "      <td>0.520000</td>\n",
              "      <td>0.645705</td>\n",
              "      <td>0.82</td>\n",
              "    </tr>\n",
              "    <tr>\n",
              "      <th>1</th>\n",
              "      <td>0.623184</td>\n",
              "      <td>0.720000</td>\n",
              "      <td>0.599972</td>\n",
              "      <td>0.64</td>\n",
              "    </tr>\n",
              "    <tr>\n",
              "      <th>2</th>\n",
              "      <td>0.550066</td>\n",
              "      <td>0.733333</td>\n",
              "      <td>0.538017</td>\n",
              "      <td>0.68</td>\n",
              "    </tr>\n",
              "    <tr>\n",
              "      <th>3</th>\n",
              "      <td>0.482057</td>\n",
              "      <td>0.760000</td>\n",
              "      <td>0.457099</td>\n",
              "      <td>0.82</td>\n",
              "    </tr>\n",
              "    <tr>\n",
              "      <th>4</th>\n",
              "      <td>0.384332</td>\n",
              "      <td>0.853333</td>\n",
              "      <td>0.361988</td>\n",
              "      <td>0.92</td>\n",
              "    </tr>\n",
              "    <tr>\n",
              "      <th>5</th>\n",
              "      <td>0.299608</td>\n",
              "      <td>0.913333</td>\n",
              "      <td>0.268016</td>\n",
              "      <td>0.98</td>\n",
              "    </tr>\n",
              "    <tr>\n",
              "      <th>6</th>\n",
              "      <td>0.208541</td>\n",
              "      <td>0.966667</td>\n",
              "      <td>0.191487</td>\n",
              "      <td>0.98</td>\n",
              "    </tr>\n",
              "    <tr>\n",
              "      <th>7</th>\n",
              "      <td>0.137908</td>\n",
              "      <td>0.980000</td>\n",
              "      <td>0.137454</td>\n",
              "      <td>0.98</td>\n",
              "    </tr>\n",
              "    <tr>\n",
              "      <th>8</th>\n",
              "      <td>0.096563</td>\n",
              "      <td>0.986667</td>\n",
              "      <td>0.107343</td>\n",
              "      <td>0.98</td>\n",
              "    </tr>\n",
              "    <tr>\n",
              "      <th>9</th>\n",
              "      <td>0.064590</td>\n",
              "      <td>0.993333</td>\n",
              "      <td>0.089681</td>\n",
              "      <td>0.98</td>\n",
              "    </tr>\n",
              "    <tr>\n",
              "      <th>10</th>\n",
              "      <td>0.047685</td>\n",
              "      <td>1.000000</td>\n",
              "      <td>0.076025</td>\n",
              "      <td>0.98</td>\n",
              "    </tr>\n",
              "    <tr>\n",
              "      <th>11</th>\n",
              "      <td>0.031002</td>\n",
              "      <td>0.993333</td>\n",
              "      <td>0.068194</td>\n",
              "      <td>0.98</td>\n",
              "    </tr>\n",
              "    <tr>\n",
              "      <th>12</th>\n",
              "      <td>0.019361</td>\n",
              "      <td>1.000000</td>\n",
              "      <td>0.079309</td>\n",
              "      <td>0.98</td>\n",
              "    </tr>\n",
              "    <tr>\n",
              "      <th>13</th>\n",
              "      <td>0.017188</td>\n",
              "      <td>1.000000</td>\n",
              "      <td>0.093068</td>\n",
              "      <td>0.98</td>\n",
              "    </tr>\n",
              "    <tr>\n",
              "      <th>14</th>\n",
              "      <td>0.011715</td>\n",
              "      <td>1.000000</td>\n",
              "      <td>0.092809</td>\n",
              "      <td>0.98</td>\n",
              "    </tr>\n",
              "    <tr>\n",
              "      <th>15</th>\n",
              "      <td>0.007127</td>\n",
              "      <td>1.000000</td>\n",
              "      <td>0.093234</td>\n",
              "      <td>0.98</td>\n",
              "    </tr>\n",
              "    <tr>\n",
              "      <th>16</th>\n",
              "      <td>0.020626</td>\n",
              "      <td>0.993333</td>\n",
              "      <td>0.082444</td>\n",
              "      <td>0.98</td>\n",
              "    </tr>\n",
              "    <tr>\n",
              "      <th>17</th>\n",
              "      <td>0.014027</td>\n",
              "      <td>0.993333</td>\n",
              "      <td>0.075717</td>\n",
              "      <td>0.98</td>\n",
              "    </tr>\n",
              "    <tr>\n",
              "      <th>18</th>\n",
              "      <td>0.005141</td>\n",
              "      <td>1.000000</td>\n",
              "      <td>0.086240</td>\n",
              "      <td>0.98</td>\n",
              "    </tr>\n",
              "    <tr>\n",
              "      <th>19</th>\n",
              "      <td>0.006993</td>\n",
              "      <td>1.000000</td>\n",
              "      <td>0.099131</td>\n",
              "      <td>0.98</td>\n",
              "    </tr>\n",
              "    <tr>\n",
              "      <th>20</th>\n",
              "      <td>0.003274</td>\n",
              "      <td>1.000000</td>\n",
              "      <td>0.107425</td>\n",
              "      <td>0.98</td>\n",
              "    </tr>\n",
              "    <tr>\n",
              "      <th>21</th>\n",
              "      <td>0.007848</td>\n",
              "      <td>1.000000</td>\n",
              "      <td>0.105133</td>\n",
              "      <td>0.98</td>\n",
              "    </tr>\n",
              "    <tr>\n",
              "      <th>22</th>\n",
              "      <td>0.003376</td>\n",
              "      <td>1.000000</td>\n",
              "      <td>0.094313</td>\n",
              "      <td>0.98</td>\n",
              "    </tr>\n",
              "    <tr>\n",
              "      <th>23</th>\n",
              "      <td>0.003435</td>\n",
              "      <td>1.000000</td>\n",
              "      <td>0.095236</td>\n",
              "      <td>0.98</td>\n",
              "    </tr>\n",
              "    <tr>\n",
              "      <th>24</th>\n",
              "      <td>0.002057</td>\n",
              "      <td>1.000000</td>\n",
              "      <td>0.096083</td>\n",
              "      <td>0.98</td>\n",
              "    </tr>\n",
              "    <tr>\n",
              "      <th>25</th>\n",
              "      <td>0.001967</td>\n",
              "      <td>1.000000</td>\n",
              "      <td>0.097751</td>\n",
              "      <td>0.98</td>\n",
              "    </tr>\n",
              "    <tr>\n",
              "      <th>26</th>\n",
              "      <td>0.005428</td>\n",
              "      <td>1.000000</td>\n",
              "      <td>0.109764</td>\n",
              "      <td>0.98</td>\n",
              "    </tr>\n",
              "    <tr>\n",
              "      <th>27</th>\n",
              "      <td>0.001800</td>\n",
              "      <td>1.000000</td>\n",
              "      <td>0.120241</td>\n",
              "      <td>0.98</td>\n",
              "    </tr>\n",
              "    <tr>\n",
              "      <th>28</th>\n",
              "      <td>0.003616</td>\n",
              "      <td>1.000000</td>\n",
              "      <td>0.120522</td>\n",
              "      <td>0.98</td>\n",
              "    </tr>\n",
              "    <tr>\n",
              "      <th>29</th>\n",
              "      <td>0.001862</td>\n",
              "      <td>1.000000</td>\n",
              "      <td>0.120489</td>\n",
              "      <td>0.98</td>\n",
              "    </tr>\n",
              "    <tr>\n",
              "      <th>30</th>\n",
              "      <td>0.001833</td>\n",
              "      <td>1.000000</td>\n",
              "      <td>0.114820</td>\n",
              "      <td>0.98</td>\n",
              "    </tr>\n",
              "    <tr>\n",
              "      <th>31</th>\n",
              "      <td>0.001267</td>\n",
              "      <td>1.000000</td>\n",
              "      <td>0.113337</td>\n",
              "      <td>0.98</td>\n",
              "    </tr>\n",
              "    <tr>\n",
              "      <th>32</th>\n",
              "      <td>0.002149</td>\n",
              "      <td>1.000000</td>\n",
              "      <td>0.112576</td>\n",
              "      <td>0.98</td>\n",
              "    </tr>\n",
              "    <tr>\n",
              "      <th>33</th>\n",
              "      <td>0.001783</td>\n",
              "      <td>1.000000</td>\n",
              "      <td>0.113975</td>\n",
              "      <td>0.98</td>\n",
              "    </tr>\n",
              "    <tr>\n",
              "      <th>34</th>\n",
              "      <td>0.000885</td>\n",
              "      <td>1.000000</td>\n",
              "      <td>0.115648</td>\n",
              "      <td>0.98</td>\n",
              "    </tr>\n",
              "    <tr>\n",
              "      <th>35</th>\n",
              "      <td>0.001056</td>\n",
              "      <td>1.000000</td>\n",
              "      <td>0.117833</td>\n",
              "      <td>0.98</td>\n",
              "    </tr>\n",
              "    <tr>\n",
              "      <th>36</th>\n",
              "      <td>0.002021</td>\n",
              "      <td>1.000000</td>\n",
              "      <td>0.125075</td>\n",
              "      <td>0.98</td>\n",
              "    </tr>\n",
              "  </tbody>\n",
              "</table>\n",
              "</div>\n",
              "      <button class=\"colab-df-convert\" onclick=\"convertToInteractive('df-6d127c52-2a74-4716-b8f6-7ed7f3299ee0')\"\n",
              "              title=\"Convert this dataframe to an interactive table.\"\n",
              "              style=\"display:none;\">\n",
              "        \n",
              "  <svg xmlns=\"http://www.w3.org/2000/svg\" height=\"24px\"viewBox=\"0 0 24 24\"\n",
              "       width=\"24px\">\n",
              "    <path d=\"M0 0h24v24H0V0z\" fill=\"none\"/>\n",
              "    <path d=\"M18.56 5.44l.94 2.06.94-2.06 2.06-.94-2.06-.94-.94-2.06-.94 2.06-2.06.94zm-11 1L8.5 8.5l.94-2.06 2.06-.94-2.06-.94L8.5 2.5l-.94 2.06-2.06.94zm10 10l.94 2.06.94-2.06 2.06-.94-2.06-.94-.94-2.06-.94 2.06-2.06.94z\"/><path d=\"M17.41 7.96l-1.37-1.37c-.4-.4-.92-.59-1.43-.59-.52 0-1.04.2-1.43.59L10.3 9.45l-7.72 7.72c-.78.78-.78 2.05 0 2.83L4 21.41c.39.39.9.59 1.41.59.51 0 1.02-.2 1.41-.59l7.78-7.78 2.81-2.81c.8-.78.8-2.07 0-2.86zM5.41 20L4 18.59l7.72-7.72 1.47 1.35L5.41 20z\"/>\n",
              "  </svg>\n",
              "      </button>\n",
              "      \n",
              "  <style>\n",
              "    .colab-df-container {\n",
              "      display:flex;\n",
              "      flex-wrap:wrap;\n",
              "      gap: 12px;\n",
              "    }\n",
              "\n",
              "    .colab-df-convert {\n",
              "      background-color: #E8F0FE;\n",
              "      border: none;\n",
              "      border-radius: 50%;\n",
              "      cursor: pointer;\n",
              "      display: none;\n",
              "      fill: #1967D2;\n",
              "      height: 32px;\n",
              "      padding: 0 0 0 0;\n",
              "      width: 32px;\n",
              "    }\n",
              "\n",
              "    .colab-df-convert:hover {\n",
              "      background-color: #E2EBFA;\n",
              "      box-shadow: 0px 1px 2px rgba(60, 64, 67, 0.3), 0px 1px 3px 1px rgba(60, 64, 67, 0.15);\n",
              "      fill: #174EA6;\n",
              "    }\n",
              "\n",
              "    [theme=dark] .colab-df-convert {\n",
              "      background-color: #3B4455;\n",
              "      fill: #D2E3FC;\n",
              "    }\n",
              "\n",
              "    [theme=dark] .colab-df-convert:hover {\n",
              "      background-color: #434B5C;\n",
              "      box-shadow: 0px 1px 3px 1px rgba(0, 0, 0, 0.15);\n",
              "      filter: drop-shadow(0px 1px 2px rgba(0, 0, 0, 0.3));\n",
              "      fill: #FFFFFF;\n",
              "    }\n",
              "  </style>\n",
              "\n",
              "      <script>\n",
              "        const buttonEl =\n",
              "          document.querySelector('#df-6d127c52-2a74-4716-b8f6-7ed7f3299ee0 button.colab-df-convert');\n",
              "        buttonEl.style.display =\n",
              "          google.colab.kernel.accessAllowed ? 'block' : 'none';\n",
              "\n",
              "        async function convertToInteractive(key) {\n",
              "          const element = document.querySelector('#df-6d127c52-2a74-4716-b8f6-7ed7f3299ee0');\n",
              "          const dataTable =\n",
              "            await google.colab.kernel.invokeFunction('convertToInteractive',\n",
              "                                                     [key], {});\n",
              "          if (!dataTable) return;\n",
              "\n",
              "          const docLinkHtml = 'Like what you see? Visit the ' +\n",
              "            '<a target=\"_blank\" href=https://colab.research.google.com/notebooks/data_table.ipynb>data table notebook</a>'\n",
              "            + ' to learn more about interactive tables.';\n",
              "          element.innerHTML = '';\n",
              "          dataTable['output_type'] = 'display_data';\n",
              "          await google.colab.output.renderOutput(dataTable, element);\n",
              "          const docLink = document.createElement('div');\n",
              "          docLink.innerHTML = docLinkHtml;\n",
              "          element.appendChild(docLink);\n",
              "        }\n",
              "      </script>\n",
              "    </div>\n",
              "  </div>\n",
              "  "
            ]
          },
          "metadata": {},
          "execution_count": 116
        }
      ]
    },
    {
      "cell_type": "code",
      "source": [
        "loss[['val_accuracy','accuracy']].plot()"
      ],
      "metadata": {
        "colab": {
          "base_uri": "https://localhost:8080/",
          "height": 282
        },
        "id": "_FhplqW7airz",
        "outputId": "cd888087-3b89-4c87-ddde-ec0f12a756c7"
      },
      "execution_count": null,
      "outputs": [
        {
          "output_type": "execute_result",
          "data": {
            "text/plain": [
              "<matplotlib.axes._subplots.AxesSubplot at 0x7f47f23fcbb0>"
            ]
          },
          "metadata": {},
          "execution_count": 117
        },
        {
          "output_type": "display_data",
          "data": {
            "text/plain": [
              "<Figure size 432x288 with 1 Axes>"
            ],
            "image/png": "[encoded data removed]"
          },
          "metadata": {
            "needs_background": "light"
          }
        }
      ]
    },
    {
      "cell_type": "code",
      "source": [
        "preds = model.predict(X_test)"
      ],
      "metadata": {
        "colab": {
          "base_uri": "https://localhost:8080/"
        },
        "id": "nnODzWQaaoUn",
        "outputId": "913eb04c-14cf-43ce-de91-823337f19547"
      },
      "execution_count": null,
      "outputs": [
        {
          "output_type": "stream",
          "name": "stdout",
          "text": [
            "2/2 [==============================] - 0s 7ms/step\n"
          ]
        }
      ]
    },
    {
      "cell_type": "code",
      "source": [
        "preds = preds > 0.5"
      ],
      "metadata": {
        "id": "CPjo8zY0asKE"
      },
      "execution_count": null,
      "outputs": []
    },
    {
      "cell_type": "code",
      "source": [
        "preds"
      ],
      "metadata": {
        "colab": {
          "base_uri": "https://localhost:8080/"
        },
        "id": "eox7tVJ7auTo",
        "outputId": "8caf5ca7-51c8-4d18-ebea-fcdf5910f538"
      },
      "execution_count": null,
      "outputs": [
        {
          "output_type": "execute_result",
          "data": {
            "text/plain": [
              "array([[False],\n",
              "       [False],\n",
              "       [ True],\n",
              "       [ True],\n",
              "       [ True],\n",
              "       [ True],\n",
              "       [ True],\n",
              "       [False],\n",
              "       [False],\n",
              "       [False],\n",
              "       [ True],\n",
              "       [False],\n",
              "       [ True],\n",
              "       [False],\n",
              "       [False],\n",
              "       [False],\n",
              "       [ True],\n",
              "       [ True],\n",
              "       [ True],\n",
              "       [ True],\n",
              "       [ True],\n",
              "       [ True],\n",
              "       [False],\n",
              "       [ True],\n",
              "       [False],\n",
              "       [ True],\n",
              "       [ True],\n",
              "       [ True],\n",
              "       [False],\n",
              "       [False],\n",
              "       [ True],\n",
              "       [False],\n",
              "       [ True],\n",
              "       [ True],\n",
              "       [ True],\n",
              "       [False],\n",
              "       [False],\n",
              "       [ True],\n",
              "       [False],\n",
              "       [False],\n",
              "       [False],\n",
              "       [ True],\n",
              "       [ True],\n",
              "       [False],\n",
              "       [False],\n",
              "       [ True],\n",
              "       [ True],\n",
              "       [ True],\n",
              "       [ True],\n",
              "       [False]])"
            ]
          },
          "metadata": {},
          "execution_count": 120
        }
      ]
    },
    {
      "cell_type": "code",
      "source": [
        "from sklearn.metrics import classification_report, confusion_matrix"
      ],
      "metadata": {
        "id": "udaU9TF5avAM"
      },
      "execution_count": null,
      "outputs": []
    },
    {
      "cell_type": "code",
      "source": [
        "print(classification_report(y_test,preds))"
      ],
      "metadata": {
        "colab": {
          "base_uri": "https://localhost:8080/"
        },
        "id": "akjY8IjRa26d",
        "outputId": "d49c64a5-a9ef-4fdc-c940-69a8cfe42592"
      },
      "execution_count": null,
      "outputs": [
        {
          "output_type": "stream",
          "name": "stdout",
          "text": [
            "              precision    recall  f1-score   support\n",
            "\n",
            "           0       0.95      1.00      0.98        21\n",
            "           1       1.00      0.97      0.98        29\n",
            "\n",
            "    accuracy                           0.98        50\n",
            "   macro avg       0.98      0.98      0.98        50\n",
            "weighted avg       0.98      0.98      0.98        50\n",
            "\n"
          ]
        }
      ]
    },
    {
      "cell_type": "code",
      "source": [
        "model.save('risk_factor_detection_of_chronic_kidney_diseases.h5')"
      ],
      "metadata": {
        "id": "_Dvi-BzLa6LS"
      },
      "execution_count": null,
      "outputs": []
    },
    {
      "cell_type": "markdown",
      "source": [
        "***Chronic Kidney Disease Clinical Records***"
      ],
      "metadata": {
        "id": "-rbGuswWiwKB"
      }
    },
    {
      "cell_type": "code",
      "source": [
        "!pip install kaggle --upgrade\n",
        "!mkdir -p ~/.kaggle/\n",
        "!cp kaggle.json ~/.kaggle/\n",
        "!chmod 600 ~/.kaggle/kaggle.json\n",
        "!kaggle datasets download -d mansoordaku/ckdisease"
      ],
      "metadata": {
        "id": "KfEuUESnbH9l",
        "colab": {
          "base_uri": "https://localhost:8080/"
        },
        "outputId": "b8934801-fb21-41bf-afee-90ab4bc34e3f"
      },
      "execution_count": null,
      "outputs": [
        {
          "output_type": "stream",
          "name": "stdout",
          "text": [
            "Looking in indexes: https://pypi.org/simple, https://us-python.pkg.dev/colab-wheels/public/simple/\n",
            "Requirement already satisfied: kaggle in /usr/local/lib/python3.10/dist-packages (1.5.13)\n",
            "Requirement already satisfied: python-slugify in /usr/local/lib/python3.10/dist-packages (from kaggle) (8.0.1)\n",
            "Requirement already satisfied: six>=1.10 in /usr/local/lib/python3.10/dist-packages (from kaggle) (1.16.0)\n",
            "Requirement already satisfied: requests in /usr/local/lib/python3.10/dist-packages (from kaggle) (2.27.1)\n",
            "Requirement already satisfied: python-dateutil in /usr/local/lib/python3.10/dist-packages (from kaggle) (2.8.2)\n",
            "Requirement already satisfied: certifi in /usr/local/lib/python3.10/dist-packages (from kaggle) (2022.12.7)\n",
            "Requirement already satisfied: tqdm in /usr/local/lib/python3.10/dist-packages (from kaggle) (4.65.0)\n",
            "Requirement already satisfied: urllib3 in /usr/local/lib/python3.10/dist-packages (from kaggle) (1.26.15)\n",
            "Requirement already satisfied: text-unidecode>=1.3 in /usr/local/lib/python3.10/dist-packages (from python-slugify->kaggle) (1.3)\n",
            "Requirement already satisfied: charset-normalizer~=2.0.0 in /usr/local/lib/python3.10/dist-packages (from requests->kaggle) (2.0.12)\n",
            "Requirement already satisfied: idna<4,>=2.5 in /usr/local/lib/python3.10/dist-packages (from requests->kaggle) (3.4)\n",
            "Downloading ckdisease.zip to /content\n",
            "  0% 0.00/9.51k [00:00<?, ?B/s]\n",
            "100% 9.51k/9.51k [00:00<00:00, 34.8MB/s]\n"
          ]
        }
      ]
    },
    {
      "cell_type": "code",
      "source": [
        "!unzip /content/ckdisease.zip"
      ],
      "metadata": {
        "colab": {
          "base_uri": "https://localhost:8080/"
        },
        "id": "rGKOcpXXjf3p",
        "outputId": "922aa599-05b1-4293-fc66-941bfa105453"
      },
      "execution_count": null,
      "outputs": [
        {
          "output_type": "stream",
          "name": "stdout",
          "text": [
            "Archive:  /content/ckdisease.zip\n",
            "  inflating: kidney_disease.csv      \n"
          ]
        }
      ]
    },
    {
      "cell_type": "code",
      "source": [
        "import pandas as pd\n",
        "import numpy as np\n",
        "import seaborn as sns\n",
        "import matplotlib.pyplot as plt\n",
        "%matplotlib inline"
      ],
      "metadata": {
        "id": "drgq4WEBjjo3"
      },
      "execution_count": null,
      "outputs": []
    },
    {
      "cell_type": "code",
      "source": [
        "df = pd.read_csv(\"/content/kidney_disease.csv\")"
      ],
      "metadata": {
        "id": "V-ns8ydsjzzN"
      },
      "execution_count": null,
      "outputs": []
    },
    {
      "cell_type": "code",
      "source": [
        "df.head()"
      ],
      "metadata": {
        "colab": {
          "base_uri": "https://localhost:8080/",
          "height": 198
        },
        "id": "2lbisfRRkBPo",
        "outputId": "1cf8d7a8-4499-43d8-b3ff-d107dd1b4de5"
      },
      "execution_count": null,
      "outputs": [
        {
          "output_type": "execute_result",
          "data": {
            "text/plain": [
              "   id   age    bp     sg   al   su     rbc        pc         pcc          ba  \\\n",
              "0   0  48.0  80.0  1.020  1.0  0.0     NaN    normal  notpresent  notpresent   \n",
              "1   1   7.0  50.0  1.020  4.0  0.0     NaN    normal  notpresent  notpresent   \n",
              "2   2  62.0  80.0  1.010  2.0  3.0  normal    normal  notpresent  notpresent   \n",
              "3   3  48.0  70.0  1.005  4.0  0.0  normal  abnormal     present  notpresent   \n",
              "4   4  51.0  80.0  1.010  2.0  0.0  normal    normal  notpresent  notpresent   \n",
              "\n",
              "   ...  pcv    wc   rc  htn   dm  cad appet   pe  ane classification  \n",
              "0  ...   44  7800  5.2  yes  yes   no  good   no   no            ckd  \n",
              "1  ...   38  6000  NaN   no   no   no  good   no   no            ckd  \n",
              "2  ...   31  7500  NaN   no  yes   no  poor   no  yes            ckd  \n",
              "3  ...   32  6700  3.9  yes   no   no  poor  yes  yes            ckd  \n",
              "4  ...   35  7300  4.6   no   no   no  good   no   no            ckd  \n",
              "\n",
              "[5 rows x 26 columns]"
            ],
            "text/html": [
              "\n",
              "  <div id=\"df-30f55cc6-9a41-4bbd-8df3-95e8e30b2f45\">\n",
              "    <div class=\"colab-df-container\">\n",
              "      <div>\n",
              "<style scoped>\n",
              "    .dataframe tbody tr th:only-of-type {\n",
              "        vertical-align: middle;\n",
              "    }\n",
              "\n",
              "    .dataframe tbody tr th {\n",
              "        vertical-align: top;\n",
              "    }\n",
              "\n",
              "    .dataframe thead th {\n",
              "        text-align: right;\n",
              "    }\n",
              "</style>\n",
              "<table border=\"1\" class=\"dataframe\">\n",
              "  <thead>\n",
              "    <tr style=\"text-align: right;\">\n",
              "      <th></th>\n",
              "      <th>id</th>\n",
              "      <th>age</th>\n",
              "      <th>bp</th>\n",
              "      <th>sg</th>\n",
              "      <th>al</th>\n",
              "      <th>su</th>\n",
              "      <th>rbc</th>\n",
              "      <th>pc</th>\n",
              "      <th>pcc</th>\n",
              "      <th>ba</th>\n",
              "      <th>...</th>\n",
              "      <th>pcv</th>\n",
              "      <th>wc</th>\n",
              "      <th>rc</th>\n",
              "      <th>htn</th>\n",
              "      <th>dm</th>\n",
              "      <th>cad</th>\n",
              "      <th>appet</th>\n",
              "      <th>pe</th>\n",
              "      <th>ane</th>\n",
              "      <th>classification</th>\n",
              "    </tr>\n",
              "  </thead>\n",
              "  <tbody>\n",
              "    <tr>\n",
              "      <th>0</th>\n",
              "      <td>0</td>\n",
              "      <td>48.0</td>\n",
              "      <td>80.0</td>\n",
              "      <td>1.020</td>\n",
              "      <td>1.0</td>\n",
              "      <td>0.0</td>\n",
              "      <td>NaN</td>\n",
              "      <td>normal</td>\n",
              "      <td>notpresent</td>\n",
              "      <td>notpresent</td>\n",
              "      <td>...</td>\n",
              "      <td>44</td>\n",
              "      <td>7800</td>\n",
              "      <td>5.2</td>\n",
              "      <td>yes</td>\n",
              "      <td>yes</td>\n",
              "      <td>no</td>\n",
              "      <td>good</td>\n",
              "      <td>no</td>\n",
              "      <td>no</td>\n",
              "      <td>ckd</td>\n",
              "    </tr>\n",
              "    <tr>\n",
              "      <th>1</th>\n",
              "      <td>1</td>\n",
              "      <td>7.0</td>\n",
              "      <td>50.0</td>\n",
              "      <td>1.020</td>\n",
              "      <td>4.0</td>\n",
              "      <td>0.0</td>\n",
              "      <td>NaN</td>\n",
              "      <td>normal</td>\n",
              "      <td>notpresent</td>\n",
              "      <td>notpresent</td>\n",
              "      <td>...</td>\n",
              "      <td>38</td>\n",
              "      <td>6000</td>\n",
              "      <td>NaN</td>\n",
              "      <td>no</td>\n",
              "      <td>no</td>\n",
              "      <td>no</td>\n",
              "      <td>good</td>\n",
              "      <td>no</td>\n",
              "      <td>no</td>\n",
              "      <td>ckd</td>\n",
              "    </tr>\n",
              "    <tr>\n",
              "      <th>2</th>\n",
              "      <td>2</td>\n",
              "      <td>62.0</td>\n",
              "      <td>80.0</td>\n",
              "      <td>1.010</td>\n",
              "      <td>2.0</td>\n",
              "      <td>3.0</td>\n",
              "      <td>normal</td>\n",
              "      <td>normal</td>\n",
              "      <td>notpresent</td>\n",
              "      <td>notpresent</td>\n",
              "      <td>...</td>\n",
              "      <td>31</td>\n",
              "      <td>7500</td>\n",
              "      <td>NaN</td>\n",
              "      <td>no</td>\n",
              "      <td>yes</td>\n",
              "      <td>no</td>\n",
              "      <td>poor</td>\n",
              "      <td>no</td>\n",
              "      <td>yes</td>\n",
              "      <td>ckd</td>\n",
              "    </tr>\n",
              "    <tr>\n",
              "      <th>3</th>\n",
              "      <td>3</td>\n",
              "      <td>48.0</td>\n",
              "      <td>70.0</td>\n",
              "      <td>1.005</td>\n",
              "      <td>4.0</td>\n",
              "      <td>0.0</td>\n",
              "      <td>normal</td>\n",
              "      <td>abnormal</td>\n",
              "      <td>present</td>\n",
              "      <td>notpresent</td>\n",
              "      <td>...</td>\n",
              "      <td>32</td>\n",
              "      <td>6700</td>\n",
              "      <td>3.9</td>\n",
              "      <td>yes</td>\n",
              "      <td>no</td>\n",
              "      <td>no</td>\n",
              "      <td>poor</td>\n",
              "      <td>yes</td>\n",
              "      <td>yes</td>\n",
              "      <td>ckd</td>\n",
              "    </tr>\n",
              "    <tr>\n",
              "      <th>4</th>\n",
              "      <td>4</td>\n",
              "      <td>51.0</td>\n",
              "      <td>80.0</td>\n",
              "      <td>1.010</td>\n",
              "      <td>2.0</td>\n",
              "      <td>0.0</td>\n",
              "      <td>normal</td>\n",
              "      <td>normal</td>\n",
              "      <td>notpresent</td>\n",
              "      <td>notpresent</td>\n",
              "      <td>...</td>\n",
              "      <td>35</td>\n",
              "      <td>7300</td>\n",
              "      <td>4.6</td>\n",
              "      <td>no</td>\n",
              "      <td>no</td>\n",
              "      <td>no</td>\n",
              "      <td>good</td>\n",
              "      <td>no</td>\n",
              "      <td>no</td>\n",
              "      <td>ckd</td>\n",
              "    </tr>\n",
              "  </tbody>\n",
              "</table>\n",
              "<p>5 rows × 26 columns</p>\n",
              "</div>\n",
              "      <button class=\"colab-df-convert\" onclick=\"convertToInteractive('df-30f55cc6-9a41-4bbd-8df3-95e8e30b2f45')\"\n",
              "              title=\"Convert this dataframe to an interactive table.\"\n",
              "              style=\"display:none;\">\n",
              "        \n",
              "  <svg xmlns=\"http://www.w3.org/2000/svg\" height=\"24px\"viewBox=\"0 0 24 24\"\n",
              "       width=\"24px\">\n",
              "    <path d=\"M0 0h24v24H0V0z\" fill=\"none\"/>\n",
              "    <path d=\"M18.56 5.44l.94 2.06.94-2.06 2.06-.94-2.06-.94-.94-2.06-.94 2.06-2.06.94zm-11 1L8.5 8.5l.94-2.06 2.06-.94-2.06-.94L8.5 2.5l-.94 2.06-2.06.94zm10 10l.94 2.06.94-2.06 2.06-.94-2.06-.94-.94-2.06-.94 2.06-2.06.94z\"/><path d=\"M17.41 7.96l-1.37-1.37c-.4-.4-.92-.59-1.43-.59-.52 0-1.04.2-1.43.59L10.3 9.45l-7.72 7.72c-.78.78-.78 2.05 0 2.83L4 21.41c.39.39.9.59 1.41.59.51 0 1.02-.2 1.41-.59l7.78-7.78 2.81-2.81c.8-.78.8-2.07 0-2.86zM5.41 20L4 18.59l7.72-7.72 1.47 1.35L5.41 20z\"/>\n",
              "  </svg>\n",
              "      </button>\n",
              "      \n",
              "  <style>\n",
              "    .colab-df-container {\n",
              "      display:flex;\n",
              "      flex-wrap:wrap;\n",
              "      gap: 12px;\n",
              "    }\n",
              "\n",
              "    .colab-df-convert {\n",
              "      background-color: #E8F0FE;\n",
              "      border: none;\n",
              "      border-radius: 50%;\n",
              "      cursor: pointer;\n",
              "      display: none;\n",
              "      fill: #1967D2;\n",
              "      height: 32px;\n",
              "      padding: 0 0 0 0;\n",
              "      width: 32px;\n",
              "    }\n",
              "\n",
              "    .colab-df-convert:hover {\n",
              "      background-color: #E2EBFA;\n",
              "      box-shadow: 0px 1px 2px rgba(60, 64, 67, 0.3), 0px 1px 3px 1px rgba(60, 64, 67, 0.15);\n",
              "      fill: #174EA6;\n",
              "    }\n",
              "\n",
              "    [theme=dark] .colab-df-convert {\n",
              "      background-color: #3B4455;\n",
              "      fill: #D2E3FC;\n",
              "    }\n",
              "\n",
              "    [theme=dark] .colab-df-convert:hover {\n",
              "      background-color: #434B5C;\n",
              "      box-shadow: 0px 1px 3px 1px rgba(0, 0, 0, 0.15);\n",
              "      filter: drop-shadow(0px 1px 2px rgba(0, 0, 0, 0.3));\n",
              "      fill: #FFFFFF;\n",
              "    }\n",
              "  </style>\n",
              "\n",
              "      <script>\n",
              "        const buttonEl =\n",
              "          document.querySelector('#df-30f55cc6-9a41-4bbd-8df3-95e8e30b2f45 button.colab-df-convert');\n",
              "        buttonEl.style.display =\n",
              "          google.colab.kernel.accessAllowed ? 'block' : 'none';\n",
              "\n",
              "        async function convertToInteractive(key) {\n",
              "          const element = document.querySelector('#df-30f55cc6-9a41-4bbd-8df3-95e8e30b2f45');\n",
              "          const dataTable =\n",
              "            await google.colab.kernel.invokeFunction('convertToInteractive',\n",
              "                                                     [key], {});\n",
              "          if (!dataTable) return;\n",
              "\n",
              "          const docLinkHtml = 'Like what you see? Visit the ' +\n",
              "            '<a target=\"_blank\" href=https://colab.research.google.com/notebooks/data_table.ipynb>data table notebook</a>'\n",
              "            + ' to learn more about interactive tables.';\n",
              "          element.innerHTML = '';\n",
              "          dataTable['output_type'] = 'display_data';\n",
              "          await google.colab.output.renderOutput(dataTable, element);\n",
              "          const docLink = document.createElement('div');\n",
              "          docLink.innerHTML = docLinkHtml;\n",
              "          element.appendChild(docLink);\n",
              "        }\n",
              "      </script>\n",
              "    </div>\n",
              "  </div>\n",
              "  "
            ]
          },
          "metadata": {},
          "execution_count": 5
        }
      ]
    },
    {
      "cell_type": "code",
      "source": [
        "sns.heatmap(df.isnull())"
      ],
      "metadata": {
        "colab": {
          "base_uri": "https://localhost:8080/",
          "height": 526
        },
        "id": "1M1fQLM5kCK-",
        "outputId": "e4c13da7-f3e1-4165-dcc5-12dbb54ad1ea"
      },
      "execution_count": null,
      "outputs": [
        {
          "output_type": "execute_result",
          "data": {
            "text/plain": [
              "<Axes: >"
            ]
          },
          "metadata": {},
          "execution_count": 6
        },
        {
          "output_type": "display_data",
          "data": {
            "text/plain": [
              "<Figure size 640x480 with 2 Axes>"
            ],
            "image/png": "[encoded data removed]"
          },
          "metadata": {}
        }
      ]
    },
    {
      "cell_type": "code",
      "source": [
        "df.isnull().sum()"
      ],
      "metadata": {
        "colab": {
          "base_uri": "https://localhost:8080/"
        },
        "id": "KYQ1zouRkW3s",
        "outputId": "62d201b9-5e8a-4faf-952d-2eecc918f4b2"
      },
      "execution_count": null,
      "outputs": [
        {
          "output_type": "execute_result",
          "data": {
            "text/plain": [
              "id                  0\n",
              "age                 9\n",
              "bp                 12\n",
              "sg                 47\n",
              "al                 46\n",
              "su                 49\n",
              "rbc               152\n",
              "pc                 65\n",
              "pcc                 4\n",
              "ba                  4\n",
              "bgr                44\n",
              "bu                 19\n",
              "sc                 17\n",
              "sod                87\n",
              "pot                88\n",
              "hemo               52\n",
              "pcv                70\n",
              "wc                105\n",
              "rc                130\n",
              "htn                 2\n",
              "dm                  2\n",
              "cad                 2\n",
              "appet               1\n",
              "pe                  1\n",
              "ane                 1\n",
              "classification      0\n",
              "dtype: int64"
            ]
          },
          "metadata": {},
          "execution_count": 7
        }
      ]
    },
    {
      "cell_type": "code",
      "source": [
        "df['age'].mean()"
      ],
      "metadata": {
        "colab": {
          "base_uri": "https://localhost:8080/"
        },
        "id": "SntHSQymklau",
        "outputId": "c8b5e77f-d880-4f08-e2da-3f50b8b5feec"
      },
      "execution_count": null,
      "outputs": [
        {
          "output_type": "execute_result",
          "data": {
            "text/plain": [
              "51.48337595907928"
            ]
          },
          "metadata": {},
          "execution_count": 8
        }
      ]
    },
    {
      "cell_type": "code",
      "source": [
        "df['age'] = df['age'].fillna(df['age'].mean())"
      ],
      "metadata": {
        "id": "VSJs-eFqk3eu"
      },
      "execution_count": null,
      "outputs": []
    },
    {
      "cell_type": "code",
      "source": [
        "df.isnull().sum()"
      ],
      "metadata": {
        "colab": {
          "base_uri": "https://localhost:8080/"
        },
        "id": "jtOmson6lY45",
        "outputId": "f7f881dd-4225-422a-bfaa-c39cd8db1acc"
      },
      "execution_count": null,
      "outputs": [
        {
          "output_type": "execute_result",
          "data": {
            "text/plain": [
              "id                  0\n",
              "age                 0\n",
              "bp                 12\n",
              "sg                 47\n",
              "al                 46\n",
              "su                 49\n",
              "rbc               152\n",
              "pc                 65\n",
              "pcc                 4\n",
              "ba                  4\n",
              "bgr                44\n",
              "bu                 19\n",
              "sc                 17\n",
              "sod                87\n",
              "pot                88\n",
              "hemo               52\n",
              "pcv                70\n",
              "wc                105\n",
              "rc                130\n",
              "htn                 2\n",
              "dm                  2\n",
              "cad                 2\n",
              "appet               1\n",
              "pe                  1\n",
              "ane                 1\n",
              "classification      0\n",
              "dtype: int64"
            ]
          },
          "metadata": {},
          "execution_count": 10
        }
      ]
    },
    {
      "cell_type": "code",
      "source": [
        "df['age'].isnull().sum() > 0"
      ],
      "metadata": {
        "colab": {
          "base_uri": "https://localhost:8080/"
        },
        "id": "GfH9nv-WmNLA",
        "outputId": "4a1ec73a-87c1-4fd8-8b03-e8dc17a22f76"
      },
      "execution_count": null,
      "outputs": [
        {
          "output_type": "execute_result",
          "data": {
            "text/plain": [
              "False"
            ]
          },
          "metadata": {},
          "execution_count": 11
        }
      ]
    },
    {
      "cell_type": "code",
      "source": [
        "#rbc,pc,pcc,ba,htn,dm,cad,appet,pe,ane,classification\n",
        "str_column = ['rbc','pc','pcc','ba','htn','dm','cad','appet','pe','ane','classification']"
      ],
      "metadata": {
        "id": "xBwtqGP4mXa7"
      },
      "execution_count": null,
      "outputs": []
    },
    {
      "cell_type": "code",
      "source": [
        "columns = []\n",
        "\n",
        "for i in df.columns:\n",
        "  if (df['{}'.format(i)].isnull().sum() > 0):\n",
        "    columns.append('{}'.format(i))\n",
        "  else:\n",
        "    print(\"0\")"
      ],
      "metadata": {
        "colab": {
          "base_uri": "https://localhost:8080/"
        },
        "id": "68IKPzEGla33",
        "outputId": "3763e0c0-849d-4718-b023-bdbb5c739a08"
      },
      "execution_count": null,
      "outputs": [
        {
          "output_type": "stream",
          "name": "stdout",
          "text": [
            "0\n",
            "0\n",
            "0\n"
          ]
        }
      ]
    },
    {
      "cell_type": "code",
      "source": [
        "str_column"
      ],
      "metadata": {
        "colab": {
          "base_uri": "https://localhost:8080/"
        },
        "id": "59KB5Ydmu_GG",
        "outputId": "ad097dd5-53e6-4072-c5f1-d7be15be2096"
      },
      "execution_count": null,
      "outputs": [
        {
          "output_type": "execute_result",
          "data": {
            "text/plain": [
              "['rbc',\n",
              " 'pc',\n",
              " 'pcc',\n",
              " 'ba',\n",
              " 'htn',\n",
              " 'dm',\n",
              " 'cad',\n",
              " 'appet',\n",
              " 'pe',\n",
              " 'ane',\n",
              " 'classification']"
            ]
          },
          "metadata": {},
          "execution_count": 14
        }
      ]
    },
    {
      "cell_type": "code",
      "source": [
        "columns"
      ],
      "metadata": {
        "colab": {
          "base_uri": "https://localhost:8080/"
        },
        "id": "HsPbo8qovKSH",
        "outputId": "aa449de1-706d-4ab5-96dc-92b4323c8cd6"
      },
      "execution_count": null,
      "outputs": [
        {
          "output_type": "execute_result",
          "data": {
            "text/plain": [
              "['bp',\n",
              " 'sg',\n",
              " 'al',\n",
              " 'su',\n",
              " 'rbc',\n",
              " 'pc',\n",
              " 'pcc',\n",
              " 'ba',\n",
              " 'bgr',\n",
              " 'bu',\n",
              " 'sc',\n",
              " 'sod',\n",
              " 'pot',\n",
              " 'hemo',\n",
              " 'pcv',\n",
              " 'wc',\n",
              " 'rc',\n",
              " 'htn',\n",
              " 'dm',\n",
              " 'cad',\n",
              " 'appet',\n",
              " 'pe',\n",
              " 'ane']"
            ]
          },
          "metadata": {},
          "execution_count": 15
        }
      ]
    },
    {
      "cell_type": "code",
      "source": [
        "#rbc,pc,pcc,ba,htn,dm,cad,appet,pe,ane,classification"
      ],
      "metadata": {
        "id": "3uu-FmQooTLt"
      },
      "execution_count": null,
      "outputs": []
    },
    {
      "cell_type": "code",
      "source": [
        "df['rbc'].value_counts()"
      ],
      "metadata": {
        "colab": {
          "base_uri": "https://localhost:8080/"
        },
        "id": "hzSMDTh9nFy_",
        "outputId": "0bce655d-333d-4181-ee11-49c1dd013658"
      },
      "execution_count": null,
      "outputs": [
        {
          "output_type": "execute_result",
          "data": {
            "text/plain": [
              "normal      201\n",
              "abnormal     47\n",
              "Name: rbc, dtype: int64"
            ]
          },
          "metadata": {},
          "execution_count": 17
        }
      ]
    },
    {
      "cell_type": "code",
      "source": [
        "df.isnull().sum()"
      ],
      "metadata": {
        "colab": {
          "base_uri": "https://localhost:8080/"
        },
        "id": "Y-XBLhY-0W2a",
        "outputId": "e5c2975e-b756-4966-c434-72cc7ca4374a"
      },
      "execution_count": null,
      "outputs": [
        {
          "output_type": "execute_result",
          "data": {
            "text/plain": [
              "id                  0\n",
              "age                 0\n",
              "bp                 12\n",
              "sg                 47\n",
              "al                 46\n",
              "su                 49\n",
              "rbc               152\n",
              "pc                 65\n",
              "pcc                 4\n",
              "ba                  4\n",
              "bgr                44\n",
              "bu                 19\n",
              "sc                 17\n",
              "sod                87\n",
              "pot                88\n",
              "hemo               52\n",
              "pcv                70\n",
              "wc                105\n",
              "rc                130\n",
              "htn                 2\n",
              "dm                  2\n",
              "cad                 2\n",
              "appet               1\n",
              "pe                  1\n",
              "ane                 1\n",
              "classification      0\n",
              "dtype: int64"
            ]
          },
          "metadata": {},
          "execution_count": 18
        }
      ]
    },
    {
      "cell_type": "code",
      "source": [
        "df.drop(axis=1,inplace=True,columns=['pcv'])"
      ],
      "metadata": {
        "id": "dSA5cNL60g9S"
      },
      "execution_count": null,
      "outputs": []
    },
    {
      "cell_type": "code",
      "source": [
        "df.drop(columns=['wc','rc'],axis=1,inplace=True)"
      ],
      "metadata": {
        "id": "d5vvihBG1b-7"
      },
      "execution_count": null,
      "outputs": []
    },
    {
      "cell_type": "code",
      "source": [
        "df.isnull().sum()"
      ],
      "metadata": {
        "colab": {
          "base_uri": "https://localhost:8080/"
        },
        "id": "BLDtVdxG1sdh",
        "outputId": "93da8ac5-96a3-457e-e630-ecaaeec37267"
      },
      "execution_count": null,
      "outputs": [
        {
          "output_type": "execute_result",
          "data": {
            "text/plain": [
              "id                  0\n",
              "age                 0\n",
              "bp                 12\n",
              "sg                 47\n",
              "al                 46\n",
              "su                 49\n",
              "rbc               152\n",
              "pc                 65\n",
              "pcc                 4\n",
              "ba                  4\n",
              "bgr                44\n",
              "bu                 19\n",
              "sc                 17\n",
              "sod                87\n",
              "pot                88\n",
              "hemo               52\n",
              "htn                 2\n",
              "dm                  2\n",
              "cad                 2\n",
              "appet               1\n",
              "pe                  1\n",
              "ane                 1\n",
              "classification      0\n",
              "dtype: int64"
            ]
          },
          "metadata": {},
          "execution_count": 21
        }
      ]
    },
    {
      "cell_type": "code",
      "source": [
        "df.dropna(axis=0,inplace=True)"
      ],
      "metadata": {
        "id": "hs5yJY1r1yOk"
      },
      "execution_count": null,
      "outputs": []
    },
    {
      "cell_type": "code",
      "source": [
        "df['rbc'] = df['rbc'].fillna('normal')"
      ],
      "metadata": {
        "id": "cLHXsRCNxQ8r"
      },
      "execution_count": null,
      "outputs": []
    },
    {
      "cell_type": "code",
      "source": [
        "df['pc'] = df['pc'].fillna('normal')"
      ],
      "metadata": {
        "id": "ltTxnu0iyEUa"
      },
      "execution_count": null,
      "outputs": []
    },
    {
      "cell_type": "code",
      "source": [
        "df.isnull().sum()"
      ],
      "metadata": {
        "colab": {
          "base_uri": "https://localhost:8080/"
        },
        "id": "oxTXyWGYygFF",
        "outputId": "cf9fd80b-1bd2-4e98-e450-4e596eda6e08"
      },
      "execution_count": null,
      "outputs": [
        {
          "output_type": "execute_result",
          "data": {
            "text/plain": [
              "id                0\n",
              "age               0\n",
              "bp                0\n",
              "sg                0\n",
              "al                0\n",
              "su                0\n",
              "rbc               0\n",
              "pc                0\n",
              "pcc               0\n",
              "ba                0\n",
              "bgr               0\n",
              "bu                0\n",
              "sc                0\n",
              "sod               0\n",
              "pot               0\n",
              "hemo              0\n",
              "htn               0\n",
              "dm                0\n",
              "cad               0\n",
              "appet             0\n",
              "pe                0\n",
              "ane               0\n",
              "classification    0\n",
              "dtype: int64"
            ]
          },
          "metadata": {},
          "execution_count": 25
        }
      ]
    },
    {
      "cell_type": "code",
      "source": [
        "df.head()"
      ],
      "metadata": {
        "colab": {
          "base_uri": "https://localhost:8080/",
          "height": 198
        },
        "id": "9OP1LZ0Zyw80",
        "outputId": "0339f4c2-b941-4fb1-b11a-6e67a652c9ac"
      },
      "execution_count": null,
      "outputs": [
        {
          "output_type": "execute_result",
          "data": {
            "text/plain": [
              "    id   age    bp     sg   al   su       rbc        pc         pcc  \\\n",
              "3    3  48.0  70.0  1.005  4.0  0.0    normal  abnormal     present   \n",
              "9    9  53.0  90.0  1.020  2.0  0.0  abnormal  abnormal     present   \n",
              "11  11  63.0  70.0  1.010  3.0  0.0  abnormal  abnormal     present   \n",
              "14  14  68.0  80.0  1.010  3.0  2.0    normal  abnormal     present   \n",
              "20  20  61.0  80.0  1.015  2.0  0.0  abnormal  abnormal  notpresent   \n",
              "\n",
              "            ba  ...    sod  pot  hemo  htn   dm  cad appet   pe  ane  \\\n",
              "3   notpresent  ...  111.0  2.5  11.2  yes   no   no  poor  yes  yes   \n",
              "9   notpresent  ...  114.0  3.7   9.5  yes  yes   no  poor   no  yes   \n",
              "11  notpresent  ...  131.0  4.2  10.8  yes  yes   no  poor  yes   no   \n",
              "14     present  ...  130.0  6.4   5.6  yes  yes  yes  poor  yes   no   \n",
              "20  notpresent  ...  135.0  5.2   7.7  yes  yes  yes  poor  yes  yes   \n",
              "\n",
              "   classification  \n",
              "3             ckd  \n",
              "9             ckd  \n",
              "11            ckd  \n",
              "14            ckd  \n",
              "20            ckd  \n",
              "\n",
              "[5 rows x 23 columns]"
            ],
            "text/html": [
              "\n",
              "  <div id=\"df-8106ac6a-9c20-4cb1-934b-ac3f9748ed43\">\n",
              "    <div class=\"colab-df-container\">\n",
              "      <div>\n",
              "<style scoped>\n",
              "    .dataframe tbody tr th:only-of-type {\n",
              "        vertical-align: middle;\n",
              "    }\n",
              "\n",
              "    .dataframe tbody tr th {\n",
              "        vertical-align: top;\n",
              "    }\n",
              "\n",
              "    .dataframe thead th {\n",
              "        text-align: right;\n",
              "    }\n",
              "</style>\n",
              "<table border=\"1\" class=\"dataframe\">\n",
              "  <thead>\n",
              "    <tr style=\"text-align: right;\">\n",
              "      <th></th>\n",
              "      <th>id</th>\n",
              "      <th>age</th>\n",
              "      <th>bp</th>\n",
              "      <th>sg</th>\n",
              "      <th>al</th>\n",
              "      <th>su</th>\n",
              "      <th>rbc</th>\n",
              "      <th>pc</th>\n",
              "      <th>pcc</th>\n",
              "      <th>ba</th>\n",
              "      <th>...</th>\n",
              "      <th>sod</th>\n",
              "      <th>pot</th>\n",
              "      <th>hemo</th>\n",
              "      <th>htn</th>\n",
              "      <th>dm</th>\n",
              "      <th>cad</th>\n",
              "      <th>appet</th>\n",
              "      <th>pe</th>\n",
              "      <th>ane</th>\n",
              "      <th>classification</th>\n",
              "    </tr>\n",
              "  </thead>\n",
              "  <tbody>\n",
              "    <tr>\n",
              "      <th>3</th>\n",
              "      <td>3</td>\n",
              "      <td>48.0</td>\n",
              "      <td>70.0</td>\n",
              "      <td>1.005</td>\n",
              "      <td>4.0</td>\n",
              "      <td>0.0</td>\n",
              "      <td>normal</td>\n",
              "      <td>abnormal</td>\n",
              "      <td>present</td>\n",
              "      <td>notpresent</td>\n",
              "      <td>...</td>\n",
              "      <td>111.0</td>\n",
              "      <td>2.5</td>\n",
              "      <td>11.2</td>\n",
              "      <td>yes</td>\n",
              "      <td>no</td>\n",
              "      <td>no</td>\n",
              "      <td>poor</td>\n",
              "      <td>yes</td>\n",
              "      <td>yes</td>\n",
              "      <td>ckd</td>\n",
              "    </tr>\n",
              "    <tr>\n",
              "      <th>9</th>\n",
              "      <td>9</td>\n",
              "      <td>53.0</td>\n",
              "      <td>90.0</td>\n",
              "      <td>1.020</td>\n",
              "      <td>2.0</td>\n",
              "      <td>0.0</td>\n",
              "      <td>abnormal</td>\n",
              "      <td>abnormal</td>\n",
              "      <td>present</td>\n",
              "      <td>notpresent</td>\n",
              "      <td>...</td>\n",
              "      <td>114.0</td>\n",
              "      <td>3.7</td>\n",
              "      <td>9.5</td>\n",
              "      <td>yes</td>\n",
              "      <td>yes</td>\n",
              "      <td>no</td>\n",
              "      <td>poor</td>\n",
              "      <td>no</td>\n",
              "      <td>yes</td>\n",
              "      <td>ckd</td>\n",
              "    </tr>\n",
              "    <tr>\n",
              "      <th>11</th>\n",
              "      <td>11</td>\n",
              "      <td>63.0</td>\n",
              "      <td>70.0</td>\n",
              "      <td>1.010</td>\n",
              "      <td>3.0</td>\n",
              "      <td>0.0</td>\n",
              "      <td>abnormal</td>\n",
              "      <td>abnormal</td>\n",
              "      <td>present</td>\n",
              "      <td>notpresent</td>\n",
              "      <td>...</td>\n",
              "      <td>131.0</td>\n",
              "      <td>4.2</td>\n",
              "      <td>10.8</td>\n",
              "      <td>yes</td>\n",
              "      <td>yes</td>\n",
              "      <td>no</td>\n",
              "      <td>poor</td>\n",
              "      <td>yes</td>\n",
              "      <td>no</td>\n",
              "      <td>ckd</td>\n",
              "    </tr>\n",
              "    <tr>\n",
              "      <th>14</th>\n",
              "      <td>14</td>\n",
              "      <td>68.0</td>\n",
              "      <td>80.0</td>\n",
              "      <td>1.010</td>\n",
              "      <td>3.0</td>\n",
              "      <td>2.0</td>\n",
              "      <td>normal</td>\n",
              "      <td>abnormal</td>\n",
              "      <td>present</td>\n",
              "      <td>present</td>\n",
              "      <td>...</td>\n",
              "      <td>130.0</td>\n",
              "      <td>6.4</td>\n",
              "      <td>5.6</td>\n",
              "      <td>yes</td>\n",
              "      <td>yes</td>\n",
              "      <td>yes</td>\n",
              "      <td>poor</td>\n",
              "      <td>yes</td>\n",
              "      <td>no</td>\n",
              "      <td>ckd</td>\n",
              "    </tr>\n",
              "    <tr>\n",
              "      <th>20</th>\n",
              "      <td>20</td>\n",
              "      <td>61.0</td>\n",
              "      <td>80.0</td>\n",
              "      <td>1.015</td>\n",
              "      <td>2.0</td>\n",
              "      <td>0.0</td>\n",
              "      <td>abnormal</td>\n",
              "      <td>abnormal</td>\n",
              "      <td>notpresent</td>\n",
              "      <td>notpresent</td>\n",
              "      <td>...</td>\n",
              "      <td>135.0</td>\n",
              "      <td>5.2</td>\n",
              "      <td>7.7</td>\n",
              "      <td>yes</td>\n",
              "      <td>yes</td>\n",
              "      <td>yes</td>\n",
              "      <td>poor</td>\n",
              "      <td>yes</td>\n",
              "      <td>yes</td>\n",
              "      <td>ckd</td>\n",
              "    </tr>\n",
              "  </tbody>\n",
              "</table>\n",
              "<p>5 rows × 23 columns</p>\n",
              "</div>\n",
              "      <button class=\"colab-df-convert\" onclick=\"convertToInteractive('df-8106ac6a-9c20-4cb1-934b-ac3f9748ed43')\"\n",
              "              title=\"Convert this dataframe to an interactive table.\"\n",
              "              style=\"display:none;\">\n",
              "        \n",
              "  <svg xmlns=\"http://www.w3.org/2000/svg\" height=\"24px\"viewBox=\"0 0 24 24\"\n",
              "       width=\"24px\">\n",
              "    <path d=\"M0 0h24v24H0V0z\" fill=\"none\"/>\n",
              "    <path d=\"M18.56 5.44l.94 2.06.94-2.06 2.06-.94-2.06-.94-.94-2.06-.94 2.06-2.06.94zm-11 1L8.5 8.5l.94-2.06 2.06-.94-2.06-.94L8.5 2.5l-.94 2.06-2.06.94zm10 10l.94 2.06.94-2.06 2.06-.94-2.06-.94-.94-2.06-.94 2.06-2.06.94z\"/><path d=\"M17.41 7.96l-1.37-1.37c-.4-.4-.92-.59-1.43-.59-.52 0-1.04.2-1.43.59L10.3 9.45l-7.72 7.72c-.78.78-.78 2.05 0 2.83L4 21.41c.39.39.9.59 1.41.59.51 0 1.02-.2 1.41-.59l7.78-7.78 2.81-2.81c.8-.78.8-2.07 0-2.86zM5.41 20L4 18.59l7.72-7.72 1.47 1.35L5.41 20z\"/>\n",
              "  </svg>\n",
              "      </button>\n",
              "      \n",
              "  <style>\n",
              "    .colab-df-container {\n",
              "      display:flex;\n",
              "      flex-wrap:wrap;\n",
              "      gap: 12px;\n",
              "    }\n",
              "\n",
              "    .colab-df-convert {\n",
              "      background-color: #E8F0FE;\n",
              "      border: none;\n",
              "      border-radius: 50%;\n",
              "      cursor: pointer;\n",
              "      display: none;\n",
              "      fill: #1967D2;\n",
              "      height: 32px;\n",
              "      padding: 0 0 0 0;\n",
              "      width: 32px;\n",
              "    }\n",
              "\n",
              "    .colab-df-convert:hover {\n",
              "      background-color: #E2EBFA;\n",
              "      box-shadow: 0px 1px 2px rgba(60, 64, 67, 0.3), 0px 1px 3px 1px rgba(60, 64, 67, 0.15);\n",
              "      fill: #174EA6;\n",
              "    }\n",
              "\n",
              "    [theme=dark] .colab-df-convert {\n",
              "      background-color: #3B4455;\n",
              "      fill: #D2E3FC;\n",
              "    }\n",
              "\n",
              "    [theme=dark] .colab-df-convert:hover {\n",
              "      background-color: #434B5C;\n",
              "      box-shadow: 0px 1px 3px 1px rgba(0, 0, 0, 0.15);\n",
              "      filter: drop-shadow(0px 1px 2px rgba(0, 0, 0, 0.3));\n",
              "      fill: #FFFFFF;\n",
              "    }\n",
              "  </style>\n",
              "\n",
              "      <script>\n",
              "        const buttonEl =\n",
              "          document.querySelector('#df-8106ac6a-9c20-4cb1-934b-ac3f9748ed43 button.colab-df-convert');\n",
              "        buttonEl.style.display =\n",
              "          google.colab.kernel.accessAllowed ? 'block' : 'none';\n",
              "\n",
              "        async function convertToInteractive(key) {\n",
              "          const element = document.querySelector('#df-8106ac6a-9c20-4cb1-934b-ac3f9748ed43');\n",
              "          const dataTable =\n",
              "            await google.colab.kernel.invokeFunction('convertToInteractive',\n",
              "                                                     [key], {});\n",
              "          if (!dataTable) return;\n",
              "\n",
              "          const docLinkHtml = 'Like what you see? Visit the ' +\n",
              "            '<a target=\"_blank\" href=https://colab.research.google.com/notebooks/data_table.ipynb>data table notebook</a>'\n",
              "            + ' to learn more about interactive tables.';\n",
              "          element.innerHTML = '';\n",
              "          dataTable['output_type'] = 'display_data';\n",
              "          await google.colab.output.renderOutput(dataTable, element);\n",
              "          const docLink = document.createElement('div');\n",
              "          docLink.innerHTML = docLinkHtml;\n",
              "          element.appendChild(docLink);\n",
              "        }\n",
              "      </script>\n",
              "    </div>\n",
              "  </div>\n",
              "  "
            ]
          },
          "metadata": {},
          "execution_count": 26
        }
      ]
    },
    {
      "cell_type": "code",
      "source": [
        "for i in str_column:\n",
        "  df = pd.get_dummies(df,columns=['{}'.format(i)],drop_first=True)"
      ],
      "metadata": {
        "id": "-vnnF9Rg2RMp"
      },
      "execution_count": null,
      "outputs": []
    },
    {
      "cell_type": "code",
      "source": [
        "df"
      ],
      "metadata": {
        "colab": {
          "base_uri": "https://localhost:8080/",
          "height": 416
        },
        "id": "uH80_Vwo2XJj",
        "outputId": "90cbd4b9-9a6e-4761-fe00-a8f40b8b412e"
      },
      "execution_count": null,
      "outputs": [
        {
          "output_type": "execute_result",
          "data": {
            "text/plain": [
              "      id   age    bp     sg   al   su    bgr     bu   sc    sod  ...  \\\n",
              "3      3  48.0  70.0  1.005  4.0  0.0  117.0   56.0  3.8  111.0  ...   \n",
              "9      9  53.0  90.0  1.020  2.0  0.0   70.0  107.0  7.2  114.0  ...   \n",
              "11    11  63.0  70.0  1.010  3.0  0.0  380.0   60.0  2.7  131.0  ...   \n",
              "14    14  68.0  80.0  1.010  3.0  2.0  157.0   90.0  4.1  130.0  ...   \n",
              "20    20  61.0  80.0  1.015  2.0  0.0  173.0  148.0  3.9  135.0  ...   \n",
              "..   ...   ...   ...    ...  ...  ...    ...    ...  ...    ...  ...   \n",
              "395  395  55.0  80.0  1.020  0.0  0.0  140.0   49.0  0.5  150.0  ...   \n",
              "396  396  42.0  70.0  1.025  0.0  0.0   75.0   31.0  1.2  141.0  ...   \n",
              "397  397  12.0  80.0  1.020  0.0  0.0  100.0   26.0  0.6  137.0  ...   \n",
              "398  398  17.0  60.0  1.025  0.0  0.0  114.0   50.0  1.0  135.0  ...   \n",
              "399  399  58.0  80.0  1.025  0.0  0.0  131.0   18.0  1.1  141.0  ...   \n",
              "\n",
              "     pc_normal  pcc_present  ba_present  htn_yes  dm_yes  cad_yes  appet_poor  \\\n",
              "3            0            1           0        1       0        0           1   \n",
              "9            0            1           0        1       1        0           1   \n",
              "11           0            1           0        1       1        0           1   \n",
              "14           0            1           1        1       1        1           1   \n",
              "20           0            0           0        1       1        1           1   \n",
              "..         ...          ...         ...      ...     ...      ...         ...   \n",
              "395          1            0           0        0       0        0           0   \n",
              "396          1            0           0        0       0        0           0   \n",
              "397          1            0           0        0       0        0           0   \n",
              "398          1            0           0        0       0        0           0   \n",
              "399          1            0           0        0       0        0           0   \n",
              "\n",
              "     pe_yes  ane_yes  classification_notckd  \n",
              "3         1        1                      0  \n",
              "9         0        1                      0  \n",
              "11        1        0                      0  \n",
              "14        1        0                      0  \n",
              "20        1        1                      0  \n",
              "..      ...      ...                    ...  \n",
              "395       0        0                      1  \n",
              "396       0        0                      1  \n",
              "397       0        0                      1  \n",
              "398       0        0                      1  \n",
              "399       0        0                      1  \n",
              "\n",
              "[174 rows x 23 columns]"
            ],
            "text/html": [
              "\n",
              "  <div id=\"df-28f8cf19-2ef0-4ecc-bb74-b0f5b64e5787\">\n",
              "    <div class=\"colab-df-container\">\n",
              "      <div>\n",
              "<style scoped>\n",
              "    .dataframe tbody tr th:only-of-type {\n",
              "        vertical-align: middle;\n",
              "    }\n",
              "\n",
              "    .dataframe tbody tr th {\n",
              "        vertical-align: top;\n",
              "    }\n",
              "\n",
              "    .dataframe thead th {\n",
              "        text-align: right;\n",
              "    }\n",
              "</style>\n",
              "<table border=\"1\" class=\"dataframe\">\n",
              "  <thead>\n",
              "    <tr style=\"text-align: right;\">\n",
              "      <th></th>\n",
              "      <th>id</th>\n",
              "      <th>age</th>\n",
              "      <th>bp</th>\n",
              "      <th>sg</th>\n",
              "      <th>al</th>\n",
              "      <th>su</th>\n",
              "      <th>bgr</th>\n",
              "      <th>bu</th>\n",
              "      <th>sc</th>\n",
              "      <th>sod</th>\n",
              "      <th>...</th>\n",
              "      <th>pc_normal</th>\n",
              "      <th>pcc_present</th>\n",
              "      <th>ba_present</th>\n",
              "      <th>htn_yes</th>\n",
              "      <th>dm_yes</th>\n",
              "      <th>cad_yes</th>\n",
              "      <th>appet_poor</th>\n",
              "      <th>pe_yes</th>\n",
              "      <th>ane_yes</th>\n",
              "      <th>classification_notckd</th>\n",
              "    </tr>\n",
              "  </thead>\n",
              "  <tbody>\n",
              "    <tr>\n",
              "      <th>3</th>\n",
              "      <td>3</td>\n",
              "      <td>48.0</td>\n",
              "      <td>70.0</td>\n",
              "      <td>1.005</td>\n",
              "      <td>4.0</td>\n",
              "      <td>0.0</td>\n",
              "      <td>117.0</td>\n",
              "      <td>56.0</td>\n",
              "      <td>3.8</td>\n",
              "      <td>111.0</td>\n",
              "      <td>...</td>\n",
              "      <td>0</td>\n",
              "      <td>1</td>\n",
              "      <td>0</td>\n",
              "      <td>1</td>\n",
              "      <td>0</td>\n",
              "      <td>0</td>\n",
              "      <td>1</td>\n",
              "      <td>1</td>\n",
              "      <td>1</td>\n",
              "      <td>0</td>\n",
              "    </tr>\n",
              "    <tr>\n",
              "      <th>9</th>\n",
              "      <td>9</td>\n",
              "      <td>53.0</td>\n",
              "      <td>90.0</td>\n",
              "      <td>1.020</td>\n",
              "      <td>2.0</td>\n",
              "      <td>0.0</td>\n",
              "      <td>70.0</td>\n",
              "      <td>107.0</td>\n",
              "      <td>7.2</td>\n",
              "      <td>114.0</td>\n",
              "      <td>...</td>\n",
              "      <td>0</td>\n",
              "      <td>1</td>\n",
              "      <td>0</td>\n",
              "      <td>1</td>\n",
              "      <td>1</td>\n",
              "      <td>0</td>\n",
              "      <td>1</td>\n",
              "      <td>0</td>\n",
              "      <td>1</td>\n",
              "      <td>0</td>\n",
              "    </tr>\n",
              "    <tr>\n",
              "      <th>11</th>\n",
              "      <td>11</td>\n",
              "      <td>63.0</td>\n",
              "      <td>70.0</td>\n",
              "      <td>1.010</td>\n",
              "      <td>3.0</td>\n",
              "      <td>0.0</td>\n",
              "      <td>380.0</td>\n",
              "      <td>60.0</td>\n",
              "      <td>2.7</td>\n",
              "      <td>131.0</td>\n",
              "      <td>...</td>\n",
              "      <td>0</td>\n",
              "      <td>1</td>\n",
              "      <td>0</td>\n",
              "      <td>1</td>\n",
              "      <td>1</td>\n",
              "      <td>0</td>\n",
              "      <td>1</td>\n",
              "      <td>1</td>\n",
              "      <td>0</td>\n",
              "      <td>0</td>\n",
              "    </tr>\n",
              "    <tr>\n",
              "      <th>14</th>\n",
              "      <td>14</td>\n",
              "      <td>68.0</td>\n",
              "      <td>80.0</td>\n",
              "      <td>1.010</td>\n",
              "      <td>3.0</td>\n",
              "      <td>2.0</td>\n",
              "      <td>157.0</td>\n",
              "      <td>90.0</td>\n",
              "      <td>4.1</td>\n",
              "      <td>130.0</td>\n",
              "      <td>...</td>\n",
              "      <td>0</td>\n",
              "      <td>1</td>\n",
              "      <td>1</td>\n",
              "      <td>1</td>\n",
              "      <td>1</td>\n",
              "      <td>1</td>\n",
              "      <td>1</td>\n",
              "      <td>1</td>\n",
              "      <td>0</td>\n",
              "      <td>0</td>\n",
              "    </tr>\n",
              "    <tr>\n",
              "      <th>20</th>\n",
              "      <td>20</td>\n",
              "      <td>61.0</td>\n",
              "      <td>80.0</td>\n",
              "      <td>1.015</td>\n",
              "      <td>2.0</td>\n",
              "      <td>0.0</td>\n",
              "      <td>173.0</td>\n",
              "      <td>148.0</td>\n",
              "      <td>3.9</td>\n",
              "      <td>135.0</td>\n",
              "      <td>...</td>\n",
              "      <td>0</td>\n",
              "      <td>0</td>\n",
              "      <td>0</td>\n",
              "      <td>1</td>\n",
              "      <td>1</td>\n",
              "      <td>1</td>\n",
              "      <td>1</td>\n",
              "      <td>1</td>\n",
              "      <td>1</td>\n",
              "      <td>0</td>\n",
              "    </tr>\n",
              "    <tr>\n",
              "      <th>...</th>\n",
              "      <td>...</td>\n",
              "      <td>...</td>\n",
              "      <td>...</td>\n",
              "      <td>...</td>\n",
              "      <td>...</td>\n",
              "      <td>...</td>\n",
              "      <td>...</td>\n",
              "      <td>...</td>\n",
              "      <td>...</td>\n",
              "      <td>...</td>\n",
              "      <td>...</td>\n",
              "      <td>...</td>\n",
              "      <td>...</td>\n",
              "      <td>...</td>\n",
              "      <td>...</td>\n",
              "      <td>...</td>\n",
              "      <td>...</td>\n",
              "      <td>...</td>\n",
              "      <td>...</td>\n",
              "      <td>...</td>\n",
              "      <td>...</td>\n",
              "    </tr>\n",
              "    <tr>\n",
              "      <th>395</th>\n",
              "      <td>395</td>\n",
              "      <td>55.0</td>\n",
              "      <td>80.0</td>\n",
              "      <td>1.020</td>\n",
              "      <td>0.0</td>\n",
              "      <td>0.0</td>\n",
              "      <td>140.0</td>\n",
              "      <td>49.0</td>\n",
              "      <td>0.5</td>\n",
              "      <td>150.0</td>\n",
              "      <td>...</td>\n",
              "      <td>1</td>\n",
              "      <td>0</td>\n",
              "      <td>0</td>\n",
              "      <td>0</td>\n",
              "      <td>0</td>\n",
              "      <td>0</td>\n",
              "      <td>0</td>\n",
              "      <td>0</td>\n",
              "      <td>0</td>\n",
              "      <td>1</td>\n",
              "    </tr>\n",
              "    <tr>\n",
              "      <th>396</th>\n",
              "      <td>396</td>\n",
              "      <td>42.0</td>\n",
              "      <td>70.0</td>\n",
              "      <td>1.025</td>\n",
              "      <td>0.0</td>\n",
              "      <td>0.0</td>\n",
              "      <td>75.0</td>\n",
              "      <td>31.0</td>\n",
              "      <td>1.2</td>\n",
              "      <td>141.0</td>\n",
              "      <td>...</td>\n",
              "      <td>1</td>\n",
              "      <td>0</td>\n",
              "      <td>0</td>\n",
              "      <td>0</td>\n",
              "      <td>0</td>\n",
              "      <td>0</td>\n",
              "      <td>0</td>\n",
              "      <td>0</td>\n",
              "      <td>0</td>\n",
              "      <td>1</td>\n",
              "    </tr>\n",
              "    <tr>\n",
              "      <th>397</th>\n",
              "      <td>397</td>\n",
              "      <td>12.0</td>\n",
              "      <td>80.0</td>\n",
              "      <td>1.020</td>\n",
              "      <td>0.0</td>\n",
              "      <td>0.0</td>\n",
              "      <td>100.0</td>\n",
              "      <td>26.0</td>\n",
              "      <td>0.6</td>\n",
              "      <td>137.0</td>\n",
              "      <td>...</td>\n",
              "      <td>1</td>\n",
              "      <td>0</td>\n",
              "      <td>0</td>\n",
              "      <td>0</td>\n",
              "      <td>0</td>\n",
              "      <td>0</td>\n",
              "      <td>0</td>\n",
              "      <td>0</td>\n",
              "      <td>0</td>\n",
              "      <td>1</td>\n",
              "    </tr>\n",
              "    <tr>\n",
              "      <th>398</th>\n",
              "      <td>398</td>\n",
              "      <td>17.0</td>\n",
              "      <td>60.0</td>\n",
              "      <td>1.025</td>\n",
              "      <td>0.0</td>\n",
              "      <td>0.0</td>\n",
              "      <td>114.0</td>\n",
              "      <td>50.0</td>\n",
              "      <td>1.0</td>\n",
              "      <td>135.0</td>\n",
              "      <td>...</td>\n",
              "      <td>1</td>\n",
              "      <td>0</td>\n",
              "      <td>0</td>\n",
              "      <td>0</td>\n",
              "      <td>0</td>\n",
              "      <td>0</td>\n",
              "      <td>0</td>\n",
              "      <td>0</td>\n",
              "      <td>0</td>\n",
              "      <td>1</td>\n",
              "    </tr>\n",
              "    <tr>\n",
              "      <th>399</th>\n",
              "      <td>399</td>\n",
              "      <td>58.0</td>\n",
              "      <td>80.0</td>\n",
              "      <td>1.025</td>\n",
              "      <td>0.0</td>\n",
              "      <td>0.0</td>\n",
              "      <td>131.0</td>\n",
              "      <td>18.0</td>\n",
              "      <td>1.1</td>\n",
              "      <td>141.0</td>\n",
              "      <td>...</td>\n",
              "      <td>1</td>\n",
              "      <td>0</td>\n",
              "      <td>0</td>\n",
              "      <td>0</td>\n",
              "      <td>0</td>\n",
              "      <td>0</td>\n",
              "      <td>0</td>\n",
              "      <td>0</td>\n",
              "      <td>0</td>\n",
              "      <td>1</td>\n",
              "    </tr>\n",
              "  </tbody>\n",
              "</table>\n",
              "<p>174 rows × 23 columns</p>\n",
              "</div>\n",
              "      <button class=\"colab-df-convert\" onclick=\"convertToInteractive('df-28f8cf19-2ef0-4ecc-bb74-b0f5b64e5787')\"\n",
              "              title=\"Convert this dataframe to an interactive table.\"\n",
              "              style=\"display:none;\">\n",
              "        \n",
              "  <svg xmlns=\"http://www.w3.org/2000/svg\" height=\"24px\"viewBox=\"0 0 24 24\"\n",
              "       width=\"24px\">\n",
              "    <path d=\"M0 0h24v24H0V0z\" fill=\"none\"/>\n",
              "    <path d=\"M18.56 5.44l.94 2.06.94-2.06 2.06-.94-2.06-.94-.94-2.06-.94 2.06-2.06.94zm-11 1L8.5 8.5l.94-2.06 2.06-.94-2.06-.94L8.5 2.5l-.94 2.06-2.06.94zm10 10l.94 2.06.94-2.06 2.06-.94-2.06-.94-.94-2.06-.94 2.06-2.06.94z\"/><path d=\"M17.41 7.96l-1.37-1.37c-.4-.4-.92-.59-1.43-.59-.52 0-1.04.2-1.43.59L10.3 9.45l-7.72 7.72c-.78.78-.78 2.05 0 2.83L4 21.41c.39.39.9.59 1.41.59.51 0 1.02-.2 1.41-.59l7.78-7.78 2.81-2.81c.8-.78.8-2.07 0-2.86zM5.41 20L4 18.59l7.72-7.72 1.47 1.35L5.41 20z\"/>\n",
              "  </svg>\n",
              "      </button>\n",
              "      \n",
              "  <style>\n",
              "    .colab-df-container {\n",
              "      display:flex;\n",
              "      flex-wrap:wrap;\n",
              "      gap: 12px;\n",
              "    }\n",
              "\n",
              "    .colab-df-convert {\n",
              "      background-color: #E8F0FE;\n",
              "      border: none;\n",
              "      border-radius: 50%;\n",
              "      cursor: pointer;\n",
              "      display: none;\n",
              "      fill: #1967D2;\n",
              "      height: 32px;\n",
              "      padding: 0 0 0 0;\n",
              "      width: 32px;\n",
              "    }\n",
              "\n",
              "    .colab-df-convert:hover {\n",
              "      background-color: #E2EBFA;\n",
              "      box-shadow: 0px 1px 2px rgba(60, 64, 67, 0.3), 0px 1px 3px 1px rgba(60, 64, 67, 0.15);\n",
              "      fill: #174EA6;\n",
              "    }\n",
              "\n",
              "    [theme=dark] .colab-df-convert {\n",
              "      background-color: #3B4455;\n",
              "      fill: #D2E3FC;\n",
              "    }\n",
              "\n",
              "    [theme=dark] .colab-df-convert:hover {\n",
              "      background-color: #434B5C;\n",
              "      box-shadow: 0px 1px 3px 1px rgba(0, 0, 0, 0.15);\n",
              "      filter: drop-shadow(0px 1px 2px rgba(0, 0, 0, 0.3));\n",
              "      fill: #FFFFFF;\n",
              "    }\n",
              "  </style>\n",
              "\n",
              "      <script>\n",
              "        const buttonEl =\n",
              "          document.querySelector('#df-28f8cf19-2ef0-4ecc-bb74-b0f5b64e5787 button.colab-df-convert');\n",
              "        buttonEl.style.display =\n",
              "          google.colab.kernel.accessAllowed ? 'block' : 'none';\n",
              "\n",
              "        async function convertToInteractive(key) {\n",
              "          const element = document.querySelector('#df-28f8cf19-2ef0-4ecc-bb74-b0f5b64e5787');\n",
              "          const dataTable =\n",
              "            await google.colab.kernel.invokeFunction('convertToInteractive',\n",
              "                                                     [key], {});\n",
              "          if (!dataTable) return;\n",
              "\n",
              "          const docLinkHtml = 'Like what you see? Visit the ' +\n",
              "            '<a target=\"_blank\" href=https://colab.research.google.com/notebooks/data_table.ipynb>data table notebook</a>'\n",
              "            + ' to learn more about interactive tables.';\n",
              "          element.innerHTML = '';\n",
              "          dataTable['output_type'] = 'display_data';\n",
              "          await google.colab.output.renderOutput(dataTable, element);\n",
              "          const docLink = document.createElement('div');\n",
              "          docLink.innerHTML = docLinkHtml;\n",
              "          element.appendChild(docLink);\n",
              "        }\n",
              "      </script>\n",
              "    </div>\n",
              "  </div>\n",
              "  "
            ]
          },
          "metadata": {},
          "execution_count": 28
        }
      ]
    },
    {
      "cell_type": "code",
      "source": [
        "df = df.drop(columns=['id'],axis=1)"
      ],
      "metadata": {
        "id": "bI_fYsKGsfJp"
      },
      "execution_count": null,
      "outputs": []
    },
    {
      "cell_type": "code",
      "source": [
        "df"
      ],
      "metadata": {
        "colab": {
          "base_uri": "https://localhost:8080/",
          "height": 416
        },
        "id": "K78UVnscs9mo",
        "outputId": "4e4162ca-f7e2-4a3e-c90c-18b9a6bad4c8"
      },
      "execution_count": null,
      "outputs": [
        {
          "output_type": "execute_result",
          "data": {
            "text/plain": [
              "      age    bp     sg   al   su    bgr     bu   sc    sod  pot  ...  \\\n",
              "3    48.0  70.0  1.005  4.0  0.0  117.0   56.0  3.8  111.0  2.5  ...   \n",
              "9    53.0  90.0  1.020  2.0  0.0   70.0  107.0  7.2  114.0  3.7  ...   \n",
              "11   63.0  70.0  1.010  3.0  0.0  380.0   60.0  2.7  131.0  4.2  ...   \n",
              "14   68.0  80.0  1.010  3.0  2.0  157.0   90.0  4.1  130.0  6.4  ...   \n",
              "20   61.0  80.0  1.015  2.0  0.0  173.0  148.0  3.9  135.0  5.2  ...   \n",
              "..    ...   ...    ...  ...  ...    ...    ...  ...    ...  ...  ...   \n",
              "395  55.0  80.0  1.020  0.0  0.0  140.0   49.0  0.5  150.0  4.9  ...   \n",
              "396  42.0  70.0  1.025  0.0  0.0   75.0   31.0  1.2  141.0  3.5  ...   \n",
              "397  12.0  80.0  1.020  0.0  0.0  100.0   26.0  0.6  137.0  4.4  ...   \n",
              "398  17.0  60.0  1.025  0.0  0.0  114.0   50.0  1.0  135.0  4.9  ...   \n",
              "399  58.0  80.0  1.025  0.0  0.0  131.0   18.0  1.1  141.0  3.5  ...   \n",
              "\n",
              "     pc_normal  pcc_present  ba_present  htn_yes  dm_yes  cad_yes  appet_poor  \\\n",
              "3            0            1           0        1       0        0           1   \n",
              "9            0            1           0        1       1        0           1   \n",
              "11           0            1           0        1       1        0           1   \n",
              "14           0            1           1        1       1        1           1   \n",
              "20           0            0           0        1       1        1           1   \n",
              "..         ...          ...         ...      ...     ...      ...         ...   \n",
              "395          1            0           0        0       0        0           0   \n",
              "396          1            0           0        0       0        0           0   \n",
              "397          1            0           0        0       0        0           0   \n",
              "398          1            0           0        0       0        0           0   \n",
              "399          1            0           0        0       0        0           0   \n",
              "\n",
              "     pe_yes  ane_yes  classification_notckd  \n",
              "3         1        1                      0  \n",
              "9         0        1                      0  \n",
              "11        1        0                      0  \n",
              "14        1        0                      0  \n",
              "20        1        1                      0  \n",
              "..      ...      ...                    ...  \n",
              "395       0        0                      1  \n",
              "396       0        0                      1  \n",
              "397       0        0                      1  \n",
              "398       0        0                      1  \n",
              "399       0        0                      1  \n",
              "\n",
              "[174 rows x 22 columns]"
            ],
            "text/html": [
              "\n",
              "  <div id=\"df-94b44465-bcbe-486b-b44f-502291773ad8\">\n",
              "    <div class=\"colab-df-container\">\n",
              "      <div>\n",
              "<style scoped>\n",
              "    .dataframe tbody tr th:only-of-type {\n",
              "        vertical-align: middle;\n",
              "    }\n",
              "\n",
              "    .dataframe tbody tr th {\n",
              "        vertical-align: top;\n",
              "    }\n",
              "\n",
              "    .dataframe thead th {\n",
              "        text-align: right;\n",
              "    }\n",
              "</style>\n",
              "<table border=\"1\" class=\"dataframe\">\n",
              "  <thead>\n",
              "    <tr style=\"text-align: right;\">\n",
              "      <th></th>\n",
              "      <th>age</th>\n",
              "      <th>bp</th>\n",
              "      <th>sg</th>\n",
              "      <th>al</th>\n",
              "      <th>su</th>\n",
              "      <th>bgr</th>\n",
              "      <th>bu</th>\n",
              "      <th>sc</th>\n",
              "      <th>sod</th>\n",
              "      <th>pot</th>\n",
              "      <th>...</th>\n",
              "      <th>pc_normal</th>\n",
              "      <th>pcc_present</th>\n",
              "      <th>ba_present</th>\n",
              "      <th>htn_yes</th>\n",
              "      <th>dm_yes</th>\n",
              "      <th>cad_yes</th>\n",
              "      <th>appet_poor</th>\n",
              "      <th>pe_yes</th>\n",
              "      <th>ane_yes</th>\n",
              "      <th>classification_notckd</th>\n",
              "    </tr>\n",
              "  </thead>\n",
              "  <tbody>\n",
              "    <tr>\n",
              "      <th>3</th>\n",
              "      <td>48.0</td>\n",
              "      <td>70.0</td>\n",
              "      <td>1.005</td>\n",
              "      <td>4.0</td>\n",
              "      <td>0.0</td>\n",
              "      <td>117.0</td>\n",
              "      <td>56.0</td>\n",
              "      <td>3.8</td>\n",
              "      <td>111.0</td>\n",
              "      <td>2.5</td>\n",
              "      <td>...</td>\n",
              "      <td>0</td>\n",
              "      <td>1</td>\n",
              "      <td>0</td>\n",
              "      <td>1</td>\n",
              "      <td>0</td>\n",
              "      <td>0</td>\n",
              "      <td>1</td>\n",
              "      <td>1</td>\n",
              "      <td>1</td>\n",
              "      <td>0</td>\n",
              "    </tr>\n",
              "    <tr>\n",
              "      <th>9</th>\n",
              "      <td>53.0</td>\n",
              "      <td>90.0</td>\n",
              "      <td>1.020</td>\n",
              "      <td>2.0</td>\n",
              "      <td>0.0</td>\n",
              "      <td>70.0</td>\n",
              "      <td>107.0</td>\n",
              "      <td>7.2</td>\n",
              "      <td>114.0</td>\n",
              "      <td>3.7</td>\n",
              "      <td>...</td>\n",
              "      <td>0</td>\n",
              "      <td>1</td>\n",
              "      <td>0</td>\n",
              "      <td>1</td>\n",
              "      <td>1</td>\n",
              "      <td>0</td>\n",
              "      <td>1</td>\n",
              "      <td>0</td>\n",
              "      <td>1</td>\n",
              "      <td>0</td>\n",
              "    </tr>\n",
              "    <tr>\n",
              "      <th>11</th>\n",
              "      <td>63.0</td>\n",
              "      <td>70.0</td>\n",
              "      <td>1.010</td>\n",
              "      <td>3.0</td>\n",
              "      <td>0.0</td>\n",
              "      <td>380.0</td>\n",
              "      <td>60.0</td>\n",
              "      <td>2.7</td>\n",
              "      <td>131.0</td>\n",
              "      <td>4.2</td>\n",
              "      <td>...</td>\n",
              "      <td>0</td>\n",
              "      <td>1</td>\n",
              "      <td>0</td>\n",
              "      <td>1</td>\n",
              "      <td>1</td>\n",
              "      <td>0</td>\n",
              "      <td>1</td>\n",
              "      <td>1</td>\n",
              "      <td>0</td>\n",
              "      <td>0</td>\n",
              "    </tr>\n",
              "    <tr>\n",
              "      <th>14</th>\n",
              "      <td>68.0</td>\n",
              "      <td>80.0</td>\n",
              "      <td>1.010</td>\n",
              "      <td>3.0</td>\n",
              "      <td>2.0</td>\n",
              "      <td>157.0</td>\n",
              "      <td>90.0</td>\n",
              "      <td>4.1</td>\n",
              "      <td>130.0</td>\n",
              "      <td>6.4</td>\n",
              "      <td>...</td>\n",
              "      <td>0</td>\n",
              "      <td>1</td>\n",
              "      <td>1</td>\n",
              "      <td>1</td>\n",
              "      <td>1</td>\n",
              "      <td>1</td>\n",
              "      <td>1</td>\n",
              "      <td>1</td>\n",
              "      <td>0</td>\n",
              "      <td>0</td>\n",
              "    </tr>\n",
              "    <tr>\n",
              "      <th>20</th>\n",
              "      <td>61.0</td>\n",
              "      <td>80.0</td>\n",
              "      <td>1.015</td>\n",
              "      <td>2.0</td>\n",
              "      <td>0.0</td>\n",
              "      <td>173.0</td>\n",
              "      <td>148.0</td>\n",
              "      <td>3.9</td>\n",
              "      <td>135.0</td>\n",
              "      <td>5.2</td>\n",
              "      <td>...</td>\n",
              "      <td>0</td>\n",
              "      <td>0</td>\n",
              "      <td>0</td>\n",
              "      <td>1</td>\n",
              "      <td>1</td>\n",
              "      <td>1</td>\n",
              "      <td>1</td>\n",
              "      <td>1</td>\n",
              "      <td>1</td>\n",
              "      <td>0</td>\n",
              "    </tr>\n",
              "    <tr>\n",
              "      <th>...</th>\n",
              "      <td>...</td>\n",
              "      <td>...</td>\n",
              "      <td>...</td>\n",
              "      <td>...</td>\n",
              "      <td>...</td>\n",
              "      <td>...</td>\n",
              "      <td>...</td>\n",
              "      <td>...</td>\n",
              "      <td>...</td>\n",
              "      <td>...</td>\n",
              "      <td>...</td>\n",
              "      <td>...</td>\n",
              "      <td>...</td>\n",
              "      <td>...</td>\n",
              "      <td>...</td>\n",
              "      <td>...</td>\n",
              "      <td>...</td>\n",
              "      <td>...</td>\n",
              "      <td>...</td>\n",
              "      <td>...</td>\n",
              "      <td>...</td>\n",
              "    </tr>\n",
              "    <tr>\n",
              "      <th>395</th>\n",
              "      <td>55.0</td>\n",
              "      <td>80.0</td>\n",
              "      <td>1.020</td>\n",
              "      <td>0.0</td>\n",
              "      <td>0.0</td>\n",
              "      <td>140.0</td>\n",
              "      <td>49.0</td>\n",
              "      <td>0.5</td>\n",
              "      <td>150.0</td>\n",
              "      <td>4.9</td>\n",
              "      <td>...</td>\n",
              "      <td>1</td>\n",
              "      <td>0</td>\n",
              "      <td>0</td>\n",
              "      <td>0</td>\n",
              "      <td>0</td>\n",
              "      <td>0</td>\n",
              "      <td>0</td>\n",
              "      <td>0</td>\n",
              "      <td>0</td>\n",
              "      <td>1</td>\n",
              "    </tr>\n",
              "    <tr>\n",
              "      <th>396</th>\n",
              "      <td>42.0</td>\n",
              "      <td>70.0</td>\n",
              "      <td>1.025</td>\n",
              "      <td>0.0</td>\n",
              "      <td>0.0</td>\n",
              "      <td>75.0</td>\n",
              "      <td>31.0</td>\n",
              "      <td>1.2</td>\n",
              "      <td>141.0</td>\n",
              "      <td>3.5</td>\n",
              "      <td>...</td>\n",
              "      <td>1</td>\n",
              "      <td>0</td>\n",
              "      <td>0</td>\n",
              "      <td>0</td>\n",
              "      <td>0</td>\n",
              "      <td>0</td>\n",
              "      <td>0</td>\n",
              "      <td>0</td>\n",
              "      <td>0</td>\n",
              "      <td>1</td>\n",
              "    </tr>\n",
              "    <tr>\n",
              "      <th>397</th>\n",
              "      <td>12.0</td>\n",
              "      <td>80.0</td>\n",
              "      <td>1.020</td>\n",
              "      <td>0.0</td>\n",
              "      <td>0.0</td>\n",
              "      <td>100.0</td>\n",
              "      <td>26.0</td>\n",
              "      <td>0.6</td>\n",
              "      <td>137.0</td>\n",
              "      <td>4.4</td>\n",
              "      <td>...</td>\n",
              "      <td>1</td>\n",
              "      <td>0</td>\n",
              "      <td>0</td>\n",
              "      <td>0</td>\n",
              "      <td>0</td>\n",
              "      <td>0</td>\n",
              "      <td>0</td>\n",
              "      <td>0</td>\n",
              "      <td>0</td>\n",
              "      <td>1</td>\n",
              "    </tr>\n",
              "    <tr>\n",
              "      <th>398</th>\n",
              "      <td>17.0</td>\n",
              "      <td>60.0</td>\n",
              "      <td>1.025</td>\n",
              "      <td>0.0</td>\n",
              "      <td>0.0</td>\n",
              "      <td>114.0</td>\n",
              "      <td>50.0</td>\n",
              "      <td>1.0</td>\n",
              "      <td>135.0</td>\n",
              "      <td>4.9</td>\n",
              "      <td>...</td>\n",
              "      <td>1</td>\n",
              "      <td>0</td>\n",
              "      <td>0</td>\n",
              "      <td>0</td>\n",
              "      <td>0</td>\n",
              "      <td>0</td>\n",
              "      <td>0</td>\n",
              "      <td>0</td>\n",
              "      <td>0</td>\n",
              "      <td>1</td>\n",
              "    </tr>\n",
              "    <tr>\n",
              "      <th>399</th>\n",
              "      <td>58.0</td>\n",
              "      <td>80.0</td>\n",
              "      <td>1.025</td>\n",
              "      <td>0.0</td>\n",
              "      <td>0.0</td>\n",
              "      <td>131.0</td>\n",
              "      <td>18.0</td>\n",
              "      <td>1.1</td>\n",
              "      <td>141.0</td>\n",
              "      <td>3.5</td>\n",
              "      <td>...</td>\n",
              "      <td>1</td>\n",
              "      <td>0</td>\n",
              "      <td>0</td>\n",
              "      <td>0</td>\n",
              "      <td>0</td>\n",
              "      <td>0</td>\n",
              "      <td>0</td>\n",
              "      <td>0</td>\n",
              "      <td>0</td>\n",
              "      <td>1</td>\n",
              "    </tr>\n",
              "  </tbody>\n",
              "</table>\n",
              "<p>174 rows × 22 columns</p>\n",
              "</div>\n",
              "      <button class=\"colab-df-convert\" onclick=\"convertToInteractive('df-94b44465-bcbe-486b-b44f-502291773ad8')\"\n",
              "              title=\"Convert this dataframe to an interactive table.\"\n",
              "              style=\"display:none;\">\n",
              "        \n",
              "  <svg xmlns=\"http://www.w3.org/2000/svg\" height=\"24px\"viewBox=\"0 0 24 24\"\n",
              "       width=\"24px\">\n",
              "    <path d=\"M0 0h24v24H0V0z\" fill=\"none\"/>\n",
              "    <path d=\"M18.56 5.44l.94 2.06.94-2.06 2.06-.94-2.06-.94-.94-2.06-.94 2.06-2.06.94zm-11 1L8.5 8.5l.94-2.06 2.06-.94-2.06-.94L8.5 2.5l-.94 2.06-2.06.94zm10 10l.94 2.06.94-2.06 2.06-.94-2.06-.94-.94-2.06-.94 2.06-2.06.94z\"/><path d=\"M17.41 7.96l-1.37-1.37c-.4-.4-.92-.59-1.43-.59-.52 0-1.04.2-1.43.59L10.3 9.45l-7.72 7.72c-.78.78-.78 2.05 0 2.83L4 21.41c.39.39.9.59 1.41.59.51 0 1.02-.2 1.41-.59l7.78-7.78 2.81-2.81c.8-.78.8-2.07 0-2.86zM5.41 20L4 18.59l7.72-7.72 1.47 1.35L5.41 20z\"/>\n",
              "  </svg>\n",
              "      </button>\n",
              "      \n",
              "  <style>\n",
              "    .colab-df-container {\n",
              "      display:flex;\n",
              "      flex-wrap:wrap;\n",
              "      gap: 12px;\n",
              "    }\n",
              "\n",
              "    .colab-df-convert {\n",
              "      background-color: #E8F0FE;\n",
              "      border: none;\n",
              "      border-radius: 50%;\n",
              "      cursor: pointer;\n",
              "      display: none;\n",
              "      fill: #1967D2;\n",
              "      height: 32px;\n",
              "      padding: 0 0 0 0;\n",
              "      width: 32px;\n",
              "    }\n",
              "\n",
              "    .colab-df-convert:hover {\n",
              "      background-color: #E2EBFA;\n",
              "      box-shadow: 0px 1px 2px rgba(60, 64, 67, 0.3), 0px 1px 3px 1px rgba(60, 64, 67, 0.15);\n",
              "      fill: #174EA6;\n",
              "    }\n",
              "\n",
              "    [theme=dark] .colab-df-convert {\n",
              "      background-color: #3B4455;\n",
              "      fill: #D2E3FC;\n",
              "    }\n",
              "\n",
              "    [theme=dark] .colab-df-convert:hover {\n",
              "      background-color: #434B5C;\n",
              "      box-shadow: 0px 1px 3px 1px rgba(0, 0, 0, 0.15);\n",
              "      filter: drop-shadow(0px 1px 2px rgba(0, 0, 0, 0.3));\n",
              "      fill: #FFFFFF;\n",
              "    }\n",
              "  </style>\n",
              "\n",
              "      <script>\n",
              "        const buttonEl =\n",
              "          document.querySelector('#df-94b44465-bcbe-486b-b44f-502291773ad8 button.colab-df-convert');\n",
              "        buttonEl.style.display =\n",
              "          google.colab.kernel.accessAllowed ? 'block' : 'none';\n",
              "\n",
              "        async function convertToInteractive(key) {\n",
              "          const element = document.querySelector('#df-94b44465-bcbe-486b-b44f-502291773ad8');\n",
              "          const dataTable =\n",
              "            await google.colab.kernel.invokeFunction('convertToInteractive',\n",
              "                                                     [key], {});\n",
              "          if (!dataTable) return;\n",
              "\n",
              "          const docLinkHtml = 'Like what you see? Visit the ' +\n",
              "            '<a target=\"_blank\" href=https://colab.research.google.com/notebooks/data_table.ipynb>data table notebook</a>'\n",
              "            + ' to learn more about interactive tables.';\n",
              "          element.innerHTML = '';\n",
              "          dataTable['output_type'] = 'display_data';\n",
              "          await google.colab.output.renderOutput(dataTable, element);\n",
              "          const docLink = document.createElement('div');\n",
              "          docLink.innerHTML = docLinkHtml;\n",
              "          element.appendChild(docLink);\n",
              "        }\n",
              "      </script>\n",
              "    </div>\n",
              "  </div>\n",
              "  "
            ]
          },
          "metadata": {},
          "execution_count": 30
        }
      ]
    },
    {
      "cell_type": "code",
      "source": [
        "df.columns"
      ],
      "metadata": {
        "colab": {
          "base_uri": "https://localhost:8080/"
        },
        "id": "GN2sRmVXtDWF",
        "outputId": "97b99c99-bdc0-4d56-fc73-2a0e21dee30b"
      },
      "execution_count": null,
      "outputs": [
        {
          "output_type": "execute_result",
          "data": {
            "text/plain": [
              "Index(['age', 'bp', 'sg', 'al', 'su', 'bgr', 'bu', 'sc', 'sod', 'pot', 'hemo',\n",
              "       'rbc_normal', 'pc_normal', 'pcc_present', 'ba_present', 'htn_yes',\n",
              "       'dm_yes', 'cad_yes', 'appet_poor', 'pe_yes', 'ane_yes',\n",
              "       'classification_notckd'],\n",
              "      dtype='object')"
            ]
          },
          "metadata": {},
          "execution_count": 31
        }
      ]
    },
    {
      "cell_type": "code",
      "source": [
        "df['hemo']"
      ],
      "metadata": {
        "colab": {
          "base_uri": "https://localhost:8080/"
        },
        "id": "GQRwu9usua1q",
        "outputId": "fa0b19a5-83cc-4499-cbc6-ab8d9956a2c7"
      },
      "execution_count": null,
      "outputs": [
        {
          "output_type": "execute_result",
          "data": {
            "text/plain": [
              "3      11.2\n",
              "9       9.5\n",
              "11     10.8\n",
              "14      5.6\n",
              "20      7.7\n",
              "       ... \n",
              "395    15.7\n",
              "396    16.5\n",
              "397    15.8\n",
              "398    14.2\n",
              "399    15.8\n",
              "Name: hemo, Length: 174, dtype: float64"
            ]
          },
          "metadata": {},
          "execution_count": 32
        }
      ]
    },
    {
      "cell_type": "code",
      "source": [
        "from sklearn.preprocessing import MinMaxScaler"
      ],
      "metadata": {
        "id": "S8gN3jGO22Dt"
      },
      "execution_count": null,
      "outputs": []
    },
    {
      "cell_type": "code",
      "source": [
        "scaler = MinMaxScaler()"
      ],
      "metadata": {
        "id": "al159R7j28Gp"
      },
      "execution_count": null,
      "outputs": []
    },
    {
      "cell_type": "code",
      "source": [
        "df['classification_notckd'].unique()"
      ],
      "metadata": {
        "colab": {
          "base_uri": "https://localhost:8080/"
        },
        "id": "d3KuMh_ptYwd",
        "outputId": "891427a7-dc04-44dd-c45b-62f3694b8e8e"
      },
      "execution_count": null,
      "outputs": [
        {
          "output_type": "execute_result",
          "data": {
            "text/plain": [
              "array([0, 1], dtype=uint8)"
            ]
          },
          "metadata": {},
          "execution_count": 35
        }
      ]
    },
    {
      "cell_type": "code",
      "source": [
        "df.columns"
      ],
      "metadata": {
        "colab": {
          "base_uri": "https://localhost:8080/"
        },
        "id": "KQXsXo4wrwBw",
        "outputId": "0ec9b2bd-3002-4542-db9d-d1b29c7eca17"
      },
      "execution_count": null,
      "outputs": [
        {
          "output_type": "execute_result",
          "data": {
            "text/plain": [
              "Index(['age', 'bp', 'sg', 'al', 'su', 'bgr', 'bu', 'sc', 'sod', 'pot', 'hemo',\n",
              "       'rbc_normal', 'pc_normal', 'pcc_present', 'ba_present', 'htn_yes',\n",
              "       'dm_yes', 'cad_yes', 'appet_poor', 'pe_yes', 'ane_yes',\n",
              "       'classification_notckd'],\n",
              "      dtype='object')"
            ]
          },
          "metadata": {},
          "execution_count": 40
        }
      ]
    },
    {
      "cell_type": "code",
      "source": [
        "df['classification_notckd'].value_counts()"
      ],
      "metadata": {
        "colab": {
          "base_uri": "https://localhost:8080/"
        },
        "id": "U5Fy-colrglj",
        "outputId": "b6af94c8-3064-4889-d679-2a32b7b09be0"
      },
      "execution_count": null,
      "outputs": [
        {
          "output_type": "execute_result",
          "data": {
            "text/plain": [
              "1    118\n",
              "0     56\n",
              "Name: classification_notckd, dtype: int64"
            ]
          },
          "metadata": {},
          "execution_count": 44
        }
      ]
    },
    {
      "cell_type": "code",
      "source": [
        "from sklearn.model_selection import train_test_split"
      ],
      "metadata": {
        "id": "iIVfYPK13QcR"
      },
      "execution_count": null,
      "outputs": []
    },
    {
      "cell_type": "code",
      "source": [
        "X = df.drop(columns=['classification_notckd'],axis=1)\n",
        "\n",
        "y = df['classification_notckd']"
      ],
      "metadata": {
        "id": "PzL6Zzc93nbK"
      },
      "execution_count": null,
      "outputs": []
    },
    {
      "cell_type": "code",
      "source": [
        "X_train, X_test, y_train, y_test = train_test_split(X, y, test_size=0.33, random_state=42)"
      ],
      "metadata": {
        "id": "43RegE9o3bR4"
      },
      "execution_count": null,
      "outputs": []
    },
    {
      "cell_type": "code",
      "source": [
        "X_train = scaler.fit_transform(X_train)"
      ],
      "metadata": {
        "id": "OZq9Tk_Q3mQ5"
      },
      "execution_count": null,
      "outputs": []
    },
    {
      "cell_type": "code",
      "source": [
        "X_test = scaler.transform(X_test)"
      ],
      "metadata": {
        "id": "Tph_FKM134Yp"
      },
      "execution_count": null,
      "outputs": []
    },
    {
      "cell_type": "code",
      "source": [
        "from tensorflow.keras.models import Sequential"
      ],
      "metadata": {
        "id": "AsC2YJLG37uD"
      },
      "execution_count": null,
      "outputs": []
    },
    {
      "cell_type": "code",
      "source": [
        "from tensorflow.keras.layers import Dense, Dropout"
      ],
      "metadata": {
        "id": "_uEI4ERR4IgK"
      },
      "execution_count": null,
      "outputs": []
    },
    {
      "cell_type": "code",
      "source": [
        "model = Sequential()\n",
        "\n",
        "model.add(Dense(128, activation='relu'))\n",
        "model.add(Dropout(0.15))\n",
        "\n",
        "model.add(Dense(64, activation='relu'))\n",
        "model.add(Dropout(0.15))\n",
        "\n",
        "model.add(Dense(32, activation='relu'))\n",
        "\n",
        "model.add(Dense(1, activation='sigmoid'))\n",
        "\n",
        "model.compile(loss='binary_crossentropy', metrics=['accuracy'], optimizer='rmsprop')"
      ],
      "metadata": {
        "id": "E5lsnP6K4LX2"
      },
      "execution_count": null,
      "outputs": []
    },
    {
      "cell_type": "code",
      "source": [
        "from tensorflow.keras.callbacks import EarlyStopping"
      ],
      "metadata": {
        "id": "5XXG57_74Tnd"
      },
      "execution_count": null,
      "outputs": []
    },
    {
      "cell_type": "code",
      "source": [
        "early_stop = EarlyStopping(patience=25,monitor='val_loss',mode='min')"
      ],
      "metadata": {
        "id": "nWHFVqNy4YP7"
      },
      "execution_count": null,
      "outputs": []
    },
    {
      "cell_type": "code",
      "source": [
        "results = model.fit(X_train,y_train,validation_data=[X_test,y_test],epochs=600,callbacks=[early_stop])"
      ],
      "metadata": {
        "colab": {
          "base_uri": "https://localhost:8080/"
        },
        "id": "Y9ct5AQq5GvA",
        "outputId": "5e9707cd-88a2-4ce5-cbd7-b905d293d782"
      },
      "execution_count": null,
      "outputs": [
        {
          "output_type": "stream",
          "name": "stdout",
          "text": [
            "Epoch 1/600\n",
            "4/4 [==============================] - 6s 69ms/step - loss: 0.6543 - accuracy: 0.6810 - val_loss: 0.5542 - val_accuracy: 0.8966\n",
            "Epoch 2/600\n",
            "4/4 [==============================] - 0s 13ms/step - loss: 0.5385 - accuracy: 0.8793 - val_loss: 0.4379 - val_accuracy: 0.9310\n",
            "Epoch 3/600\n",
            "4/4 [==============================] - 0s 12ms/step - loss: 0.4135 - accuracy: 0.9569 - val_loss: 0.3363 - val_accuracy: 0.9310\n",
            "Epoch 4/600\n",
            "4/4 [==============================] - 0s 18ms/step - loss: 0.2981 - accuracy: 0.9741 - val_loss: 0.2445 - val_accuracy: 0.9483\n",
            "Epoch 5/600\n",
            "4/4 [==============================] - 0s 13ms/step - loss: 0.2131 - accuracy: 0.9655 - val_loss: 0.1972 - val_accuracy: 0.9310\n",
            "Epoch 6/600\n",
            "4/4 [==============================] - 0s 13ms/step - loss: 0.1610 - accuracy: 0.9741 - val_loss: 0.1576 - val_accuracy: 0.9483\n",
            "Epoch 7/600\n",
            "4/4 [==============================] - 0s 12ms/step - loss: 0.1325 - accuracy: 0.9655 - val_loss: 0.1183 - val_accuracy: 0.9483\n",
            "Epoch 8/600\n",
            "4/4 [==============================] - 0s 12ms/step - loss: 0.0893 - accuracy: 0.9828 - val_loss: 0.1048 - val_accuracy: 0.9483\n",
            "Epoch 9/600\n",
            "4/4 [==============================] - 0s 12ms/step - loss: 0.0729 - accuracy: 0.9828 - val_loss: 0.1038 - val_accuracy: 0.9483\n",
            "Epoch 10/600\n",
            "4/4 [==============================] - 0s 19ms/step - loss: 0.0596 - accuracy: 0.9828 - val_loss: 0.0922 - val_accuracy: 0.9483\n",
            "Epoch 11/600\n",
            "4/4 [==============================] - 0s 18ms/step - loss: 0.0472 - accuracy: 0.9914 - val_loss: 0.0709 - val_accuracy: 0.9655\n",
            "Epoch 12/600\n",
            "4/4 [==============================] - 0s 13ms/step - loss: 0.0333 - accuracy: 0.9914 - val_loss: 0.0759 - val_accuracy: 0.9655\n",
            "Epoch 13/600\n",
            "4/4 [==============================] - 0s 15ms/step - loss: 0.0335 - accuracy: 0.9914 - val_loss: 0.0533 - val_accuracy: 0.9828\n",
            "Epoch 14/600\n",
            "4/4 [==============================] - 0s 13ms/step - loss: 0.0359 - accuracy: 0.9828 - val_loss: 0.0567 - val_accuracy: 0.9828\n",
            "Epoch 15/600\n",
            "4/4 [==============================] - 0s 17ms/step - loss: 0.0236 - accuracy: 0.9914 - val_loss: 0.0422 - val_accuracy: 0.9828\n",
            "Epoch 16/600\n",
            "4/4 [==============================] - 0s 12ms/step - loss: 0.0150 - accuracy: 1.0000 - val_loss: 0.0460 - val_accuracy: 0.9828\n",
            "Epoch 17/600\n",
            "4/4 [==============================] - 0s 13ms/step - loss: 0.0229 - accuracy: 0.9914 - val_loss: 0.0440 - val_accuracy: 0.9828\n",
            "Epoch 18/600\n",
            "4/4 [==============================] - 0s 13ms/step - loss: 0.0113 - accuracy: 1.0000 - val_loss: 0.0418 - val_accuracy: 0.9828\n",
            "Epoch 19/600\n",
            "4/4 [==============================] - 0s 13ms/step - loss: 0.0119 - accuracy: 1.0000 - val_loss: 0.0389 - val_accuracy: 0.9828\n",
            "Epoch 20/600\n",
            "4/4 [==============================] - 0s 19ms/step - loss: 0.0057 - accuracy: 1.0000 - val_loss: 0.0386 - val_accuracy: 0.9828\n",
            "Epoch 21/600\n",
            "4/4 [==============================] - 0s 14ms/step - loss: 0.0119 - accuracy: 1.0000 - val_loss: 0.0357 - val_accuracy: 0.9828\n",
            "Epoch 22/600\n",
            "4/4 [==============================] - 0s 13ms/step - loss: 0.0053 - accuracy: 1.0000 - val_loss: 0.0366 - val_accuracy: 0.9828\n",
            "Epoch 23/600\n",
            "4/4 [==============================] - 0s 19ms/step - loss: 0.0032 - accuracy: 1.0000 - val_loss: 0.0398 - val_accuracy: 0.9828\n",
            "Epoch 24/600\n",
            "4/4 [==============================] - 0s 18ms/step - loss: 0.0041 - accuracy: 1.0000 - val_loss: 0.0330 - val_accuracy: 0.9828\n",
            "Epoch 25/600\n",
            "4/4 [==============================] - 0s 17ms/step - loss: 0.0097 - accuracy: 1.0000 - val_loss: 0.0257 - val_accuracy: 0.9828\n",
            "Epoch 26/600\n",
            "4/4 [==============================] - 0s 17ms/step - loss: 0.0037 - accuracy: 1.0000 - val_loss: 0.0204 - val_accuracy: 0.9828\n",
            "Epoch 27/600\n",
            "4/4 [==============================] - 0s 13ms/step - loss: 0.0024 - accuracy: 1.0000 - val_loss: 0.0262 - val_accuracy: 0.9828\n",
            "Epoch 28/600\n",
            "4/4 [==============================] - 0s 18ms/step - loss: 0.0024 - accuracy: 1.0000 - val_loss: 0.0289 - val_accuracy: 0.9828\n",
            "Epoch 29/600\n",
            "4/4 [==============================] - 0s 17ms/step - loss: 0.0015 - accuracy: 1.0000 - val_loss: 0.0330 - val_accuracy: 0.9828\n",
            "Epoch 30/600\n",
            "4/4 [==============================] - 0s 18ms/step - loss: 0.0013 - accuracy: 1.0000 - val_loss: 0.0312 - val_accuracy: 0.9828\n",
            "Epoch 31/600\n",
            "4/4 [==============================] - 0s 15ms/step - loss: 0.0012 - accuracy: 1.0000 - val_loss: 0.0356 - val_accuracy: 0.9828\n",
            "Epoch 32/600\n",
            "4/4 [==============================] - 0s 23ms/step - loss: 0.0012 - accuracy: 1.0000 - val_loss: 0.0280 - val_accuracy: 0.9828\n",
            "Epoch 33/600\n",
            "4/4 [==============================] - 0s 13ms/step - loss: 0.0020 - accuracy: 1.0000 - val_loss: 0.0272 - val_accuracy: 0.9828\n",
            "Epoch 34/600\n",
            "4/4 [==============================] - 0s 12ms/step - loss: 0.0011 - accuracy: 1.0000 - val_loss: 0.0269 - val_accuracy: 0.9828\n",
            "Epoch 35/600\n",
            "4/4 [==============================] - 0s 12ms/step - loss: 6.5355e-04 - accuracy: 1.0000 - val_loss: 0.0274 - val_accuracy: 0.9828\n",
            "Epoch 36/600\n",
            "4/4 [==============================] - 0s 14ms/step - loss: 8.7081e-04 - accuracy: 1.0000 - val_loss: 0.0215 - val_accuracy: 0.9828\n",
            "Epoch 37/600\n",
            "4/4 [==============================] - 0s 14ms/step - loss: 9.0395e-04 - accuracy: 1.0000 - val_loss: 0.0208 - val_accuracy: 0.9828\n",
            "Epoch 38/600\n",
            "4/4 [==============================] - 0s 14ms/step - loss: 4.6098e-04 - accuracy: 1.0000 - val_loss: 0.0238 - val_accuracy: 0.9828\n",
            "Epoch 39/600\n",
            "4/4 [==============================] - 0s 19ms/step - loss: 0.0015 - accuracy: 1.0000 - val_loss: 0.0142 - val_accuracy: 0.9828\n",
            "Epoch 40/600\n",
            "4/4 [==============================] - 0s 14ms/step - loss: 8.6061e-04 - accuracy: 1.0000 - val_loss: 0.0231 - val_accuracy: 0.9828\n",
            "Epoch 41/600\n",
            "4/4 [==============================] - 0s 13ms/step - loss: 4.6284e-04 - accuracy: 1.0000 - val_loss: 0.0247 - val_accuracy: 0.9828\n",
            "Epoch 42/600\n",
            "4/4 [==============================] - 0s 13ms/step - loss: 2.7570e-04 - accuracy: 1.0000 - val_loss: 0.0292 - val_accuracy: 0.9828\n",
            "Epoch 43/600\n",
            "4/4 [==============================] - 0s 13ms/step - loss: 2.1636e-04 - accuracy: 1.0000 - val_loss: 0.0327 - val_accuracy: 0.9828\n",
            "Epoch 44/600\n",
            "4/4 [==============================] - 0s 12ms/step - loss: 5.2620e-04 - accuracy: 1.0000 - val_loss: 0.0377 - val_accuracy: 0.9828\n",
            "Epoch 45/600\n",
            "4/4 [==============================] - 0s 14ms/step - loss: 4.1248e-04 - accuracy: 1.0000 - val_loss: 0.0261 - val_accuracy: 0.9828\n",
            "Epoch 46/600\n",
            "4/4 [==============================] - 0s 18ms/step - loss: 2.6114e-04 - accuracy: 1.0000 - val_loss: 0.0325 - val_accuracy: 0.9828\n",
            "Epoch 47/600\n",
            "4/4 [==============================] - 0s 13ms/step - loss: 9.9205e-05 - accuracy: 1.0000 - val_loss: 0.0357 - val_accuracy: 0.9828\n",
            "Epoch 48/600\n",
            "4/4 [==============================] - 0s 13ms/step - loss: 2.4362e-04 - accuracy: 1.0000 - val_loss: 0.0278 - val_accuracy: 0.9828\n",
            "Epoch 49/600\n",
            "4/4 [==============================] - 0s 14ms/step - loss: 3.7666e-04 - accuracy: 1.0000 - val_loss: 0.0158 - val_accuracy: 0.9828\n",
            "Epoch 50/600\n",
            "4/4 [==============================] - 0s 12ms/step - loss: 2.5867e-04 - accuracy: 1.0000 - val_loss: 0.0238 - val_accuracy: 0.9828\n",
            "Epoch 51/600\n",
            "4/4 [==============================] - 0s 12ms/step - loss: 1.2886e-04 - accuracy: 1.0000 - val_loss: 0.0254 - val_accuracy: 0.9828\n",
            "Epoch 52/600\n",
            "4/4 [==============================] - 0s 12ms/step - loss: 4.1283e-04 - accuracy: 1.0000 - val_loss: 0.0374 - val_accuracy: 0.9828\n",
            "Epoch 53/600\n",
            "4/4 [==============================] - 0s 18ms/step - loss: 5.8057e-05 - accuracy: 1.0000 - val_loss: 0.0385 - val_accuracy: 0.9828\n",
            "Epoch 54/600\n",
            "4/4 [==============================] - 0s 18ms/step - loss: 1.4925e-04 - accuracy: 1.0000 - val_loss: 0.0293 - val_accuracy: 0.9828\n",
            "Epoch 55/600\n",
            "4/4 [==============================] - 0s 12ms/step - loss: 1.1924e-04 - accuracy: 1.0000 - val_loss: 0.0284 - val_accuracy: 0.9828\n",
            "Epoch 56/600\n",
            "4/4 [==============================] - 0s 18ms/step - loss: 3.8974e-04 - accuracy: 1.0000 - val_loss: 0.0303 - val_accuracy: 0.9828\n",
            "Epoch 57/600\n",
            "4/4 [==============================] - 0s 12ms/step - loss: 7.1694e-05 - accuracy: 1.0000 - val_loss: 0.0334 - val_accuracy: 0.9828\n",
            "Epoch 58/600\n",
            "4/4 [==============================] - 0s 18ms/step - loss: 7.3328e-05 - accuracy: 1.0000 - val_loss: 0.0355 - val_accuracy: 0.9828\n",
            "Epoch 59/600\n",
            "4/4 [==============================] - 0s 18ms/step - loss: 1.0646e-04 - accuracy: 1.0000 - val_loss: 0.0335 - val_accuracy: 0.9828\n",
            "Epoch 60/600\n",
            "4/4 [==============================] - 0s 18ms/step - loss: 1.3616e-04 - accuracy: 1.0000 - val_loss: 0.0312 - val_accuracy: 0.9828\n",
            "Epoch 61/600\n",
            "4/4 [==============================] - 0s 13ms/step - loss: 1.6265e-04 - accuracy: 1.0000 - val_loss: 0.0271 - val_accuracy: 0.9828\n",
            "Epoch 62/600\n",
            "4/4 [==============================] - 0s 13ms/step - loss: 1.0490e-04 - accuracy: 1.0000 - val_loss: 0.0295 - val_accuracy: 0.9828\n",
            "Epoch 63/600\n",
            "4/4 [==============================] - 0s 13ms/step - loss: 9.5986e-05 - accuracy: 1.0000 - val_loss: 0.0274 - val_accuracy: 0.9828\n",
            "Epoch 64/600\n",
            "4/4 [==============================] - 0s 13ms/step - loss: 6.3859e-05 - accuracy: 1.0000 - val_loss: 0.0327 - val_accuracy: 0.9828\n"
          ]
        }
      ]
    },
    {
      "cell_type": "code",
      "source": [
        "loss = pd.DataFrame(model.history.history)"
      ],
      "metadata": {
        "id": "6VstXxAW6I0d"
      },
      "execution_count": null,
      "outputs": []
    },
    {
      "cell_type": "code",
      "source": [
        "loss"
      ],
      "metadata": {
        "colab": {
          "base_uri": "https://localhost:8080/",
          "height": 352
        },
        "id": "o7bwCVdh6Uuk",
        "outputId": "ab5fb4f6-803c-40cf-ec03-d8188d7461cf"
      },
      "execution_count": null,
      "outputs": [
        {
          "output_type": "execute_result",
          "data": {
            "text/plain": [
              "        loss  accuracy  val_loss  val_accuracy\n",
              "0   0.654348  0.681035  0.554161      0.896552\n",
              "1   0.538516  0.879310  0.437920      0.931035\n",
              "2   0.413482  0.956897  0.336267      0.931035\n",
              "3   0.298055  0.974138  0.244491      0.948276\n",
              "4   0.213091  0.965517  0.197174      0.931035\n",
              "..       ...       ...       ...           ...\n",
              "59  0.000136  1.000000  0.031168      0.982759\n",
              "60  0.000163  1.000000  0.027140      0.982759\n",
              "61  0.000105  1.000000  0.029493      0.982759\n",
              "62  0.000096  1.000000  0.027418      0.982759\n",
              "63  0.000064  1.000000  0.032710      0.982759\n",
              "\n",
              "[64 rows x 4 columns]"
            ],
            "text/html": [
              "\n",
              "  <div id=\"df-ed72de28-004c-40af-bb93-f74d8cc96a9f\">\n",
              "    <div class=\"colab-df-container\">\n",
              "      <div>\n",
              "<style scoped>\n",
              "    .dataframe tbody tr th:only-of-type {\n",
              "        vertical-align: middle;\n",
              "    }\n",
              "\n",
              "    .dataframe tbody tr th {\n",
              "        vertical-align: top;\n",
              "    }\n",
              "\n",
              "    .dataframe thead th {\n",
              "        text-align: right;\n",
              "    }\n",
              "</style>\n",
              "<table border=\"1\" class=\"dataframe\">\n",
              "  <thead>\n",
              "    <tr style=\"text-align: right;\">\n",
              "      <th></th>\n",
              "      <th>loss</th>\n",
              "      <th>accuracy</th>\n",
              "      <th>val_loss</th>\n",
              "      <th>val_accuracy</th>\n",
              "    </tr>\n",
              "  </thead>\n",
              "  <tbody>\n",
              "    <tr>\n",
              "      <th>0</th>\n",
              "      <td>0.654348</td>\n",
              "      <td>0.681035</td>\n",
              "      <td>0.554161</td>\n",
              "      <td>0.896552</td>\n",
              "    </tr>\n",
              "    <tr>\n",
              "      <th>1</th>\n",
              "      <td>0.538516</td>\n",
              "      <td>0.879310</td>\n",
              "      <td>0.437920</td>\n",
              "      <td>0.931035</td>\n",
              "    </tr>\n",
              "    <tr>\n",
              "      <th>2</th>\n",
              "      <td>0.413482</td>\n",
              "      <td>0.956897</td>\n",
              "      <td>0.336267</td>\n",
              "      <td>0.931035</td>\n",
              "    </tr>\n",
              "    <tr>\n",
              "      <th>3</th>\n",
              "      <td>0.298055</td>\n",
              "      <td>0.974138</td>\n",
              "      <td>0.244491</td>\n",
              "      <td>0.948276</td>\n",
              "    </tr>\n",
              "    <tr>\n",
              "      <th>4</th>\n",
              "      <td>0.213091</td>\n",
              "      <td>0.965517</td>\n",
              "      <td>0.197174</td>\n",
              "      <td>0.931035</td>\n",
              "    </tr>\n",
              "    <tr>\n",
              "      <th>...</th>\n",
              "      <td>...</td>\n",
              "      <td>...</td>\n",
              "      <td>...</td>\n",
              "      <td>...</td>\n",
              "    </tr>\n",
              "    <tr>\n",
              "      <th>59</th>\n",
              "      <td>0.000136</td>\n",
              "      <td>1.000000</td>\n",
              "      <td>0.031168</td>\n",
              "      <td>0.982759</td>\n",
              "    </tr>\n",
              "    <tr>\n",
              "      <th>60</th>\n",
              "      <td>0.000163</td>\n",
              "      <td>1.000000</td>\n",
              "      <td>0.027140</td>\n",
              "      <td>0.982759</td>\n",
              "    </tr>\n",
              "    <tr>\n",
              "      <th>61</th>\n",
              "      <td>0.000105</td>\n",
              "      <td>1.000000</td>\n",
              "      <td>0.029493</td>\n",
              "      <td>0.982759</td>\n",
              "    </tr>\n",
              "    <tr>\n",
              "      <th>62</th>\n",
              "      <td>0.000096</td>\n",
              "      <td>1.000000</td>\n",
              "      <td>0.027418</td>\n",
              "      <td>0.982759</td>\n",
              "    </tr>\n",
              "    <tr>\n",
              "      <th>63</th>\n",
              "      <td>0.000064</td>\n",
              "      <td>1.000000</td>\n",
              "      <td>0.032710</td>\n",
              "      <td>0.982759</td>\n",
              "    </tr>\n",
              "  </tbody>\n",
              "</table>\n",
              "<p>64 rows × 4 columns</p>\n",
              "</div>\n",
              "      <button class=\"colab-df-convert\" onclick=\"convertToInteractive('df-ed72de28-004c-40af-bb93-f74d8cc96a9f')\"\n",
              "              title=\"Convert this dataframe to an interactive table.\"\n",
              "              style=\"display:none;\">\n",
              "        \n",
              "  <svg xmlns=\"http://www.w3.org/2000/svg\" height=\"24px\"viewBox=\"0 0 24 24\"\n",
              "       width=\"24px\">\n",
              "    <path d=\"M0 0h24v24H0V0z\" fill=\"none\"/>\n",
              "    <path d=\"M18.56 5.44l.94 2.06.94-2.06 2.06-.94-2.06-.94-.94-2.06-.94 2.06-2.06.94zm-11 1L8.5 8.5l.94-2.06 2.06-.94-2.06-.94L8.5 2.5l-.94 2.06-2.06.94zm10 10l.94 2.06.94-2.06 2.06-.94-2.06-.94-.94-2.06-.94 2.06-2.06.94z\"/><path d=\"M17.41 7.96l-1.37-1.37c-.4-.4-.92-.59-1.43-.59-.52 0-1.04.2-1.43.59L10.3 9.45l-7.72 7.72c-.78.78-.78 2.05 0 2.83L4 21.41c.39.39.9.59 1.41.59.51 0 1.02-.2 1.41-.59l7.78-7.78 2.81-2.81c.8-.78.8-2.07 0-2.86zM5.41 20L4 18.59l7.72-7.72 1.47 1.35L5.41 20z\"/>\n",
              "  </svg>\n",
              "      </button>\n",
              "      \n",
              "  <style>\n",
              "    .colab-df-container {\n",
              "      display:flex;\n",
              "      flex-wrap:wrap;\n",
              "      gap: 12px;\n",
              "    }\n",
              "\n",
              "    .colab-df-convert {\n",
              "      background-color: #E8F0FE;\n",
              "      border: none;\n",
              "      border-radius: 50%;\n",
              "      cursor: pointer;\n",
              "      display: none;\n",
              "      fill: #1967D2;\n",
              "      height: 32px;\n",
              "      padding: 0 0 0 0;\n",
              "      width: 32px;\n",
              "    }\n",
              "\n",
              "    .colab-df-convert:hover {\n",
              "      background-color: #E2EBFA;\n",
              "      box-shadow: 0px 1px 2px rgba(60, 64, 67, 0.3), 0px 1px 3px 1px rgba(60, 64, 67, 0.15);\n",
              "      fill: #174EA6;\n",
              "    }\n",
              "\n",
              "    [theme=dark] .colab-df-convert {\n",
              "      background-color: #3B4455;\n",
              "      fill: #D2E3FC;\n",
              "    }\n",
              "\n",
              "    [theme=dark] .colab-df-convert:hover {\n",
              "      background-color: #434B5C;\n",
              "      box-shadow: 0px 1px 3px 1px rgba(0, 0, 0, 0.15);\n",
              "      filter: drop-shadow(0px 1px 2px rgba(0, 0, 0, 0.3));\n",
              "      fill: #FFFFFF;\n",
              "    }\n",
              "  </style>\n",
              "\n",
              "      <script>\n",
              "        const buttonEl =\n",
              "          document.querySelector('#df-ed72de28-004c-40af-bb93-f74d8cc96a9f button.colab-df-convert');\n",
              "        buttonEl.style.display =\n",
              "          google.colab.kernel.accessAllowed ? 'block' : 'none';\n",
              "\n",
              "        async function convertToInteractive(key) {\n",
              "          const element = document.querySelector('#df-ed72de28-004c-40af-bb93-f74d8cc96a9f');\n",
              "          const dataTable =\n",
              "            await google.colab.kernel.invokeFunction('convertToInteractive',\n",
              "                                                     [key], {});\n",
              "          if (!dataTable) return;\n",
              "\n",
              "          const docLinkHtml = 'Like what you see? Visit the ' +\n",
              "            '<a target=\"_blank\" href=https://colab.research.google.com/notebooks/data_table.ipynb>data table notebook</a>'\n",
              "            + ' to learn more about interactive tables.';\n",
              "          element.innerHTML = '';\n",
              "          dataTable['output_type'] = 'display_data';\n",
              "          await google.colab.output.renderOutput(dataTable, element);\n",
              "          const docLink = document.createElement('div');\n",
              "          docLink.innerHTML = docLinkHtml;\n",
              "          element.appendChild(docLink);\n",
              "        }\n",
              "      </script>\n",
              "    </div>\n",
              "  </div>\n",
              "  "
            ]
          },
          "metadata": {},
          "execution_count": 54
        }
      ]
    },
    {
      "cell_type": "code",
      "source": [
        "loss[['loss','val_loss']].plot()"
      ],
      "metadata": {
        "colab": {
          "base_uri": "https://localhost:8080/",
          "height": 444
        },
        "id": "lYp1KDtQ6Vbe",
        "outputId": "dcb5c7f0-daa8-48e7-fb39-efc908c231db"
      },
      "execution_count": null,
      "outputs": [
        {
          "output_type": "execute_result",
          "data": {
            "text/plain": [
              "<Axes: >"
            ]
          },
          "metadata": {},
          "execution_count": 55
        },
        {
          "output_type": "display_data",
          "data": {
            "text/plain": [
              "<Figure size 640x480 with 1 Axes>"
            ],
            "image/png": "[encoded data removed]"
          },
          "metadata": {}
        }
      ]
    },
    {
      "cell_type": "code",
      "source": [
        "loss[['accuracy','val_accuracy']].plot()"
      ],
      "metadata": {
        "colab": {
          "base_uri": "https://localhost:8080/",
          "height": 444
        },
        "id": "gBByYcN16apW",
        "outputId": "5933855b-d9e2-486e-9a2b-1f6d20c07693"
      },
      "execution_count": null,
      "outputs": [
        {
          "output_type": "execute_result",
          "data": {
            "text/plain": [
              "<Axes: >"
            ]
          },
          "metadata": {},
          "execution_count": 56
        },
        {
          "output_type": "display_data",
          "data": {
            "text/plain": [
              "<Figure size 640x480 with 1 Axes>"
            ],
            "image/png": "[encoded data removed]"
          },
          "metadata": {}
        }
      ]
    },
    {
      "cell_type": "code",
      "source": [],
      "metadata": {
        "colab": {
          "base_uri": "https://localhost:8080/"
        },
        "id": "8Chdq2YA6qbX",
        "outputId": "a027c712-2787-4fdf-e190-3570370145ce"
      },
      "execution_count": null,
      "outputs": [
        {
          "output_type": "execute_result",
          "data": {
            "text/plain": [
              "0      0\n",
              "1      0\n",
              "2      0\n",
              "3      0\n",
              "4      0\n",
              "      ..\n",
              "395    1\n",
              "396    1\n",
              "397    1\n",
              "398    1\n",
              "399    1\n",
              "Name: classification_notckd, Length: 391, dtype: uint8"
            ]
          },
          "metadata": {},
          "execution_count": 180
        }
      ]
    },
    {
      "cell_type": "code",
      "source": [
        "preds = model.predict(X_test)"
      ],
      "metadata": {
        "colab": {
          "base_uri": "https://localhost:8080/"
        },
        "id": "Nc96-gES6ewR",
        "outputId": "89b6c76f-b0fd-4b5d-9686-4ea97f39bbf1"
      },
      "execution_count": null,
      "outputs": [
        {
          "output_type": "stream",
          "name": "stdout",
          "text": [
            "2/2 [==============================] - 0s 6ms/step\n"
          ]
        }
      ]
    },
    {
      "cell_type": "code",
      "source": [
        "preds = preds > 0.5"
      ],
      "metadata": {
        "id": "83_ZffMe6lRl"
      },
      "execution_count": null,
      "outputs": []
    },
    {
      "cell_type": "code",
      "source": [
        "from sklearn.metrics import classification_report, confusion_matrix"
      ],
      "metadata": {
        "id": "5f6eFrwC6l2V"
      },
      "execution_count": null,
      "outputs": []
    },
    {
      "cell_type": "code",
      "source": [
        "print(classification_report(y_test,preds))"
      ],
      "metadata": {
        "colab": {
          "base_uri": "https://localhost:8080/"
        },
        "id": "kiaAgDxf6wez",
        "outputId": "5f47f146-5d73-44df-aa73-83799fd593c3"
      },
      "execution_count": null,
      "outputs": [
        {
          "output_type": "stream",
          "name": "stdout",
          "text": [
            "              precision    recall  f1-score   support\n",
            "\n",
            "           0       1.00      0.95      0.97        20\n",
            "           1       0.97      1.00      0.99        38\n",
            "\n",
            "    accuracy                           0.98        58\n",
            "   macro avg       0.99      0.97      0.98        58\n",
            "weighted avg       0.98      0.98      0.98        58\n",
            "\n"
          ]
        }
      ]
    },
    {
      "cell_type": "code",
      "source": [
        "model.save(\"Clinical_Records_For_CKD_rmsprop.h5\")"
      ],
      "metadata": {
        "id": "4vkunGlI69OF"
      },
      "execution_count": null,
      "outputs": []
    },
    {
      "cell_type": "code",
      "source": [
        "confusion_matrix(y_test,preds)"
      ],
      "metadata": {
        "colab": {
          "base_uri": "https://localhost:8080/"
        },
        "id": "R4vWoRmd7EUo",
        "outputId": "f8420a65-33fb-486d-b369-3e92572330d2"
      },
      "execution_count": null,
      "outputs": [
        {
          "output_type": "execute_result",
          "data": {
            "text/plain": [
              "array([[19,  1],\n",
              "       [ 0, 38]])"
            ]
          },
          "metadata": {},
          "execution_count": 62
        }
      ]
    },
    {
      "cell_type": "markdown",
      "source": [
        "Unseen Data"
      ],
      "metadata": {
        "id": "TAi-j6gkseX7"
      }
    },
    {
      "cell_type": "code",
      "source": [
        "columns = df.columns"
      ],
      "metadata": {
        "id": "M0YXwyoGsjzw"
      },
      "execution_count": null,
      "outputs": []
    },
    {
      "cell_type": "code",
      "source": [
        "columns[:-1]"
      ],
      "metadata": {
        "colab": {
          "base_uri": "https://localhost:8080/"
        },
        "id": "SN6PtWiBsnH9",
        "outputId": "51b30999-7c6f-4961-d0d8-e17ed5c02280"
      },
      "execution_count": null,
      "outputs": [
        {
          "output_type": "execute_result",
          "data": {
            "text/plain": [
              "Index(['age', 'bp', 'sg', 'al', 'su', 'bgr', 'bu', 'sc', 'sod', 'pot', 'hemo',\n",
              "       'rbc_normal', 'pc_normal', 'pcc_present', 'ba_present', 'htn_yes',\n",
              "       'dm_yes', 'cad_yes', 'appet_poor', 'pe_yes', 'ane_yes'],\n",
              "      dtype='object')"
            ]
          },
          "metadata": {},
          "execution_count": 65
        }
      ]
    },
    {
      "cell_type": "code",
      "source": [
        "print('Enter 1 for Yes & 0 for No')\n",
        "print(\"Enter the values as they are if required\")\n",
        "\n",
        "features = []\n",
        "\n",
        "list_ = []\n",
        "\n",
        "columns = df.columns\n",
        "\n",
        "for i in columns[:-1]:\n",
        "    d = float(input('{} :'.format(i)))\n",
        "    list_.append(d)\n",
        "\n",
        "features = [list_]\n",
        "\n",
        "features = pd.DataFrame(features)\n",
        "\n",
        "predictions = model.predict(features)\n",
        "\n",
        "predictions = predictions > 0.5\n",
        "\n",
        "if predictions > 0.5:\n",
        "  print(\"Probable High Risk\")\n",
        "\n",
        "else:\n",
        "  print(\"Less Probable Risk\")"
      ],
      "metadata": {
        "colab": {
          "base_uri": "https://localhost:8080/"
        },
        "id": "8YGGy_fYsRjL",
        "outputId": "5cf89f58-2405-4ef9-caf6-ad1f7c5ec71b"
      },
      "execution_count": null,
      "outputs": [
        {
          "output_type": "stream",
          "name": "stdout",
          "text": [
            "Enter 1 for Yes & 0 for No\n",
            "Enter the values as they are if required\n",
            "age :65\n",
            "bp :70.0\n",
            "sg :1.005\n",
            "al :4.2\n",
            "su :0.0\n",
            "bgr :118.9\n",
            "bu :57\n",
            "sc :3.9\n",
            "sod :111.234\n",
            "pot :6.5\n",
            "hemo :11.2\n",
            "rbc_normal :1\n",
            "pc_normal :0\n",
            "pcc_present :1\n",
            "ba_present :1\n",
            "htn_yes :0\n",
            "dm_yes :1\n",
            "cad_yes :1\n",
            "appet_poor :1\n",
            "pe_yes :1\n",
            "ane_yes :0\n",
            "1/1 [==============================] - 0s 63ms/step\n",
            "Less Probable Risk\n"
          ]
        }
      ]
    },
    {
      "cell_type": "code",
      "source": [],
      "metadata": {
        "id": "LAfijVXZsRvq"
      },
      "execution_count": null,
      "outputs": []
    },
    {
      "cell_type": "markdown",
      "source": [
        "***Chronic Kidney Diseases Symptoms***"
      ],
      "metadata": {
        "id": "1RhohzVmknDh"
      }
    },
    {
      "cell_type": "code",
      "source": [
        "!pip install kaggle --upgrade\n",
        "!mkdir -p ~/.kaggle/\n",
        "!cp kaggle.json ~/.kaggle/\n",
        "!chmod 600 ~/.kaggle/kaggle.json\n",
        "!kaggle datasets download -d niroshanalokuge/elder-chronic-kidney-patients-dataset"
      ],
      "metadata": {
        "colab": {
          "base_uri": "https://localhost:8080/"
        },
        "id": "QW89Zz637HjV",
        "outputId": "2c448db2-9180-4e28-bfef-98999099691c"
      },
      "execution_count": null,
      "outputs": [
        {
          "output_type": "stream",
          "name": "stdout",
          "text": [
            "Looking in indexes: https://pypi.org/simple, https://us-python.pkg.dev/colab-wheels/public/simple/\n",
            "Requirement already satisfied: kaggle in /usr/local/lib/python3.8/dist-packages (1.5.12)\n",
            "Requirement already satisfied: python-dateutil in /usr/local/lib/python3.8/dist-packages (from kaggle) (2.8.2)\n",
            "Requirement already satisfied: urllib3 in /usr/local/lib/python3.8/dist-packages (from kaggle) (1.24.3)\n",
            "Requirement already satisfied: requests in /usr/local/lib/python3.8/dist-packages (from kaggle) (2.25.1)\n",
            "Requirement already satisfied: six>=1.10 in /usr/local/lib/python3.8/dist-packages (from kaggle) (1.15.0)\n",
            "Requirement already satisfied: tqdm in /usr/local/lib/python3.8/dist-packages (from kaggle) (4.64.1)\n",
            "Requirement already satisfied: python-slugify in /usr/local/lib/python3.8/dist-packages (from kaggle) (7.0.0)\n",
            "Requirement already satisfied: certifi in /usr/local/lib/python3.8/dist-packages (from kaggle) (2022.12.7)\n",
            "Requirement already satisfied: text-unidecode>=1.3 in /usr/local/lib/python3.8/dist-packages (from python-slugify->kaggle) (1.3)\n",
            "Requirement already satisfied: idna<3,>=2.5 in /usr/local/lib/python3.8/dist-packages (from requests->kaggle) (2.10)\n",
            "Requirement already satisfied: chardet<5,>=3.0.2 in /usr/local/lib/python3.8/dist-packages (from requests->kaggle) (4.0.0)\n",
            "Downloading elder-chronic-kidney-patients-dataset.zip to /content\n",
            "  0% 0.00/2.71k [00:00<?, ?B/s]\n",
            "100% 2.71k/2.71k [00:00<00:00, 2.13MB/s]\n"
          ]
        }
      ]
    },
    {
      "cell_type": "code",
      "source": [
        "!unzip /content/elder-chronic-kidney-patients-dataset.zip"
      ],
      "metadata": {
        "colab": {
          "base_uri": "https://localhost:8080/"
        },
        "id": "orbxVQhckzYD",
        "outputId": "812d9945-cd49-40ad-d1bf-3503bfa97957"
      },
      "execution_count": null,
      "outputs": [
        {
          "output_type": "stream",
          "name": "stdout",
          "text": [
            "Archive:  /content/elder-chronic-kidney-patients-dataset.zip\n",
            "  inflating: Final_Data_Set.csv      \n"
          ]
        }
      ]
    },
    {
      "cell_type": "code",
      "source": [
        "import numpy as np\n",
        "import pandas as pd\n",
        "import seaborn as sns\n",
        "import matplotlib.pyplot as plt\n",
        "%matplotlib inline"
      ],
      "metadata": {
        "id": "cWIbB_bWk5EB"
      },
      "execution_count": null,
      "outputs": []
    },
    {
      "cell_type": "code",
      "source": [
        "df = pd.read_csv('/content/Final_Data_Set.csv')"
      ],
      "metadata": {
        "id": "bV9j8ZLelL2l"
      },
      "execution_count": null,
      "outputs": []
    },
    {
      "cell_type": "code",
      "source": [
        "df"
      ],
      "metadata": {
        "colab": {
          "base_uri": "https://localhost:8080/",
          "height": 835
        },
        "id": "I0AoM4xGlQtO",
        "outputId": "4243d517-684f-43b3-a8c4-3404d818e658"
      },
      "execution_count": null,
      "outputs": [
        {
          "output_type": "execute_result",
          "data": {
            "text/plain": [
              "     gender            age kidney_period   blood_pressure nausea vomit  \\\n",
              "0      Male  65 - 74 years   1 - 3 years  120 - 139 mm Hg    Yes    No   \n",
              "1    Female  55 - 64 years  Below 1 year  120 - 139 mm Hg     No    No   \n",
              "2      Male  75 - 84 years   4 - 6 years  140 - 159 mm Hg     No   Yes   \n",
              "3    Female  55 - 64 years   1 - 3 years  140 - 159 mm Hg     No   Yes   \n",
              "4    Female  85 - 94 years   1 - 3 years  120 - 139 mm Hg    Yes    No   \n",
              "..      ...            ...           ...              ...    ...   ...   \n",
              "295  Female  55 - 64 years  Below 1 year  120 - 139 mm Hg    Yes    No   \n",
              "296  Female  55 - 64 years   4 - 6 years  120 - 139 mm Hg     No   Yes   \n",
              "297    Male  75 - 84 years   1 - 3 years  120 - 139 mm Hg     No   Yes   \n",
              "298    Male  75 - 84 years   1 - 3 years  120 - 139 mm Hg    Yes   Yes   \n",
              "299    Male  75 - 84 years   1 - 3 years  120 - 139 mm Hg    Yes   Yes   \n",
              "\n",
              "    loss_of_appetite itching hiccups metallic_taste fatigue  \\\n",
              "0                Yes      No     Yes             No     Yes   \n",
              "1                 No      No      No             No      No   \n",
              "2                 No     Yes     Yes             No      No   \n",
              "3                 No     Yes      No             No     Yes   \n",
              "4                Yes     Yes      No            Yes     Yes   \n",
              "..               ...     ...     ...            ...     ...   \n",
              "295              Yes     Yes     Yes             No     Yes   \n",
              "296               No     Yes     Yes             No     Yes   \n",
              "297              Yes     Yes      No            Yes     Yes   \n",
              "298              Yes     Yes      No            Yes      No   \n",
              "299              Yes     Yes      No            Yes      No   \n",
              "\n",
              "    Sleeping_difficulty urinate_change mental_sharpness muscle_twitches  \\\n",
              "0                   Yes             No              Yes              No   \n",
              "1                    No             No               No              No   \n",
              "2                   Yes            Yes              Yes             Yes   \n",
              "3                   Yes            Yes               No             Yes   \n",
              "4                    No            Yes               No             Yes   \n",
              "..                  ...            ...              ...             ...   \n",
              "295                  No            Yes              Yes             Yes   \n",
              "296                  No            Yes               No             Yes   \n",
              "297                  No            Yes              Yes             Yes   \n",
              "298                  No            Yes              Yes              No   \n",
              "299                  No            Yes              Yes              No   \n",
              "\n",
              "    swelling hypertension            final_status  \n",
              "0        Yes           No        Critical Patient  \n",
              "1         No           No  Not a Critical Patient  \n",
              "2         No          Yes        Critical Patient  \n",
              "3         No           No  Not a Critical Patient  \n",
              "4         No           No        Critical Patient  \n",
              "..       ...          ...                     ...  \n",
              "295       No           No  Not a Critical Patient  \n",
              "296      Yes          Yes  Not a Critical Patient  \n",
              "297       No          Yes  Not a Critical Patient  \n",
              "298      Yes          Yes  Not a Critical Patient  \n",
              "299      Yes          Yes  Not a Critical Patient  \n",
              "\n",
              "[300 rows x 18 columns]"
            ],
            "text/html": [
              "\n",
              "  <div id=\"df-e10950c0-7c3c-4abc-8262-9d0e935d2096\">\n",
              "    <div class=\"colab-df-container\">\n",
              "      <div>\n",
              "<style scoped>\n",
              "    .dataframe tbody tr th:only-of-type {\n",
              "        vertical-align: middle;\n",
              "    }\n",
              "\n",
              "    .dataframe tbody tr th {\n",
              "        vertical-align: top;\n",
              "    }\n",
              "\n",
              "    .dataframe thead th {\n",
              "        text-align: right;\n",
              "    }\n",
              "</style>\n",
              "<table border=\"1\" class=\"dataframe\">\n",
              "  <thead>\n",
              "    <tr style=\"text-align: right;\">\n",
              "      <th></th>\n",
              "      <th>gender</th>\n",
              "      <th>age</th>\n",
              "      <th>kidney_period</th>\n",
              "      <th>blood_pressure</th>\n",
              "      <th>nausea</th>\n",
              "      <th>vomit</th>\n",
              "      <th>loss_of_appetite</th>\n",
              "      <th>itching</th>\n",
              "      <th>hiccups</th>\n",
              "      <th>metallic_taste</th>\n",
              "      <th>fatigue</th>\n",
              "      <th>Sleeping_difficulty</th>\n",
              "      <th>urinate_change</th>\n",
              "      <th>mental_sharpness</th>\n",
              "      <th>muscle_twitches</th>\n",
              "      <th>swelling</th>\n",
              "      <th>hypertension</th>\n",
              "      <th>final_status</th>\n",
              "    </tr>\n",
              "  </thead>\n",
              "  <tbody>\n",
              "    <tr>\n",
              "      <th>0</th>\n",
              "      <td>Male</td>\n",
              "      <td>65 - 74 years</td>\n",
              "      <td>1 - 3 years</td>\n",
              "      <td>120 - 139 mm Hg</td>\n",
              "      <td>Yes</td>\n",
              "      <td>No</td>\n",
              "      <td>Yes</td>\n",
              "      <td>No</td>\n",
              "      <td>Yes</td>\n",
              "      <td>No</td>\n",
              "      <td>Yes</td>\n",
              "      <td>Yes</td>\n",
              "      <td>No</td>\n",
              "      <td>Yes</td>\n",
              "      <td>No</td>\n",
              "      <td>Yes</td>\n",
              "      <td>No</td>\n",
              "      <td>Critical Patient</td>\n",
              "    </tr>\n",
              "    <tr>\n",
              "      <th>1</th>\n",
              "      <td>Female</td>\n",
              "      <td>55 - 64 years</td>\n",
              "      <td>Below 1 year</td>\n",
              "      <td>120 - 139 mm Hg</td>\n",
              "      <td>No</td>\n",
              "      <td>No</td>\n",
              "      <td>No</td>\n",
              "      <td>No</td>\n",
              "      <td>No</td>\n",
              "      <td>No</td>\n",
              "      <td>No</td>\n",
              "      <td>No</td>\n",
              "      <td>No</td>\n",
              "      <td>No</td>\n",
              "      <td>No</td>\n",
              "      <td>No</td>\n",
              "      <td>No</td>\n",
              "      <td>Not a Critical Patient</td>\n",
              "    </tr>\n",
              "    <tr>\n",
              "      <th>2</th>\n",
              "      <td>Male</td>\n",
              "      <td>75 - 84 years</td>\n",
              "      <td>4 - 6 years</td>\n",
              "      <td>140 - 159 mm Hg</td>\n",
              "      <td>No</td>\n",
              "      <td>Yes</td>\n",
              "      <td>No</td>\n",
              "      <td>Yes</td>\n",
              "      <td>Yes</td>\n",
              "      <td>No</td>\n",
              "      <td>No</td>\n",
              "      <td>Yes</td>\n",
              "      <td>Yes</td>\n",
              "      <td>Yes</td>\n",
              "      <td>Yes</td>\n",
              "      <td>No</td>\n",
              "      <td>Yes</td>\n",
              "      <td>Critical Patient</td>\n",
              "    </tr>\n",
              "    <tr>\n",
              "      <th>3</th>\n",
              "      <td>Female</td>\n",
              "      <td>55 - 64 years</td>\n",
              "      <td>1 - 3 years</td>\n",
              "      <td>140 - 159 mm Hg</td>\n",
              "      <td>No</td>\n",
              "      <td>Yes</td>\n",
              "      <td>No</td>\n",
              "      <td>Yes</td>\n",
              "      <td>No</td>\n",
              "      <td>No</td>\n",
              "      <td>Yes</td>\n",
              "      <td>Yes</td>\n",
              "      <td>Yes</td>\n",
              "      <td>No</td>\n",
              "      <td>Yes</td>\n",
              "      <td>No</td>\n",
              "      <td>No</td>\n",
              "      <td>Not a Critical Patient</td>\n",
              "    </tr>\n",
              "    <tr>\n",
              "      <th>4</th>\n",
              "      <td>Female</td>\n",
              "      <td>85 - 94 years</td>\n",
              "      <td>1 - 3 years</td>\n",
              "      <td>120 - 139 mm Hg</td>\n",
              "      <td>Yes</td>\n",
              "      <td>No</td>\n",
              "      <td>Yes</td>\n",
              "      <td>Yes</td>\n",
              "      <td>No</td>\n",
              "      <td>Yes</td>\n",
              "      <td>Yes</td>\n",
              "      <td>No</td>\n",
              "      <td>Yes</td>\n",
              "      <td>No</td>\n",
              "      <td>Yes</td>\n",
              "      <td>No</td>\n",
              "      <td>No</td>\n",
              "      <td>Critical Patient</td>\n",
              "    </tr>\n",
              "    <tr>\n",
              "      <th>...</th>\n",
              "      <td>...</td>\n",
              "      <td>...</td>\n",
              "      <td>...</td>\n",
              "      <td>...</td>\n",
              "      <td>...</td>\n",
              "      <td>...</td>\n",
              "      <td>...</td>\n",
              "      <td>...</td>\n",
              "      <td>...</td>\n",
              "      <td>...</td>\n",
              "      <td>...</td>\n",
              "      <td>...</td>\n",
              "      <td>...</td>\n",
              "      <td>...</td>\n",
              "      <td>...</td>\n",
              "      <td>...</td>\n",
              "      <td>...</td>\n",
              "      <td>...</td>\n",
              "    </tr>\n",
              "    <tr>\n",
              "      <th>295</th>\n",
              "      <td>Female</td>\n",
              "      <td>55 - 64 years</td>\n",
              "      <td>Below 1 year</td>\n",
              "      <td>120 - 139 mm Hg</td>\n",
              "      <td>Yes</td>\n",
              "      <td>No</td>\n",
              "      <td>Yes</td>\n",
              "      <td>Yes</td>\n",
              "      <td>Yes</td>\n",
              "      <td>No</td>\n",
              "      <td>Yes</td>\n",
              "      <td>No</td>\n",
              "      <td>Yes</td>\n",
              "      <td>Yes</td>\n",
              "      <td>Yes</td>\n",
              "      <td>No</td>\n",
              "      <td>No</td>\n",
              "      <td>Not a Critical Patient</td>\n",
              "    </tr>\n",
              "    <tr>\n",
              "      <th>296</th>\n",
              "      <td>Female</td>\n",
              "      <td>55 - 64 years</td>\n",
              "      <td>4 - 6 years</td>\n",
              "      <td>120 - 139 mm Hg</td>\n",
              "      <td>No</td>\n",
              "      <td>Yes</td>\n",
              "      <td>No</td>\n",
              "      <td>Yes</td>\n",
              "      <td>Yes</td>\n",
              "      <td>No</td>\n",
              "      <td>Yes</td>\n",
              "      <td>No</td>\n",
              "      <td>Yes</td>\n",
              "      <td>No</td>\n",
              "      <td>Yes</td>\n",
              "      <td>Yes</td>\n",
              "      <td>Yes</td>\n",
              "      <td>Not a Critical Patient</td>\n",
              "    </tr>\n",
              "    <tr>\n",
              "      <th>297</th>\n",
              "      <td>Male</td>\n",
              "      <td>75 - 84 years</td>\n",
              "      <td>1 - 3 years</td>\n",
              "      <td>120 - 139 mm Hg</td>\n",
              "      <td>No</td>\n",
              "      <td>Yes</td>\n",
              "      <td>Yes</td>\n",
              "      <td>Yes</td>\n",
              "      <td>No</td>\n",
              "      <td>Yes</td>\n",
              "      <td>Yes</td>\n",
              "      <td>No</td>\n",
              "      <td>Yes</td>\n",
              "      <td>Yes</td>\n",
              "      <td>Yes</td>\n",
              "      <td>No</td>\n",
              "      <td>Yes</td>\n",
              "      <td>Not a Critical Patient</td>\n",
              "    </tr>\n",
              "    <tr>\n",
              "      <th>298</th>\n",
              "      <td>Male</td>\n",
              "      <td>75 - 84 years</td>\n",
              "      <td>1 - 3 years</td>\n",
              "      <td>120 - 139 mm Hg</td>\n",
              "      <td>Yes</td>\n",
              "      <td>Yes</td>\n",
              "      <td>Yes</td>\n",
              "      <td>Yes</td>\n",
              "      <td>No</td>\n",
              "      <td>Yes</td>\n",
              "      <td>No</td>\n",
              "      <td>No</td>\n",
              "      <td>Yes</td>\n",
              "      <td>Yes</td>\n",
              "      <td>No</td>\n",
              "      <td>Yes</td>\n",
              "      <td>Yes</td>\n",
              "      <td>Not a Critical Patient</td>\n",
              "    </tr>\n",
              "    <tr>\n",
              "      <th>299</th>\n",
              "      <td>Male</td>\n",
              "      <td>75 - 84 years</td>\n",
              "      <td>1 - 3 years</td>\n",
              "      <td>120 - 139 mm Hg</td>\n",
              "      <td>Yes</td>\n",
              "      <td>Yes</td>\n",
              "      <td>Yes</td>\n",
              "      <td>Yes</td>\n",
              "      <td>No</td>\n",
              "      <td>Yes</td>\n",
              "      <td>No</td>\n",
              "      <td>No</td>\n",
              "      <td>Yes</td>\n",
              "      <td>Yes</td>\n",
              "      <td>No</td>\n",
              "      <td>Yes</td>\n",
              "      <td>Yes</td>\n",
              "      <td>Not a Critical Patient</td>\n",
              "    </tr>\n",
              "  </tbody>\n",
              "</table>\n",
              "<p>300 rows × 18 columns</p>\n",
              "</div>\n",
              "      <button class=\"colab-df-convert\" onclick=\"convertToInteractive('df-e10950c0-7c3c-4abc-8262-9d0e935d2096')\"\n",
              "              title=\"Convert this dataframe to an interactive table.\"\n",
              "              style=\"display:none;\">\n",
              "        \n",
              "  <svg xmlns=\"http://www.w3.org/2000/svg\" height=\"24px\"viewBox=\"0 0 24 24\"\n",
              "       width=\"24px\">\n",
              "    <path d=\"M0 0h24v24H0V0z\" fill=\"none\"/>\n",
              "    <path d=\"M18.56 5.44l.94 2.06.94-2.06 2.06-.94-2.06-.94-.94-2.06-.94 2.06-2.06.94zm-11 1L8.5 8.5l.94-2.06 2.06-.94-2.06-.94L8.5 2.5l-.94 2.06-2.06.94zm10 10l.94 2.06.94-2.06 2.06-.94-2.06-.94-.94-2.06-.94 2.06-2.06.94z\"/><path d=\"M17.41 7.96l-1.37-1.37c-.4-.4-.92-.59-1.43-.59-.52 0-1.04.2-1.43.59L10.3 9.45l-7.72 7.72c-.78.78-.78 2.05 0 2.83L4 21.41c.39.39.9.59 1.41.59.51 0 1.02-.2 1.41-.59l7.78-7.78 2.81-2.81c.8-.78.8-2.07 0-2.86zM5.41 20L4 18.59l7.72-7.72 1.47 1.35L5.41 20z\"/>\n",
              "  </svg>\n",
              "      </button>\n",
              "      \n",
              "  <style>\n",
              "    .colab-df-container {\n",
              "      display:flex;\n",
              "      flex-wrap:wrap;\n",
              "      gap: 12px;\n",
              "    }\n",
              "\n",
              "    .colab-df-convert {\n",
              "      background-color: #E8F0FE;\n",
              "      border: none;\n",
              "      border-radius: 50%;\n",
              "      cursor: pointer;\n",
              "      display: none;\n",
              "      fill: #1967D2;\n",
              "      height: 32px;\n",
              "      padding: 0 0 0 0;\n",
              "      width: 32px;\n",
              "    }\n",
              "\n",
              "    .colab-df-convert:hover {\n",
              "      background-color: #E2EBFA;\n",
              "      box-shadow: 0px 1px 2px rgba(60, 64, 67, 0.3), 0px 1px 3px 1px rgba(60, 64, 67, 0.15);\n",
              "      fill: #174EA6;\n",
              "    }\n",
              "\n",
              "    [theme=dark] .colab-df-convert {\n",
              "      background-color: #3B4455;\n",
              "      fill: #D2E3FC;\n",
              "    }\n",
              "\n",
              "    [theme=dark] .colab-df-convert:hover {\n",
              "      background-color: #434B5C;\n",
              "      box-shadow: 0px 1px 3px 1px rgba(0, 0, 0, 0.15);\n",
              "      filter: drop-shadow(0px 1px 2px rgba(0, 0, 0, 0.3));\n",
              "      fill: #FFFFFF;\n",
              "    }\n",
              "  </style>\n",
              "\n",
              "      <script>\n",
              "        const buttonEl =\n",
              "          document.querySelector('#df-e10950c0-7c3c-4abc-8262-9d0e935d2096 button.colab-df-convert');\n",
              "        buttonEl.style.display =\n",
              "          google.colab.kernel.accessAllowed ? 'block' : 'none';\n",
              "\n",
              "        async function convertToInteractive(key) {\n",
              "          const element = document.querySelector('#df-e10950c0-7c3c-4abc-8262-9d0e935d2096');\n",
              "          const dataTable =\n",
              "            await google.colab.kernel.invokeFunction('convertToInteractive',\n",
              "                                                     [key], {});\n",
              "          if (!dataTable) return;\n",
              "\n",
              "          const docLinkHtml = 'Like what you see? Visit the ' +\n",
              "            '<a target=\"_blank\" href=https://colab.research.google.com/notebooks/data_table.ipynb>data table notebook</a>'\n",
              "            + ' to learn more about interactive tables.';\n",
              "          element.innerHTML = '';\n",
              "          dataTable['output_type'] = 'display_data';\n",
              "          await google.colab.output.renderOutput(dataTable, element);\n",
              "          const docLink = document.createElement('div');\n",
              "          docLink.innerHTML = docLinkHtml;\n",
              "          element.appendChild(docLink);\n",
              "        }\n",
              "      </script>\n",
              "    </div>\n",
              "  </div>\n",
              "  "
            ]
          },
          "metadata": {},
          "execution_count": 5
        }
      ]
    },
    {
      "cell_type": "code",
      "source": [
        "df.isnull().sum()"
      ],
      "metadata": {
        "colab": {
          "base_uri": "https://localhost:8080/"
        },
        "id": "rCYsmDGslZ12",
        "outputId": "08e1a7c1-afad-4d1d-cd51-b80ae9775a2f"
      },
      "execution_count": null,
      "outputs": [
        {
          "output_type": "execute_result",
          "data": {
            "text/plain": [
              "gender                 0\n",
              "age                    0\n",
              "kidney_period          0\n",
              "blood_pressure         0\n",
              "nausea                 0\n",
              "vomit                  0\n",
              "loss_of_appetite       0\n",
              "itching                0\n",
              "hiccups                0\n",
              "metallic_taste         0\n",
              "fatigue                0\n",
              "Sleeping_difficulty    0\n",
              "urinate_change         0\n",
              "mental_sharpness       0\n",
              "muscle_twitches        0\n",
              "swelling               0\n",
              "hypertension           0\n",
              "final_status           0\n",
              "dtype: int64"
            ]
          },
          "metadata": {},
          "execution_count": 6
        }
      ]
    },
    {
      "cell_type": "code",
      "source": [
        "columns = []\n",
        "\n",
        "for i in df.columns:\n",
        "  columns.append('{}'.format(i))"
      ],
      "metadata": {
        "id": "Dj4l8nuFld_5"
      },
      "execution_count": null,
      "outputs": []
    },
    {
      "cell_type": "code",
      "source": [
        "for i in columns:\n",
        "  df = pd.get_dummies(df,columns=['{}'.format(i)],drop_first=True)"
      ],
      "metadata": {
        "id": "RXi37lsmlgDn"
      },
      "execution_count": null,
      "outputs": []
    },
    {
      "cell_type": "code",
      "source": [
        "df.head()"
      ],
      "metadata": {
        "colab": {
          "base_uri": "https://localhost:8080/",
          "height": 334
        },
        "id": "_H1BhHLml0G6",
        "outputId": "33c11be5-7774-4d69-e43c-c569460e470c"
      },
      "execution_count": null,
      "outputs": [
        {
          "output_type": "execute_result",
          "data": {
            "text/plain": [
              "   gender_Male  age_65 - 74 years  age_75 - 84 years  age_85 - 94 years  \\\n",
              "0            1                  1                  0                  0   \n",
              "1            0                  0                  0                  0   \n",
              "2            1                  0                  1                  0   \n",
              "3            0                  0                  0                  0   \n",
              "4            0                  0                  0                  1   \n",
              "\n",
              "   age_Above 95 years  kidney_period_4 - 6 years  kidney_period_Above 7 years  \\\n",
              "0                   0                          0                            0   \n",
              "1                   0                          0                            0   \n",
              "2                   0                          1                            0   \n",
              "3                   0                          0                            0   \n",
              "4                   0                          0                            0   \n",
              "\n",
              "   kidney_period_Below 1 year  blood_pressure_140 - 159 mm Hg  \\\n",
              "0                           0                               0   \n",
              "1                           1                               0   \n",
              "2                           0                               1   \n",
              "3                           0                               1   \n",
              "4                           0                               0   \n",
              "\n",
              "   blood_pressure_160 - 179 mm Hg  ...  hiccups_Yes  metallic_taste_Yes  \\\n",
              "0                               0  ...            1                   0   \n",
              "1                               0  ...            0                   0   \n",
              "2                               0  ...            1                   0   \n",
              "3                               0  ...            0                   0   \n",
              "4                               0  ...            0                   1   \n",
              "\n",
              "   fatigue_Yes  Sleeping_difficulty_Yes  urinate_change_Yes  \\\n",
              "0            1                        1                   0   \n",
              "1            0                        0                   0   \n",
              "2            0                        1                   1   \n",
              "3            1                        1                   1   \n",
              "4            1                        0                   1   \n",
              "\n",
              "   mental_sharpness_Yes  muscle_twitches_Yes  swelling_Yes  hypertension_Yes  \\\n",
              "0                     1                    0             1                 0   \n",
              "1                     0                    0             0                 0   \n",
              "2                     1                    1             0                 1   \n",
              "3                     0                    1             0                 0   \n",
              "4                     0                    1             0                 0   \n",
              "\n",
              "   final_status_Not a Critical Patient  \n",
              "0                                    0  \n",
              "1                                    1  \n",
              "2                                    0  \n",
              "3                                    1  \n",
              "4                                    0  \n",
              "\n",
              "[5 rows x 25 columns]"
            ],
            "text/html": [
              "\n",
              "  <div id=\"df-f5c8f5d9-631a-4610-b229-0f44175a9040\">\n",
              "    <div class=\"colab-df-container\">\n",
              "      <div>\n",
              "<style scoped>\n",
              "    .dataframe tbody tr th:only-of-type {\n",
              "        vertical-align: middle;\n",
              "    }\n",
              "\n",
              "    .dataframe tbody tr th {\n",
              "        vertical-align: top;\n",
              "    }\n",
              "\n",
              "    .dataframe thead th {\n",
              "        text-align: right;\n",
              "    }\n",
              "</style>\n",
              "<table border=\"1\" class=\"dataframe\">\n",
              "  <thead>\n",
              "    <tr style=\"text-align: right;\">\n",
              "      <th></th>\n",
              "      <th>gender_Male</th>\n",
              "      <th>age_65 - 74 years</th>\n",
              "      <th>age_75 - 84 years</th>\n",
              "      <th>age_85 - 94 years</th>\n",
              "      <th>age_Above 95 years</th>\n",
              "      <th>kidney_period_4 - 6 years</th>\n",
              "      <th>kidney_period_Above 7 years</th>\n",
              "      <th>kidney_period_Below 1 year</th>\n",
              "      <th>blood_pressure_140 - 159 mm Hg</th>\n",
              "      <th>blood_pressure_160 - 179 mm Hg</th>\n",
              "      <th>...</th>\n",
              "      <th>hiccups_Yes</th>\n",
              "      <th>metallic_taste_Yes</th>\n",
              "      <th>fatigue_Yes</th>\n",
              "      <th>Sleeping_difficulty_Yes</th>\n",
              "      <th>urinate_change_Yes</th>\n",
              "      <th>mental_sharpness_Yes</th>\n",
              "      <th>muscle_twitches_Yes</th>\n",
              "      <th>swelling_Yes</th>\n",
              "      <th>hypertension_Yes</th>\n",
              "      <th>final_status_Not a Critical Patient</th>\n",
              "    </tr>\n",
              "  </thead>\n",
              "  <tbody>\n",
              "    <tr>\n",
              "      <th>0</th>\n",
              "      <td>1</td>\n",
              "      <td>1</td>\n",
              "      <td>0</td>\n",
              "      <td>0</td>\n",
              "      <td>0</td>\n",
              "      <td>0</td>\n",
              "      <td>0</td>\n",
              "      <td>0</td>\n",
              "      <td>0</td>\n",
              "      <td>0</td>\n",
              "      <td>...</td>\n",
              "      <td>1</td>\n",
              "      <td>0</td>\n",
              "      <td>1</td>\n",
              "      <td>1</td>\n",
              "      <td>0</td>\n",
              "      <td>1</td>\n",
              "      <td>0</td>\n",
              "      <td>1</td>\n",
              "      <td>0</td>\n",
              "      <td>0</td>\n",
              "    </tr>\n",
              "    <tr>\n",
              "      <th>1</th>\n",
              "      <td>0</td>\n",
              "      <td>0</td>\n",
              "      <td>0</td>\n",
              "      <td>0</td>\n",
              "      <td>0</td>\n",
              "      <td>0</td>\n",
              "      <td>0</td>\n",
              "      <td>1</td>\n",
              "      <td>0</td>\n",
              "      <td>0</td>\n",
              "      <td>...</td>\n",
              "      <td>0</td>\n",
              "      <td>0</td>\n",
              "      <td>0</td>\n",
              "      <td>0</td>\n",
              "      <td>0</td>\n",
              "      <td>0</td>\n",
              "      <td>0</td>\n",
              "      <td>0</td>\n",
              "      <td>0</td>\n",
              "      <td>1</td>\n",
              "    </tr>\n",
              "    <tr>\n",
              "      <th>2</th>\n",
              "      <td>1</td>\n",
              "      <td>0</td>\n",
              "      <td>1</td>\n",
              "      <td>0</td>\n",
              "      <td>0</td>\n",
              "      <td>1</td>\n",
              "      <td>0</td>\n",
              "      <td>0</td>\n",
              "      <td>1</td>\n",
              "      <td>0</td>\n",
              "      <td>...</td>\n",
              "      <td>1</td>\n",
              "      <td>0</td>\n",
              "      <td>0</td>\n",
              "      <td>1</td>\n",
              "      <td>1</td>\n",
              "      <td>1</td>\n",
              "      <td>1</td>\n",
              "      <td>0</td>\n",
              "      <td>1</td>\n",
              "      <td>0</td>\n",
              "    </tr>\n",
              "    <tr>\n",
              "      <th>3</th>\n",
              "      <td>0</td>\n",
              "      <td>0</td>\n",
              "      <td>0</td>\n",
              "      <td>0</td>\n",
              "      <td>0</td>\n",
              "      <td>0</td>\n",
              "      <td>0</td>\n",
              "      <td>0</td>\n",
              "      <td>1</td>\n",
              "      <td>0</td>\n",
              "      <td>...</td>\n",
              "      <td>0</td>\n",
              "      <td>0</td>\n",
              "      <td>1</td>\n",
              "      <td>1</td>\n",
              "      <td>1</td>\n",
              "      <td>0</td>\n",
              "      <td>1</td>\n",
              "      <td>0</td>\n",
              "      <td>0</td>\n",
              "      <td>1</td>\n",
              "    </tr>\n",
              "    <tr>\n",
              "      <th>4</th>\n",
              "      <td>0</td>\n",
              "      <td>0</td>\n",
              "      <td>0</td>\n",
              "      <td>1</td>\n",
              "      <td>0</td>\n",
              "      <td>0</td>\n",
              "      <td>0</td>\n",
              "      <td>0</td>\n",
              "      <td>0</td>\n",
              "      <td>0</td>\n",
              "      <td>...</td>\n",
              "      <td>0</td>\n",
              "      <td>1</td>\n",
              "      <td>1</td>\n",
              "      <td>0</td>\n",
              "      <td>1</td>\n",
              "      <td>0</td>\n",
              "      <td>1</td>\n",
              "      <td>0</td>\n",
              "      <td>0</td>\n",
              "      <td>0</td>\n",
              "    </tr>\n",
              "  </tbody>\n",
              "</table>\n",
              "<p>5 rows × 25 columns</p>\n",
              "</div>\n",
              "      <button class=\"colab-df-convert\" onclick=\"convertToInteractive('df-f5c8f5d9-631a-4610-b229-0f44175a9040')\"\n",
              "              title=\"Convert this dataframe to an interactive table.\"\n",
              "              style=\"display:none;\">\n",
              "        \n",
              "  <svg xmlns=\"http://www.w3.org/2000/svg\" height=\"24px\"viewBox=\"0 0 24 24\"\n",
              "       width=\"24px\">\n",
              "    <path d=\"M0 0h24v24H0V0z\" fill=\"none\"/>\n",
              "    <path d=\"M18.56 5.44l.94 2.06.94-2.06 2.06-.94-2.06-.94-.94-2.06-.94 2.06-2.06.94zm-11 1L8.5 8.5l.94-2.06 2.06-.94-2.06-.94L8.5 2.5l-.94 2.06-2.06.94zm10 10l.94 2.06.94-2.06 2.06-.94-2.06-.94-.94-2.06-.94 2.06-2.06.94z\"/><path d=\"M17.41 7.96l-1.37-1.37c-.4-.4-.92-.59-1.43-.59-.52 0-1.04.2-1.43.59L10.3 9.45l-7.72 7.72c-.78.78-.78 2.05 0 2.83L4 21.41c.39.39.9.59 1.41.59.51 0 1.02-.2 1.41-.59l7.78-7.78 2.81-2.81c.8-.78.8-2.07 0-2.86zM5.41 20L4 18.59l7.72-7.72 1.47 1.35L5.41 20z\"/>\n",
              "  </svg>\n",
              "      </button>\n",
              "      \n",
              "  <style>\n",
              "    .colab-df-container {\n",
              "      display:flex;\n",
              "      flex-wrap:wrap;\n",
              "      gap: 12px;\n",
              "    }\n",
              "\n",
              "    .colab-df-convert {\n",
              "      background-color: #E8F0FE;\n",
              "      border: none;\n",
              "      border-radius: 50%;\n",
              "      cursor: pointer;\n",
              "      display: none;\n",
              "      fill: #1967D2;\n",
              "      height: 32px;\n",
              "      padding: 0 0 0 0;\n",
              "      width: 32px;\n",
              "    }\n",
              "\n",
              "    .colab-df-convert:hover {\n",
              "      background-color: #E2EBFA;\n",
              "      box-shadow: 0px 1px 2px rgba(60, 64, 67, 0.3), 0px 1px 3px 1px rgba(60, 64, 67, 0.15);\n",
              "      fill: #174EA6;\n",
              "    }\n",
              "\n",
              "    [theme=dark] .colab-df-convert {\n",
              "      background-color: #3B4455;\n",
              "      fill: #D2E3FC;\n",
              "    }\n",
              "\n",
              "    [theme=dark] .colab-df-convert:hover {\n",
              "      background-color: #434B5C;\n",
              "      box-shadow: 0px 1px 3px 1px rgba(0, 0, 0, 0.15);\n",
              "      filter: drop-shadow(0px 1px 2px rgba(0, 0, 0, 0.3));\n",
              "      fill: #FFFFFF;\n",
              "    }\n",
              "  </style>\n",
              "\n",
              "      <script>\n",
              "        const buttonEl =\n",
              "          document.querySelector('#df-f5c8f5d9-631a-4610-b229-0f44175a9040 button.colab-df-convert');\n",
              "        buttonEl.style.display =\n",
              "          google.colab.kernel.accessAllowed ? 'block' : 'none';\n",
              "\n",
              "        async function convertToInteractive(key) {\n",
              "          const element = document.querySelector('#df-f5c8f5d9-631a-4610-b229-0f44175a9040');\n",
              "          const dataTable =\n",
              "            await google.colab.kernel.invokeFunction('convertToInteractive',\n",
              "                                                     [key], {});\n",
              "          if (!dataTable) return;\n",
              "\n",
              "          const docLinkHtml = 'Like what you see? Visit the ' +\n",
              "            '<a target=\"_blank\" href=https://colab.research.google.com/notebooks/data_table.ipynb>data table notebook</a>'\n",
              "            + ' to learn more about interactive tables.';\n",
              "          element.innerHTML = '';\n",
              "          dataTable['output_type'] = 'display_data';\n",
              "          await google.colab.output.renderOutput(dataTable, element);\n",
              "          const docLink = document.createElement('div');\n",
              "          docLink.innerHTML = docLinkHtml;\n",
              "          element.appendChild(docLink);\n",
              "        }\n",
              "      </script>\n",
              "    </div>\n",
              "  </div>\n",
              "  "
            ]
          },
          "metadata": {},
          "execution_count": 13
        }
      ]
    },
    {
      "cell_type": "code",
      "source": [
        "df.columns"
      ],
      "metadata": {
        "colab": {
          "base_uri": "https://localhost:8080/"
        },
        "id": "J2LQrLppmO_Y",
        "outputId": "05befe5e-6f3f-45c8-fe83-013a27666696"
      },
      "execution_count": null,
      "outputs": [
        {
          "output_type": "execute_result",
          "data": {
            "text/plain": [
              "Index(['gender_Male', 'age_65 - 74 years', 'age_75 - 84 years',\n",
              "       'age_85 - 94 years', 'age_Above 95 years', 'kidney_period_4 - 6 years',\n",
              "       'kidney_period_Above 7 years', 'kidney_period_Below 1 year',\n",
              "       'blood_pressure_140 - 159 mm Hg', 'blood_pressure_160 - 179 mm Hg',\n",
              "       'blood_pressure_< 120 mm Hg', 'nausea_Yes', 'vomit_Yes',\n",
              "       'loss_of_appetite_Yes', 'itching_Yes', 'hiccups_Yes',\n",
              "       'metallic_taste_Yes', 'fatigue_Yes', 'Sleeping_difficulty_Yes',\n",
              "       'urinate_change_Yes', 'mental_sharpness_Yes', 'muscle_twitches_Yes',\n",
              "       'swelling_Yes', 'hypertension_Yes',\n",
              "       'final_status_Not a Critical Patient'],\n",
              "      dtype='object')"
            ]
          },
          "metadata": {},
          "execution_count": 14
        }
      ]
    },
    {
      "cell_type": "code",
      "source": [
        "sns.countplot(df['final_status_Not a Critical Patient'])"
      ],
      "metadata": {
        "colab": {
          "base_uri": "https://localhost:8080/",
          "height": 352
        },
        "id": "VI6ekJVjmRlG",
        "outputId": "d14328c1-876e-4d7c-f7fc-fa9121e33b89"
      },
      "execution_count": null,
      "outputs": [
        {
          "output_type": "stream",
          "name": "stderr",
          "text": [
            "/usr/local/lib/python3.8/dist-packages/seaborn/_decorators.py:36: FutureWarning: Pass the following variable as a keyword arg: x. From version 0.12, the only valid positional argument will be `data`, and passing other arguments without an explicit keyword will result in an error or misinterpretation.\n",
            "  warnings.warn(\n"
          ]
        },
        {
          "output_type": "execute_result",
          "data": {
            "text/plain": [
              "<matplotlib.axes._subplots.AxesSubplot at 0x7fd0f0e09250>"
            ]
          },
          "metadata": {},
          "execution_count": 15
        },
        {
          "output_type": "display_data",
          "data": {
            "text/plain": [
              "<Figure size 432x288 with 1 Axes>"
            ],
            "image/png": "[encoded data removed]"
          },
          "metadata": {
            "needs_background": "light"
          }
        }
      ]
    },
    {
      "cell_type": "code",
      "source": [
        "from sklearn.preprocessing import MinMaxScaler"
      ],
      "metadata": {
        "id": "0CXC_iYymZg8"
      },
      "execution_count": null,
      "outputs": []
    },
    {
      "cell_type": "code",
      "source": [
        "scaler = MinMaxScaler()"
      ],
      "metadata": {
        "id": "hnCqVuxenVhk"
      },
      "execution_count": null,
      "outputs": []
    },
    {
      "cell_type": "code",
      "source": [
        "X = df.drop(columns=['final_status_Not a Critical Patient'],axis=1)\n",
        "\n",
        "y = df['final_status_Not a Critical Patient']"
      ],
      "metadata": {
        "id": "oXupKVainXLE"
      },
      "execution_count": null,
      "outputs": []
    },
    {
      "cell_type": "code",
      "source": [
        "from sklearn.model_selection import train_test_split"
      ],
      "metadata": {
        "id": "iozuWJtrnj_d"
      },
      "execution_count": null,
      "outputs": []
    },
    {
      "cell_type": "code",
      "source": [
        "X_train, X_test, y_train, y_test = train_test_split(X, y, test_size=0.33, random_state=42)"
      ],
      "metadata": {
        "id": "1rh-Z7WInres"
      },
      "execution_count": null,
      "outputs": []
    },
    {
      "cell_type": "code",
      "source": [
        "X_train = scaler.fit_transform(X_train)"
      ],
      "metadata": {
        "id": "fLt1ZVJMn2Sk"
      },
      "execution_count": null,
      "outputs": []
    },
    {
      "cell_type": "code",
      "source": [
        "X_test = scaler.transform(X_test)"
      ],
      "metadata": {
        "id": "GXJpC944n7Vm"
      },
      "execution_count": null,
      "outputs": []
    },
    {
      "cell_type": "code",
      "source": [
        "from tensorflow.keras.models import Sequential"
      ],
      "metadata": {
        "id": "sdFBL_9woCh9"
      },
      "execution_count": null,
      "outputs": []
    },
    {
      "cell_type": "code",
      "source": [
        "from tensorflow.keras.layers import Dense, Dropout"
      ],
      "metadata": {
        "id": "z9-zyvG0oL7x"
      },
      "execution_count": null,
      "outputs": []
    },
    {
      "cell_type": "code",
      "source": [
        "model = Sequential()\n",
        "\n",
        "\n",
        "model.add(Dense(32, activation='relu'))\n",
        "\n",
        "model.add(Dense(1, activation='sigmoid'))\n",
        "\n",
        "model.compile(loss='binary_crossentropy', metrics=['accuracy'], optimizer='adam')"
      ],
      "metadata": {
        "id": "F9uk3T3noP0o"
      },
      "execution_count": null,
      "outputs": []
    },
    {
      "cell_type": "code",
      "source": [
        "from tensorflow.keras.callbacks import EarlyStopping"
      ],
      "metadata": {
        "id": "rs5yoEg2o4UW"
      },
      "execution_count": null,
      "outputs": []
    },
    {
      "cell_type": "code",
      "source": [
        "early_stop = EarlyStopping(patience=25,monitor='val_loss',mode='min')"
      ],
      "metadata": {
        "id": "CKXWEVVGo5dW"
      },
      "execution_count": null,
      "outputs": []
    },
    {
      "cell_type": "code",
      "source": [
        "results = model.fit(X_train,y_train,validation_data=(X_test,y_test),epochs=500,callbacks=[early_stop])"
      ],
      "metadata": {
        "colab": {
          "base_uri": "https://localhost:8080/"
        },
        "id": "HmGcAVYRpEy8",
        "outputId": "78d60b4c-93d8-484e-dde7-93f6c7fcdcc8"
      },
      "execution_count": null,
      "outputs": [
        {
          "output_type": "stream",
          "name": "stdout",
          "text": [
            "Epoch 1/500\n",
            "7/7 [==============================] - 1s 31ms/step - loss: 0.7478 - accuracy: 0.4428 - val_loss: 0.7336 - val_accuracy: 0.4545\n",
            "Epoch 2/500\n",
            "7/7 [==============================] - 0s 9ms/step - loss: 0.7325 - accuracy: 0.4527 - val_loss: 0.7217 - val_accuracy: 0.4949\n",
            "Epoch 3/500\n",
            "7/7 [==============================] - 0s 8ms/step - loss: 0.7200 - accuracy: 0.4677 - val_loss: 0.7109 - val_accuracy: 0.5253\n",
            "Epoch 4/500\n",
            "7/7 [==============================] - 0s 9ms/step - loss: 0.7086 - accuracy: 0.4876 - val_loss: 0.7008 - val_accuracy: 0.5455\n",
            "Epoch 5/500\n",
            "7/7 [==============================] - 0s 7ms/step - loss: 0.6983 - accuracy: 0.5274 - val_loss: 0.6915 - val_accuracy: 0.5354\n",
            "Epoch 6/500\n",
            "7/7 [==============================] - 0s 9ms/step - loss: 0.6898 - accuracy: 0.5473 - val_loss: 0.6827 - val_accuracy: 0.5556\n",
            "Epoch 7/500\n",
            "7/7 [==============================] - 0s 6ms/step - loss: 0.6803 - accuracy: 0.5572 - val_loss: 0.6747 - val_accuracy: 0.5657\n",
            "Epoch 8/500\n",
            "7/7 [==============================] - 0s 9ms/step - loss: 0.6714 - accuracy: 0.5572 - val_loss: 0.6669 - val_accuracy: 0.5758\n",
            "Epoch 9/500\n",
            "7/7 [==============================] - 0s 7ms/step - loss: 0.6636 - accuracy: 0.5572 - val_loss: 0.6592 - val_accuracy: 0.5859\n",
            "Epoch 10/500\n",
            "7/7 [==============================] - 0s 9ms/step - loss: 0.6548 - accuracy: 0.5572 - val_loss: 0.6532 - val_accuracy: 0.5859\n",
            "Epoch 11/500\n",
            "7/7 [==============================] - 0s 9ms/step - loss: 0.6472 - accuracy: 0.5771 - val_loss: 0.6468 - val_accuracy: 0.5960\n",
            "Epoch 12/500\n",
            "7/7 [==============================] - 0s 9ms/step - loss: 0.6392 - accuracy: 0.6020 - val_loss: 0.6400 - val_accuracy: 0.6061\n",
            "Epoch 13/500\n",
            "7/7 [==============================] - 0s 6ms/step - loss: 0.6317 - accuracy: 0.6070 - val_loss: 0.6332 - val_accuracy: 0.6162\n",
            "Epoch 14/500\n",
            "7/7 [==============================] - 0s 7ms/step - loss: 0.6240 - accuracy: 0.6269 - val_loss: 0.6269 - val_accuracy: 0.6162\n",
            "Epoch 15/500\n",
            "7/7 [==============================] - 0s 7ms/step - loss: 0.6160 - accuracy: 0.6468 - val_loss: 0.6210 - val_accuracy: 0.6364\n",
            "Epoch 16/500\n",
            "7/7 [==============================] - 0s 6ms/step - loss: 0.6079 - accuracy: 0.6617 - val_loss: 0.6145 - val_accuracy: 0.6566\n",
            "Epoch 17/500\n",
            "7/7 [==============================] - 0s 6ms/step - loss: 0.5996 - accuracy: 0.6915 - val_loss: 0.6073 - val_accuracy: 0.6768\n",
            "Epoch 18/500\n",
            "7/7 [==============================] - 0s 8ms/step - loss: 0.5902 - accuracy: 0.7363 - val_loss: 0.6001 - val_accuracy: 0.6970\n",
            "Epoch 19/500\n",
            "7/7 [==============================] - 0s 10ms/step - loss: 0.5808 - accuracy: 0.7612 - val_loss: 0.5924 - val_accuracy: 0.6970\n",
            "Epoch 20/500\n",
            "7/7 [==============================] - 0s 6ms/step - loss: 0.5714 - accuracy: 0.7910 - val_loss: 0.5842 - val_accuracy: 0.6970\n",
            "Epoch 21/500\n",
            "7/7 [==============================] - 0s 9ms/step - loss: 0.5618 - accuracy: 0.7861 - val_loss: 0.5750 - val_accuracy: 0.7273\n",
            "Epoch 22/500\n",
            "7/7 [==============================] - 0s 9ms/step - loss: 0.5524 - accuracy: 0.7960 - val_loss: 0.5662 - val_accuracy: 0.7273\n",
            "Epoch 23/500\n",
            "7/7 [==============================] - 0s 7ms/step - loss: 0.5423 - accuracy: 0.8010 - val_loss: 0.5600 - val_accuracy: 0.7475\n",
            "Epoch 24/500\n",
            "7/7 [==============================] - 0s 7ms/step - loss: 0.5335 - accuracy: 0.8109 - val_loss: 0.5529 - val_accuracy: 0.7677\n",
            "Epoch 25/500\n",
            "7/7 [==============================] - 0s 9ms/step - loss: 0.5253 - accuracy: 0.8308 - val_loss: 0.5464 - val_accuracy: 0.7879\n",
            "Epoch 26/500\n",
            "7/7 [==============================] - 0s 7ms/step - loss: 0.5165 - accuracy: 0.8458 - val_loss: 0.5395 - val_accuracy: 0.8182\n",
            "Epoch 27/500\n",
            "7/7 [==============================] - 0s 6ms/step - loss: 0.5084 - accuracy: 0.8458 - val_loss: 0.5327 - val_accuracy: 0.8283\n",
            "Epoch 28/500\n",
            "7/7 [==============================] - 0s 7ms/step - loss: 0.5000 - accuracy: 0.8507 - val_loss: 0.5260 - val_accuracy: 0.8283\n",
            "Epoch 29/500\n",
            "7/7 [==============================] - 0s 7ms/step - loss: 0.4929 - accuracy: 0.8458 - val_loss: 0.5201 - val_accuracy: 0.8384\n",
            "Epoch 30/500\n",
            "7/7 [==============================] - 0s 6ms/step - loss: 0.4852 - accuracy: 0.8458 - val_loss: 0.5127 - val_accuracy: 0.8384\n",
            "Epoch 31/500\n",
            "7/7 [==============================] - 0s 6ms/step - loss: 0.4775 - accuracy: 0.8458 - val_loss: 0.5065 - val_accuracy: 0.8384\n",
            "Epoch 32/500\n",
            "7/7 [==============================] - 0s 10ms/step - loss: 0.4708 - accuracy: 0.8557 - val_loss: 0.5010 - val_accuracy: 0.8485\n",
            "Epoch 33/500\n",
            "7/7 [==============================] - 0s 9ms/step - loss: 0.4636 - accuracy: 0.8607 - val_loss: 0.4960 - val_accuracy: 0.8485\n",
            "Epoch 34/500\n",
            "7/7 [==============================] - 0s 7ms/step - loss: 0.4576 - accuracy: 0.8557 - val_loss: 0.4903 - val_accuracy: 0.8485\n",
            "Epoch 35/500\n",
            "7/7 [==============================] - 0s 10ms/step - loss: 0.4512 - accuracy: 0.8657 - val_loss: 0.4863 - val_accuracy: 0.8485\n",
            "Epoch 36/500\n",
            "7/7 [==============================] - 0s 9ms/step - loss: 0.4441 - accuracy: 0.8806 - val_loss: 0.4819 - val_accuracy: 0.8485\n",
            "Epoch 37/500\n",
            "7/7 [==============================] - 0s 7ms/step - loss: 0.4383 - accuracy: 0.8806 - val_loss: 0.4776 - val_accuracy: 0.8485\n",
            "Epoch 38/500\n",
            "7/7 [==============================] - 0s 9ms/step - loss: 0.4321 - accuracy: 0.8806 - val_loss: 0.4735 - val_accuracy: 0.8485\n",
            "Epoch 39/500\n",
            "7/7 [==============================] - 0s 7ms/step - loss: 0.4263 - accuracy: 0.8756 - val_loss: 0.4697 - val_accuracy: 0.8485\n",
            "Epoch 40/500\n",
            "7/7 [==============================] - 0s 6ms/step - loss: 0.4203 - accuracy: 0.8756 - val_loss: 0.4661 - val_accuracy: 0.8485\n",
            "Epoch 41/500\n",
            "7/7 [==============================] - 0s 9ms/step - loss: 0.4148 - accuracy: 0.8756 - val_loss: 0.4626 - val_accuracy: 0.8485\n",
            "Epoch 42/500\n",
            "7/7 [==============================] - 0s 10ms/step - loss: 0.4097 - accuracy: 0.8756 - val_loss: 0.4603 - val_accuracy: 0.8586\n",
            "Epoch 43/500\n",
            "7/7 [==============================] - 0s 7ms/step - loss: 0.4049 - accuracy: 0.8756 - val_loss: 0.4575 - val_accuracy: 0.8586\n",
            "Epoch 44/500\n",
            "7/7 [==============================] - 0s 9ms/step - loss: 0.4001 - accuracy: 0.8756 - val_loss: 0.4554 - val_accuracy: 0.8485\n",
            "Epoch 45/500\n",
            "7/7 [==============================] - 0s 6ms/step - loss: 0.3957 - accuracy: 0.8856 - val_loss: 0.4530 - val_accuracy: 0.8485\n",
            "Epoch 46/500\n",
            "7/7 [==============================] - 0s 6ms/step - loss: 0.3915 - accuracy: 0.8856 - val_loss: 0.4499 - val_accuracy: 0.8485\n",
            "Epoch 47/500\n",
            "7/7 [==============================] - 0s 9ms/step - loss: 0.3864 - accuracy: 0.8806 - val_loss: 0.4465 - val_accuracy: 0.8586\n",
            "Epoch 48/500\n",
            "7/7 [==============================] - 0s 6ms/step - loss: 0.3826 - accuracy: 0.8756 - val_loss: 0.4432 - val_accuracy: 0.8586\n",
            "Epoch 49/500\n",
            "7/7 [==============================] - 0s 7ms/step - loss: 0.3785 - accuracy: 0.8756 - val_loss: 0.4421 - val_accuracy: 0.8586\n",
            "Epoch 50/500\n",
            "7/7 [==============================] - 0s 11ms/step - loss: 0.3743 - accuracy: 0.8905 - val_loss: 0.4412 - val_accuracy: 0.8586\n",
            "Epoch 51/500\n",
            "7/7 [==============================] - 0s 7ms/step - loss: 0.3707 - accuracy: 0.8905 - val_loss: 0.4388 - val_accuracy: 0.8586\n",
            "Epoch 52/500\n",
            "7/7 [==============================] - 0s 7ms/step - loss: 0.3661 - accuracy: 0.8905 - val_loss: 0.4357 - val_accuracy: 0.8485\n",
            "Epoch 53/500\n",
            "7/7 [==============================] - 0s 7ms/step - loss: 0.3628 - accuracy: 0.8856 - val_loss: 0.4331 - val_accuracy: 0.8586\n",
            "Epoch 54/500\n",
            "7/7 [==============================] - 0s 8ms/step - loss: 0.3591 - accuracy: 0.8856 - val_loss: 0.4311 - val_accuracy: 0.8687\n",
            "Epoch 55/500\n",
            "7/7 [==============================] - 0s 8ms/step - loss: 0.3554 - accuracy: 0.8856 - val_loss: 0.4294 - val_accuracy: 0.8485\n",
            "Epoch 56/500\n",
            "7/7 [==============================] - 0s 6ms/step - loss: 0.3514 - accuracy: 0.8856 - val_loss: 0.4279 - val_accuracy: 0.8485\n",
            "Epoch 57/500\n",
            "7/7 [==============================] - 0s 8ms/step - loss: 0.3479 - accuracy: 0.8856 - val_loss: 0.4265 - val_accuracy: 0.8485\n",
            "Epoch 58/500\n",
            "7/7 [==============================] - 0s 7ms/step - loss: 0.3449 - accuracy: 0.8856 - val_loss: 0.4249 - val_accuracy: 0.8485\n",
            "Epoch 59/500\n",
            "7/7 [==============================] - 0s 7ms/step - loss: 0.3414 - accuracy: 0.8856 - val_loss: 0.4236 - val_accuracy: 0.8586\n",
            "Epoch 60/500\n",
            "7/7 [==============================] - 0s 6ms/step - loss: 0.3382 - accuracy: 0.8905 - val_loss: 0.4221 - val_accuracy: 0.8485\n",
            "Epoch 61/500\n",
            "7/7 [==============================] - 0s 7ms/step - loss: 0.3369 - accuracy: 0.8905 - val_loss: 0.4194 - val_accuracy: 0.8586\n",
            "Epoch 62/500\n",
            "7/7 [==============================] - 0s 10ms/step - loss: 0.3321 - accuracy: 0.8905 - val_loss: 0.4179 - val_accuracy: 0.8586\n",
            "Epoch 63/500\n",
            "7/7 [==============================] - 0s 8ms/step - loss: 0.3302 - accuracy: 0.8955 - val_loss: 0.4171 - val_accuracy: 0.8586\n",
            "Epoch 64/500\n",
            "7/7 [==============================] - 0s 7ms/step - loss: 0.3266 - accuracy: 0.8955 - val_loss: 0.4169 - val_accuracy: 0.8586\n",
            "Epoch 65/500\n",
            "7/7 [==============================] - 0s 7ms/step - loss: 0.3233 - accuracy: 0.8955 - val_loss: 0.4168 - val_accuracy: 0.8687\n",
            "Epoch 66/500\n",
            "7/7 [==============================] - 0s 8ms/step - loss: 0.3213 - accuracy: 0.8905 - val_loss: 0.4170 - val_accuracy: 0.8586\n",
            "Epoch 67/500\n",
            "7/7 [==============================] - 0s 9ms/step - loss: 0.3188 - accuracy: 0.8905 - val_loss: 0.4155 - val_accuracy: 0.8687\n",
            "Epoch 68/500\n",
            "7/7 [==============================] - 0s 9ms/step - loss: 0.3159 - accuracy: 0.8955 - val_loss: 0.4156 - val_accuracy: 0.8687\n",
            "Epoch 69/500\n",
            "7/7 [==============================] - 0s 10ms/step - loss: 0.3135 - accuracy: 0.8955 - val_loss: 0.4159 - val_accuracy: 0.8687\n",
            "Epoch 70/500\n",
            "7/7 [==============================] - 0s 7ms/step - loss: 0.3100 - accuracy: 0.9005 - val_loss: 0.4143 - val_accuracy: 0.8586\n",
            "Epoch 71/500\n",
            "7/7 [==============================] - 0s 10ms/step - loss: 0.3074 - accuracy: 0.9005 - val_loss: 0.4134 - val_accuracy: 0.8586\n",
            "Epoch 72/500\n",
            "7/7 [==============================] - 0s 6ms/step - loss: 0.3054 - accuracy: 0.9005 - val_loss: 0.4126 - val_accuracy: 0.8586\n",
            "Epoch 73/500\n",
            "7/7 [==============================] - 0s 7ms/step - loss: 0.3029 - accuracy: 0.9005 - val_loss: 0.4125 - val_accuracy: 0.8586\n",
            "Epoch 74/500\n",
            "7/7 [==============================] - 0s 7ms/step - loss: 0.3002 - accuracy: 0.8955 - val_loss: 0.4133 - val_accuracy: 0.8586\n",
            "Epoch 75/500\n",
            "7/7 [==============================] - 0s 6ms/step - loss: 0.2979 - accuracy: 0.9055 - val_loss: 0.4136 - val_accuracy: 0.8586\n",
            "Epoch 76/500\n",
            "7/7 [==============================] - 0s 6ms/step - loss: 0.2957 - accuracy: 0.9055 - val_loss: 0.4136 - val_accuracy: 0.8586\n",
            "Epoch 77/500\n",
            "7/7 [==============================] - 0s 7ms/step - loss: 0.2937 - accuracy: 0.9005 - val_loss: 0.4130 - val_accuracy: 0.8586\n",
            "Epoch 78/500\n",
            "7/7 [==============================] - 0s 7ms/step - loss: 0.2916 - accuracy: 0.9005 - val_loss: 0.4128 - val_accuracy: 0.8586\n",
            "Epoch 79/500\n",
            "7/7 [==============================] - 0s 6ms/step - loss: 0.2897 - accuracy: 0.9005 - val_loss: 0.4118 - val_accuracy: 0.8586\n",
            "Epoch 80/500\n",
            "7/7 [==============================] - 0s 7ms/step - loss: 0.2878 - accuracy: 0.9055 - val_loss: 0.4117 - val_accuracy: 0.8586\n",
            "Epoch 81/500\n",
            "7/7 [==============================] - 0s 6ms/step - loss: 0.2855 - accuracy: 0.9055 - val_loss: 0.4121 - val_accuracy: 0.8586\n",
            "Epoch 82/500\n",
            "7/7 [==============================] - 0s 7ms/step - loss: 0.2834 - accuracy: 0.9055 - val_loss: 0.4123 - val_accuracy: 0.8586\n",
            "Epoch 83/500\n",
            "7/7 [==============================] - 0s 10ms/step - loss: 0.2815 - accuracy: 0.9005 - val_loss: 0.4120 - val_accuracy: 0.8586\n",
            "Epoch 84/500\n",
            "7/7 [==============================] - 0s 6ms/step - loss: 0.2799 - accuracy: 0.9055 - val_loss: 0.4125 - val_accuracy: 0.8586\n",
            "Epoch 85/500\n",
            "7/7 [==============================] - 0s 11ms/step - loss: 0.2780 - accuracy: 0.9055 - val_loss: 0.4122 - val_accuracy: 0.8586\n",
            "Epoch 86/500\n",
            "7/7 [==============================] - 0s 7ms/step - loss: 0.2758 - accuracy: 0.9055 - val_loss: 0.4117 - val_accuracy: 0.8586\n",
            "Epoch 87/500\n",
            "7/7 [==============================] - 0s 7ms/step - loss: 0.2748 - accuracy: 0.9104 - val_loss: 0.4135 - val_accuracy: 0.8586\n",
            "Epoch 88/500\n",
            "7/7 [==============================] - 0s 9ms/step - loss: 0.2729 - accuracy: 0.9104 - val_loss: 0.4129 - val_accuracy: 0.8586\n",
            "Epoch 89/500\n",
            "7/7 [==============================] - 0s 8ms/step - loss: 0.2707 - accuracy: 0.9055 - val_loss: 0.4116 - val_accuracy: 0.8586\n",
            "Epoch 90/500\n",
            "7/7 [==============================] - 0s 6ms/step - loss: 0.2690 - accuracy: 0.9055 - val_loss: 0.4120 - val_accuracy: 0.8586\n",
            "Epoch 91/500\n",
            "7/7 [==============================] - 0s 9ms/step - loss: 0.2668 - accuracy: 0.9005 - val_loss: 0.4114 - val_accuracy: 0.8586\n",
            "Epoch 92/500\n",
            "7/7 [==============================] - 0s 7ms/step - loss: 0.2654 - accuracy: 0.9055 - val_loss: 0.4120 - val_accuracy: 0.8586\n",
            "Epoch 93/500\n",
            "7/7 [==============================] - 0s 9ms/step - loss: 0.2634 - accuracy: 0.9055 - val_loss: 0.4131 - val_accuracy: 0.8586\n",
            "Epoch 94/500\n",
            "7/7 [==============================] - 0s 9ms/step - loss: 0.2631 - accuracy: 0.9154 - val_loss: 0.4148 - val_accuracy: 0.8384\n",
            "Epoch 95/500\n",
            "7/7 [==============================] - 0s 7ms/step - loss: 0.2613 - accuracy: 0.9154 - val_loss: 0.4151 - val_accuracy: 0.8586\n",
            "Epoch 96/500\n",
            "7/7 [==============================] - 0s 7ms/step - loss: 0.2595 - accuracy: 0.9055 - val_loss: 0.4150 - val_accuracy: 0.8586\n",
            "Epoch 97/500\n",
            "7/7 [==============================] - 0s 7ms/step - loss: 0.2582 - accuracy: 0.9104 - val_loss: 0.4164 - val_accuracy: 0.8485\n",
            "Epoch 98/500\n",
            "7/7 [==============================] - 0s 7ms/step - loss: 0.2557 - accuracy: 0.9104 - val_loss: 0.4161 - val_accuracy: 0.8586\n",
            "Epoch 99/500\n",
            "7/7 [==============================] - 0s 9ms/step - loss: 0.2542 - accuracy: 0.9104 - val_loss: 0.4164 - val_accuracy: 0.8586\n",
            "Epoch 100/500\n",
            "7/7 [==============================] - 0s 9ms/step - loss: 0.2556 - accuracy: 0.9055 - val_loss: 0.4163 - val_accuracy: 0.8687\n",
            "Epoch 101/500\n",
            "7/7 [==============================] - 0s 8ms/step - loss: 0.2512 - accuracy: 0.9055 - val_loss: 0.4169 - val_accuracy: 0.8586\n",
            "Epoch 102/500\n",
            "7/7 [==============================] - 0s 8ms/step - loss: 0.2501 - accuracy: 0.9154 - val_loss: 0.4183 - val_accuracy: 0.8586\n",
            "Epoch 103/500\n",
            "7/7 [==============================] - 0s 7ms/step - loss: 0.2488 - accuracy: 0.9154 - val_loss: 0.4185 - val_accuracy: 0.8586\n",
            "Epoch 104/500\n",
            "7/7 [==============================] - 0s 7ms/step - loss: 0.2474 - accuracy: 0.9154 - val_loss: 0.4181 - val_accuracy: 0.8586\n",
            "Epoch 105/500\n",
            "7/7 [==============================] - 0s 7ms/step - loss: 0.2460 - accuracy: 0.9104 - val_loss: 0.4175 - val_accuracy: 0.8586\n",
            "Epoch 106/500\n",
            "7/7 [==============================] - 0s 7ms/step - loss: 0.2448 - accuracy: 0.9104 - val_loss: 0.4175 - val_accuracy: 0.8586\n",
            "Epoch 107/500\n",
            "7/7 [==============================] - 0s 11ms/step - loss: 0.2431 - accuracy: 0.9104 - val_loss: 0.4180 - val_accuracy: 0.8586\n",
            "Epoch 108/500\n",
            "7/7 [==============================] - 0s 7ms/step - loss: 0.2421 - accuracy: 0.9104 - val_loss: 0.4202 - val_accuracy: 0.8586\n",
            "Epoch 109/500\n",
            "7/7 [==============================] - 0s 10ms/step - loss: 0.2405 - accuracy: 0.9104 - val_loss: 0.4209 - val_accuracy: 0.8586\n",
            "Epoch 110/500\n",
            "7/7 [==============================] - 0s 7ms/step - loss: 0.2392 - accuracy: 0.9104 - val_loss: 0.4215 - val_accuracy: 0.8586\n",
            "Epoch 111/500\n",
            "7/7 [==============================] - 0s 7ms/step - loss: 0.2379 - accuracy: 0.9154 - val_loss: 0.4218 - val_accuracy: 0.8586\n",
            "Epoch 112/500\n",
            "7/7 [==============================] - 0s 6ms/step - loss: 0.2364 - accuracy: 0.9154 - val_loss: 0.4209 - val_accuracy: 0.8586\n",
            "Epoch 113/500\n",
            "7/7 [==============================] - 0s 9ms/step - loss: 0.2356 - accuracy: 0.9204 - val_loss: 0.4208 - val_accuracy: 0.8586\n",
            "Epoch 114/500\n",
            "7/7 [==============================] - 0s 6ms/step - loss: 0.2344 - accuracy: 0.9204 - val_loss: 0.4208 - val_accuracy: 0.8586\n",
            "Epoch 115/500\n",
            "7/7 [==============================] - 0s 7ms/step - loss: 0.2329 - accuracy: 0.9204 - val_loss: 0.4207 - val_accuracy: 0.8586\n",
            "Epoch 116/500\n",
            "7/7 [==============================] - 0s 10ms/step - loss: 0.2319 - accuracy: 0.9204 - val_loss: 0.4221 - val_accuracy: 0.8586\n"
          ]
        }
      ]
    },
    {
      "cell_type": "code",
      "source": [
        "losses = pd.DataFrame(model.history.history)"
      ],
      "metadata": {
        "id": "bmYuQCYOpV51"
      },
      "execution_count": null,
      "outputs": []
    },
    {
      "cell_type": "code",
      "source": [
        "losses[['loss','val_loss']].plot()"
      ],
      "metadata": {
        "colab": {
          "base_uri": "https://localhost:8080/",
          "height": 282
        },
        "id": "nk6LlwNlppKV",
        "outputId": "113c1e6b-35f9-4453-c886-603481a7f6ab"
      },
      "execution_count": null,
      "outputs": [
        {
          "output_type": "execute_result",
          "data": {
            "text/plain": [
              "<matplotlib.axes._subplots.AxesSubplot at 0x7fd094f87e20>"
            ]
          },
          "metadata": {},
          "execution_count": 65
        },
        {
          "output_type": "display_data",
          "data": {
            "text/plain": [
              "<Figure size 432x288 with 1 Axes>"
            ],
            "image/png": "[encoded data removed]"
          },
          "metadata": {
            "needs_background": "light"
          }
        }
      ]
    },
    {
      "cell_type": "code",
      "source": [
        "losses[['accuracy','val_accuracy']].plot()"
      ],
      "metadata": {
        "colab": {
          "base_uri": "https://localhost:8080/",
          "height": 282
        },
        "id": "G6Xs_AirqV1B",
        "outputId": "1dd49b28-c9b3-47ea-851a-0c863fa27de4"
      },
      "execution_count": null,
      "outputs": [
        {
          "output_type": "execute_result",
          "data": {
            "text/plain": [
              "<matplotlib.axes._subplots.AxesSubplot at 0x7fd095098d90>"
            ]
          },
          "metadata": {},
          "execution_count": 66
        },
        {
          "output_type": "display_data",
          "data": {
            "text/plain": [
              "<Figure size 432x288 with 1 Axes>"
            ],
            "image/png": "[encoded data removed]"
          },
          "metadata": {
            "needs_background": "light"
          }
        }
      ]
    },
    {
      "cell_type": "code",
      "source": [
        "preds = model.predict(X_test)"
      ],
      "metadata": {
        "colab": {
          "base_uri": "https://localhost:8080/"
        },
        "id": "Bpf_nxqPrOzM",
        "outputId": "64c57f28-e1be-49df-e608-26724786ca25"
      },
      "execution_count": null,
      "outputs": [
        {
          "output_type": "stream",
          "name": "stdout",
          "text": [
            "4/4 [==============================] - 0s 3ms/step\n"
          ]
        }
      ]
    },
    {
      "cell_type": "code",
      "source": [
        "preds = preds > 0.5"
      ],
      "metadata": {
        "id": "RE6yQqjxrVXu"
      },
      "execution_count": null,
      "outputs": []
    },
    {
      "cell_type": "code",
      "source": [
        "preds"
      ],
      "metadata": {
        "colab": {
          "base_uri": "https://localhost:8080/"
        },
        "id": "LR1ejtNsrWOF",
        "outputId": "e10ebb00-00f0-4bdb-de88-17a5374a17e3"
      },
      "execution_count": null,
      "outputs": [
        {
          "output_type": "execute_result",
          "data": {
            "text/plain": [
              "array([[False],\n",
              "       [ True],\n",
              "       [ True],\n",
              "       [False],\n",
              "       [ True],\n",
              "       [False],\n",
              "       [False],\n",
              "       [False],\n",
              "       [ True],\n",
              "       [False],\n",
              "       [ True],\n",
              "       [ True],\n",
              "       [False],\n",
              "       [ True],\n",
              "       [ True],\n",
              "       [ True],\n",
              "       [False],\n",
              "       [False],\n",
              "       [ True],\n",
              "       [ True],\n",
              "       [False],\n",
              "       [ True],\n",
              "       [ True],\n",
              "       [ True],\n",
              "       [ True],\n",
              "       [False],\n",
              "       [False],\n",
              "       [False],\n",
              "       [ True],\n",
              "       [ True],\n",
              "       [False],\n",
              "       [False],\n",
              "       [False],\n",
              "       [False],\n",
              "       [False],\n",
              "       [ True],\n",
              "       [False],\n",
              "       [False],\n",
              "       [False],\n",
              "       [False],\n",
              "       [False],\n",
              "       [ True],\n",
              "       [False],\n",
              "       [ True],\n",
              "       [ True],\n",
              "       [ True],\n",
              "       [ True],\n",
              "       [False],\n",
              "       [False],\n",
              "       [False],\n",
              "       [ True],\n",
              "       [ True],\n",
              "       [ True],\n",
              "       [ True],\n",
              "       [False],\n",
              "       [False],\n",
              "       [ True],\n",
              "       [False],\n",
              "       [False],\n",
              "       [False],\n",
              "       [False],\n",
              "       [False],\n",
              "       [False],\n",
              "       [ True],\n",
              "       [ True],\n",
              "       [False],\n",
              "       [False],\n",
              "       [False],\n",
              "       [False],\n",
              "       [ True],\n",
              "       [False],\n",
              "       [ True],\n",
              "       [False],\n",
              "       [ True],\n",
              "       [ True],\n",
              "       [False],\n",
              "       [ True],\n",
              "       [False],\n",
              "       [ True],\n",
              "       [False],\n",
              "       [False],\n",
              "       [ True],\n",
              "       [False],\n",
              "       [False],\n",
              "       [False],\n",
              "       [ True],\n",
              "       [False],\n",
              "       [False],\n",
              "       [False],\n",
              "       [False],\n",
              "       [False],\n",
              "       [False],\n",
              "       [ True],\n",
              "       [False],\n",
              "       [False],\n",
              "       [False],\n",
              "       [False],\n",
              "       [False],\n",
              "       [ True]])"
            ]
          },
          "metadata": {},
          "execution_count": 70
        }
      ]
    },
    {
      "cell_type": "code",
      "source": [
        "from sklearn.metrics import classification_report, confusion_matrix"
      ],
      "metadata": {
        "id": "L3mVpqNlra1Q"
      },
      "execution_count": null,
      "outputs": []
    },
    {
      "cell_type": "code",
      "source": [
        "print(classification_report(y_test,preds))"
      ],
      "metadata": {
        "colab": {
          "base_uri": "https://localhost:8080/"
        },
        "id": "sxFljKTlrfP4",
        "outputId": "e9a85550-0eb8-4740-c712-80aca0bee062"
      },
      "execution_count": null,
      "outputs": [
        {
          "output_type": "stream",
          "name": "stdout",
          "text": [
            "              precision    recall  f1-score   support\n",
            "\n",
            "           0       0.85      0.91      0.88        55\n",
            "           1       0.88      0.80      0.83        44\n",
            "\n",
            "    accuracy                           0.86        99\n",
            "   macro avg       0.86      0.85      0.86        99\n",
            "weighted avg       0.86      0.86      0.86        99\n",
            "\n"
          ]
        }
      ]
    },
    {
      "cell_type": "code",
      "source": [
        "print(confusion_matrix(y_test,preds))"
      ],
      "metadata": {
        "colab": {
          "base_uri": "https://localhost:8080/"
        },
        "id": "V39e1YCNrjbH",
        "outputId": "5d0fe856-edb6-4ee8-fa39-ddebf8d954f3"
      },
      "execution_count": null,
      "outputs": [
        {
          "output_type": "stream",
          "name": "stdout",
          "text": [
            "[[50  5]\n",
            " [ 9 35]]\n"
          ]
        }
      ]
    },
    {
      "cell_type": "code",
      "source": [
        "model.save('Symptoms_chronic_kidney_diseases_elderly.h5')"
      ],
      "metadata": {
        "id": "VcbU_PLCrpPq"
      },
      "execution_count": null,
      "outputs": []
    },
    {
      "cell_type": "markdown",
      "source": [
        "******"
      ],
      "metadata": {
        "id": "pWhvH_UCs-1A"
      }
    },
    {
      "cell_type": "markdown",
      "source": [
        "***Compilcation 1 : Anemia***"
      ],
      "metadata": {
        "id": "OlEmm3TatG54"
      }
    },
    {
      "cell_type": "code",
      "source": [
        "import pandas as pd\n",
        "import numpy as np\n",
        "import seaborn as sns\n",
        "import matplotlib.pyplot as plt\n",
        "%matplotlib inline"
      ],
      "metadata": {
        "id": "mADyDCk_sbWi"
      },
      "execution_count": null,
      "outputs": []
    },
    {
      "cell_type": "code",
      "source": [
        "!pip install kaggle --upgrade\n",
        "!mkdir -p ~/.kaggle/\n",
        "!cp kaggle.json ~/.kaggle/\n",
        "!chmod 600 ~/.kaggle/kaggle.json\n",
        "!kaggle datasets download -d biswaranjanrao/anemia-dataset"
      ],
      "metadata": {
        "colab": {
          "base_uri": "https://localhost:8080/"
        },
        "id": "KD_HKWq3tZcQ",
        "outputId": "3e5b31bc-f75e-4dc1-9fd4-a1ce015783f4"
      },
      "execution_count": null,
      "outputs": [
        {
          "output_type": "stream",
          "name": "stdout",
          "text": [
            "Looking in indexes: https://pypi.org/simple, https://us-python.pkg.dev/colab-wheels/public/simple/\n",
            "Requirement already satisfied: kaggle in /usr/local/lib/python3.9/dist-packages (1.5.13)\n",
            "Requirement already satisfied: requests in /usr/local/lib/python3.9/dist-packages (from kaggle) (2.27.1)\n",
            "Requirement already satisfied: certifi in /usr/local/lib/python3.9/dist-packages (from kaggle) (2022.12.7)\n",
            "Requirement already satisfied: urllib3 in /usr/local/lib/python3.9/dist-packages (from kaggle) (1.26.15)\n",
            "Requirement already satisfied: six>=1.10 in /usr/local/lib/python3.9/dist-packages (from kaggle) (1.16.0)\n",
            "Requirement already satisfied: python-dateutil in /usr/local/lib/python3.9/dist-packages (from kaggle) (2.8.2)\n",
            "Requirement already satisfied: tqdm in /usr/local/lib/python3.9/dist-packages (from kaggle) (4.65.0)\n",
            "Requirement already satisfied: python-slugify in /usr/local/lib/python3.9/dist-packages (from kaggle) (8.0.1)\n",
            "Requirement already satisfied: text-unidecode>=1.3 in /usr/local/lib/python3.9/dist-packages (from python-slugify->kaggle) (1.3)\n",
            "Requirement already satisfied: charset-normalizer~=2.0.0 in /usr/local/lib/python3.9/dist-packages (from requests->kaggle) (2.0.12)\n",
            "Requirement already satisfied: idna<4,>=2.5 in /usr/local/lib/python3.9/dist-packages (from requests->kaggle) (3.4)\n",
            "Downloading anemia-dataset.zip to /content\n",
            "  0% 0.00/4.61k [00:00<?, ?B/s]\n",
            "100% 4.61k/4.61k [00:00<00:00, 5.08MB/s]\n"
          ]
        }
      ]
    },
    {
      "cell_type": "code",
      "source": [
        "!unzip /content/anemia-dataset.zip"
      ],
      "metadata": {
        "colab": {
          "base_uri": "https://localhost:8080/"
        },
        "id": "88O_t6fMtgdp",
        "outputId": "19b64968-1404-4ed5-e308-1928470f88f4"
      },
      "execution_count": null,
      "outputs": [
        {
          "output_type": "stream",
          "name": "stdout",
          "text": [
            "Archive:  /content/anemia-dataset.zip\n",
            "  inflating: anemia.csv              \n"
          ]
        }
      ]
    },
    {
      "cell_type": "code",
      "source": [
        "df = pd.read_csv(\"/content/anemia.csv\")"
      ],
      "metadata": {
        "id": "leNk0MBFtooo"
      },
      "execution_count": null,
      "outputs": []
    },
    {
      "cell_type": "code",
      "source": [
        "df"
      ],
      "metadata": {
        "colab": {
          "base_uri": "https://localhost:8080/",
          "height": 424
        },
        "id": "82UOyyvxttTY",
        "outputId": "7f4619af-e471-4d51-e1a8-cf944a682545"
      },
      "execution_count": null,
      "outputs": [
        {
          "output_type": "execute_result",
          "data": {
            "text/plain": [
              "      Gender  Hemoglobin   MCH  MCHC   MCV  Result\n",
              "0          1        14.9  22.7  29.1  83.7       0\n",
              "1          0        15.9  25.4  28.3  72.0       0\n",
              "2          0         9.0  21.5  29.6  71.2       1\n",
              "3          0        14.9  16.0  31.4  87.5       0\n",
              "4          1        14.7  22.0  28.2  99.5       0\n",
              "...      ...         ...   ...   ...   ...     ...\n",
              "1416       0        10.6  25.4  28.2  82.9       1\n",
              "1417       1        12.1  28.3  30.4  86.9       1\n",
              "1418       1        13.1  17.7  28.1  80.7       1\n",
              "1419       0        14.3  16.2  29.5  95.2       0\n",
              "1420       0        11.8  21.2  28.4  98.1       1\n",
              "\n",
              "[1421 rows x 6 columns]"
            ],
            "text/html": [
              "\n",
              "  <div id=\"df-6fcf651d-51d9-4c44-b988-0482c48a50f7\">\n",
              "    <div class=\"colab-df-container\">\n",
              "      <div>\n",
              "<style scoped>\n",
              "    .dataframe tbody tr th:only-of-type {\n",
              "        vertical-align: middle;\n",
              "    }\n",
              "\n",
              "    .dataframe tbody tr th {\n",
              "        vertical-align: top;\n",
              "    }\n",
              "\n",
              "    .dataframe thead th {\n",
              "        text-align: right;\n",
              "    }\n",
              "</style>\n",
              "<table border=\"1\" class=\"dataframe\">\n",
              "  <thead>\n",
              "    <tr style=\"text-align: right;\">\n",
              "      <th></th>\n",
              "      <th>Gender</th>\n",
              "      <th>Hemoglobin</th>\n",
              "      <th>MCH</th>\n",
              "      <th>MCHC</th>\n",
              "      <th>MCV</th>\n",
              "      <th>Result</th>\n",
              "    </tr>\n",
              "  </thead>\n",
              "  <tbody>\n",
              "    <tr>\n",
              "      <th>0</th>\n",
              "      <td>1</td>\n",
              "      <td>14.9</td>\n",
              "      <td>22.7</td>\n",
              "      <td>29.1</td>\n",
              "      <td>83.7</td>\n",
              "      <td>0</td>\n",
              "    </tr>\n",
              "    <tr>\n",
              "      <th>1</th>\n",
              "      <td>0</td>\n",
              "      <td>15.9</td>\n",
              "      <td>25.4</td>\n",
              "      <td>28.3</td>\n",
              "      <td>72.0</td>\n",
              "      <td>0</td>\n",
              "    </tr>\n",
              "    <tr>\n",
              "      <th>2</th>\n",
              "      <td>0</td>\n",
              "      <td>9.0</td>\n",
              "      <td>21.5</td>\n",
              "      <td>29.6</td>\n",
              "      <td>71.2</td>\n",
              "      <td>1</td>\n",
              "    </tr>\n",
              "    <tr>\n",
              "      <th>3</th>\n",
              "      <td>0</td>\n",
              "      <td>14.9</td>\n",
              "      <td>16.0</td>\n",
              "      <td>31.4</td>\n",
              "      <td>87.5</td>\n",
              "      <td>0</td>\n",
              "    </tr>\n",
              "    <tr>\n",
              "      <th>4</th>\n",
              "      <td>1</td>\n",
              "      <td>14.7</td>\n",
              "      <td>22.0</td>\n",
              "      <td>28.2</td>\n",
              "      <td>99.5</td>\n",
              "      <td>0</td>\n",
              "    </tr>\n",
              "    <tr>\n",
              "      <th>...</th>\n",
              "      <td>...</td>\n",
              "      <td>...</td>\n",
              "      <td>...</td>\n",
              "      <td>...</td>\n",
              "      <td>...</td>\n",
              "      <td>...</td>\n",
              "    </tr>\n",
              "    <tr>\n",
              "      <th>1416</th>\n",
              "      <td>0</td>\n",
              "      <td>10.6</td>\n",
              "      <td>25.4</td>\n",
              "      <td>28.2</td>\n",
              "      <td>82.9</td>\n",
              "      <td>1</td>\n",
              "    </tr>\n",
              "    <tr>\n",
              "      <th>1417</th>\n",
              "      <td>1</td>\n",
              "      <td>12.1</td>\n",
              "      <td>28.3</td>\n",
              "      <td>30.4</td>\n",
              "      <td>86.9</td>\n",
              "      <td>1</td>\n",
              "    </tr>\n",
              "    <tr>\n",
              "      <th>1418</th>\n",
              "      <td>1</td>\n",
              "      <td>13.1</td>\n",
              "      <td>17.7</td>\n",
              "      <td>28.1</td>\n",
              "      <td>80.7</td>\n",
              "      <td>1</td>\n",
              "    </tr>\n",
              "    <tr>\n",
              "      <th>1419</th>\n",
              "      <td>0</td>\n",
              "      <td>14.3</td>\n",
              "      <td>16.2</td>\n",
              "      <td>29.5</td>\n",
              "      <td>95.2</td>\n",
              "      <td>0</td>\n",
              "    </tr>\n",
              "    <tr>\n",
              "      <th>1420</th>\n",
              "      <td>0</td>\n",
              "      <td>11.8</td>\n",
              "      <td>21.2</td>\n",
              "      <td>28.4</td>\n",
              "      <td>98.1</td>\n",
              "      <td>1</td>\n",
              "    </tr>\n",
              "  </tbody>\n",
              "</table>\n",
              "<p>1421 rows × 6 columns</p>\n",
              "</div>\n",
              "      <button class=\"colab-df-convert\" onclick=\"convertToInteractive('df-6fcf651d-51d9-4c44-b988-0482c48a50f7')\"\n",
              "              title=\"Convert this dataframe to an interactive table.\"\n",
              "              style=\"display:none;\">\n",
              "        \n",
              "  <svg xmlns=\"http://www.w3.org/2000/svg\" height=\"24px\"viewBox=\"0 0 24 24\"\n",
              "       width=\"24px\">\n",
              "    <path d=\"M0 0h24v24H0V0z\" fill=\"none\"/>\n",
              "    <path d=\"M18.56 5.44l.94 2.06.94-2.06 2.06-.94-2.06-.94-.94-2.06-.94 2.06-2.06.94zm-11 1L8.5 8.5l.94-2.06 2.06-.94-2.06-.94L8.5 2.5l-.94 2.06-2.06.94zm10 10l.94 2.06.94-2.06 2.06-.94-2.06-.94-.94-2.06-.94 2.06-2.06.94z\"/><path d=\"M17.41 7.96l-1.37-1.37c-.4-.4-.92-.59-1.43-.59-.52 0-1.04.2-1.43.59L10.3 9.45l-7.72 7.72c-.78.78-.78 2.05 0 2.83L4 21.41c.39.39.9.59 1.41.59.51 0 1.02-.2 1.41-.59l7.78-7.78 2.81-2.81c.8-.78.8-2.07 0-2.86zM5.41 20L4 18.59l7.72-7.72 1.47 1.35L5.41 20z\"/>\n",
              "  </svg>\n",
              "      </button>\n",
              "      \n",
              "  <style>\n",
              "    .colab-df-container {\n",
              "      display:flex;\n",
              "      flex-wrap:wrap;\n",
              "      gap: 12px;\n",
              "    }\n",
              "\n",
              "    .colab-df-convert {\n",
              "      background-color: #E8F0FE;\n",
              "      border: none;\n",
              "      border-radius: 50%;\n",
              "      cursor: pointer;\n",
              "      display: none;\n",
              "      fill: #1967D2;\n",
              "      height: 32px;\n",
              "      padding: 0 0 0 0;\n",
              "      width: 32px;\n",
              "    }\n",
              "\n",
              "    .colab-df-convert:hover {\n",
              "      background-color: #E2EBFA;\n",
              "      box-shadow: 0px 1px 2px rgba(60, 64, 67, 0.3), 0px 1px 3px 1px rgba(60, 64, 67, 0.15);\n",
              "      fill: #174EA6;\n",
              "    }\n",
              "\n",
              "    [theme=dark] .colab-df-convert {\n",
              "      background-color: #3B4455;\n",
              "      fill: #D2E3FC;\n",
              "    }\n",
              "\n",
              "    [theme=dark] .colab-df-convert:hover {\n",
              "      background-color: #434B5C;\n",
              "      box-shadow: 0px 1px 3px 1px rgba(0, 0, 0, 0.15);\n",
              "      filter: drop-shadow(0px 1px 2px rgba(0, 0, 0, 0.3));\n",
              "      fill: #FFFFFF;\n",
              "    }\n",
              "  </style>\n",
              "\n",
              "      <script>\n",
              "        const buttonEl =\n",
              "          document.querySelector('#df-6fcf651d-51d9-4c44-b988-0482c48a50f7 button.colab-df-convert');\n",
              "        buttonEl.style.display =\n",
              "          google.colab.kernel.accessAllowed ? 'block' : 'none';\n",
              "\n",
              "        async function convertToInteractive(key) {\n",
              "          const element = document.querySelector('#df-6fcf651d-51d9-4c44-b988-0482c48a50f7');\n",
              "          const dataTable =\n",
              "            await google.colab.kernel.invokeFunction('convertToInteractive',\n",
              "                                                     [key], {});\n",
              "          if (!dataTable) return;\n",
              "\n",
              "          const docLinkHtml = 'Like what you see? Visit the ' +\n",
              "            '<a target=\"_blank\" href=https://colab.research.google.com/notebooks/data_table.ipynb>data table notebook</a>'\n",
              "            + ' to learn more about interactive tables.';\n",
              "          element.innerHTML = '';\n",
              "          dataTable['output_type'] = 'display_data';\n",
              "          await google.colab.output.renderOutput(dataTable, element);\n",
              "          const docLink = document.createElement('div');\n",
              "          docLink.innerHTML = docLinkHtml;\n",
              "          element.appendChild(docLink);\n",
              "        }\n",
              "      </script>\n",
              "    </div>\n",
              "  </div>\n",
              "  "
            ]
          },
          "metadata": {},
          "execution_count": 124
        }
      ]
    },
    {
      "cell_type": "code",
      "source": [
        "df.isnull().sum()"
      ],
      "metadata": {
        "colab": {
          "base_uri": "https://localhost:8080/"
        },
        "id": "RHJk8Amwttrp",
        "outputId": "2d5504dc-fd16-4889-b8d8-3361fab6efd8"
      },
      "execution_count": null,
      "outputs": [
        {
          "output_type": "execute_result",
          "data": {
            "text/plain": [
              "Gender        0\n",
              "Hemoglobin    0\n",
              "MCH           0\n",
              "MCHC          0\n",
              "MCV           0\n",
              "Result        0\n",
              "dtype: int64"
            ]
          },
          "metadata": {},
          "execution_count": 125
        }
      ]
    },
    {
      "cell_type": "code",
      "source": [
        "from sklearn.preprocessing import MinMaxScaler"
      ],
      "metadata": {
        "id": "ieZaPTRDt257"
      },
      "execution_count": null,
      "outputs": []
    },
    {
      "cell_type": "code",
      "source": [
        "sc = MinMaxScaler()"
      ],
      "metadata": {
        "id": "vsDInMUpt914"
      },
      "execution_count": null,
      "outputs": []
    },
    {
      "cell_type": "code",
      "source": [
        "X = df.drop(columns=['Result'],axis=1)\n",
        "\n",
        "y = df['Result']"
      ],
      "metadata": {
        "id": "CzV41xwdt_Lk"
      },
      "execution_count": null,
      "outputs": []
    },
    {
      "cell_type": "code",
      "source": [
        "from sklearn.model_selection import train_test_split"
      ],
      "metadata": {
        "id": "Ng9lvHzMuFkR"
      },
      "execution_count": null,
      "outputs": []
    },
    {
      "cell_type": "code",
      "source": [
        "X_train, X_test, y_train, y_test = train_test_split(X, y, test_size=0.33, random_state=42)"
      ],
      "metadata": {
        "id": "6UJHrxiyuQZo"
      },
      "execution_count": null,
      "outputs": []
    },
    {
      "cell_type": "code",
      "source": [
        "X_train = sc.fit_transform(X_train)"
      ],
      "metadata": {
        "id": "pJka2ZpDuWGM"
      },
      "execution_count": null,
      "outputs": []
    },
    {
      "cell_type": "code",
      "source": [
        "X_test = sc.transform(X_test)"
      ],
      "metadata": {
        "id": "nOEUzuSVubuk"
      },
      "execution_count": null,
      "outputs": []
    },
    {
      "cell_type": "code",
      "source": [
        "from sklearn.metrics import auc, roc_curve"
      ],
      "metadata": {
        "id": "awti6RN8ueS2"
      },
      "execution_count": null,
      "outputs": []
    },
    {
      "cell_type": "code",
      "source": [
        "from sklearn.ensemble import RandomForestClassifier"
      ],
      "metadata": {
        "id": "F7eCvW1iuqA_"
      },
      "execution_count": null,
      "outputs": []
    },
    {
      "cell_type": "code",
      "source": [
        "def metrics(target, pred):\n",
        "  fpr,tpr,threshold = roc_curve(target,pred)\n",
        "  return auc(fpr,tpr)"
      ],
      "metadata": {
        "id": "yIpbfooUuuMp"
      },
      "execution_count": null,
      "outputs": []
    },
    {
      "cell_type": "code",
      "source": [
        "Rf = RandomForestClassifier()\n",
        "model_Rf = Rf.fit(X_train,y_train)\n",
        "\n",
        "preds = model_Rf.predict(X_test)"
      ],
      "metadata": {
        "id": "mXKkxqWFuzn8"
      },
      "execution_count": null,
      "outputs": []
    },
    {
      "cell_type": "code",
      "source": [
        "from sklearn.metrics import classification_report, confusion_matrix"
      ],
      "metadata": {
        "id": "ulJkpu8AvBFf"
      },
      "execution_count": null,
      "outputs": []
    },
    {
      "cell_type": "code",
      "source": [
        "print(classification_report(y_test,preds))  #Not Usable"
      ],
      "metadata": {
        "colab": {
          "base_uri": "https://localhost:8080/"
        },
        "id": "6DbJsvzKvFws",
        "outputId": "ccc6d10d-da18-4be3-d77b-e7304152bebe"
      },
      "execution_count": null,
      "outputs": [
        {
          "output_type": "stream",
          "name": "stdout",
          "text": [
            "              precision    recall  f1-score   support\n",
            "\n",
            "           0       1.00      1.00      1.00       266\n",
            "           1       1.00      1.00      1.00       203\n",
            "\n",
            "    accuracy                           1.00       469\n",
            "   macro avg       1.00      1.00      1.00       469\n",
            "weighted avg       1.00      1.00      1.00       469\n",
            "\n"
          ]
        }
      ]
    },
    {
      "cell_type": "code",
      "source": [
        "from sklearn.neighbors import KNeighborsClassifier"
      ],
      "metadata": {
        "id": "s3iyH2eZvRPd"
      },
      "execution_count": null,
      "outputs": []
    },
    {
      "cell_type": "code",
      "source": [
        "KNN = KNeighborsClassifier(n_neighbors=5)\n",
        "KNN_model1 = KNN.fit(X_train,y_train)\n",
        "pred = KNN_model1.predict(X_test)"
      ],
      "metadata": {
        "id": "LFndSOOPvgLp"
      },
      "execution_count": null,
      "outputs": []
    },
    {
      "cell_type": "code",
      "source": [
        "print(confusion_matrix(y_test,pred))\n",
        "\n",
        "print(classification_report(y_test,pred))"
      ],
      "metadata": {
        "colab": {
          "base_uri": "https://localhost:8080/"
        },
        "id": "7Ase-fs4viv4",
        "outputId": "57055734-8d1c-4795-9b1d-f435fc5e696f"
      },
      "execution_count": null,
      "outputs": [
        {
          "output_type": "stream",
          "name": "stdout",
          "text": [
            "[[249  17]\n",
            " [ 15 188]]\n",
            "              precision    recall  f1-score   support\n",
            "\n",
            "           0       0.94      0.94      0.94       266\n",
            "           1       0.92      0.93      0.92       203\n",
            "\n",
            "    accuracy                           0.93       469\n",
            "   macro avg       0.93      0.93      0.93       469\n",
            "weighted avg       0.93      0.93      0.93       469\n",
            "\n"
          ]
        }
      ]
    },
    {
      "cell_type": "code",
      "source": [
        "KNN = KNeighborsClassifier(n_neighbors=1)\n",
        "KNN_model = KNN.fit(X_train,y_train)\n",
        "pred = KNN_model.predict(X_test)"
      ],
      "metadata": {
        "id": "SCmf2-68vm9N"
      },
      "execution_count": null,
      "outputs": []
    },
    {
      "cell_type": "code",
      "source": [
        "print(confusion_matrix(y_test,pred))\n",
        "\n",
        "print(classification_report(y_test,pred))"
      ],
      "metadata": {
        "colab": {
          "base_uri": "https://localhost:8080/"
        },
        "id": "HLdABqSNvtZY",
        "outputId": "7fe8991e-9c1c-4301-8994-6fd66a5b8ab7"
      },
      "execution_count": null,
      "outputs": [
        {
          "output_type": "stream",
          "name": "stdout",
          "text": [
            "[[260   6]\n",
            " [  5 198]]\n",
            "              precision    recall  f1-score   support\n",
            "\n",
            "           0       0.98      0.98      0.98       266\n",
            "           1       0.97      0.98      0.97       203\n",
            "\n",
            "    accuracy                           0.98       469\n",
            "   macro avg       0.98      0.98      0.98       469\n",
            "weighted avg       0.98      0.98      0.98       469\n",
            "\n"
          ]
        }
      ]
    },
    {
      "cell_type": "code",
      "source": [
        "import pickle\n",
        "\n",
        "kNN = KNeighborsClassifier(n_neighbors=1)\n",
        "kNN.fit(X_train,y_train)\n",
        "\n",
        "# Its important to use binary mode\n",
        "knnPickle = open('KNN_model_anemia', 'wb')\n",
        "\n",
        "# source, destination\n",
        "pickle.dump(KNN, knnPickle)\n"
      ],
      "metadata": {
        "id": "w8PxpL9_vugg"
      },
      "execution_count": null,
      "outputs": []
    },
    {
      "cell_type": "code",
      "source": [
        "model = pickle.load(open('KNN_model_anemia', 'rb'))"
      ],
      "metadata": {
        "id": "bFDpVmmM7T4W"
      },
      "execution_count": null,
      "outputs": []
    },
    {
      "cell_type": "code",
      "source": [
        "df.columns"
      ],
      "metadata": {
        "colab": {
          "base_uri": "https://localhost:8080/"
        },
        "id": "XNJ3z06W7yVp",
        "outputId": "38cf19e6-4dba-4001-c343-c0c0fe02fdb9"
      },
      "execution_count": null,
      "outputs": [
        {
          "output_type": "execute_result",
          "data": {
            "text/plain": [
              "Index(['Gender', 'Hemoglobin', 'MCH', 'MCHC', 'MCV', 'Result'], dtype='object')"
            ]
          },
          "metadata": {},
          "execution_count": 154
        }
      ]
    },
    {
      "cell_type": "code",
      "source": [
        "print('Enter 1 for Yes & 0 for No')\n",
        "print(\"Enter the values as they are if required\")\n",
        "\n",
        "features = []\n",
        "\n",
        "list_ = []\n",
        "\n",
        "columns = ['Gender', 'Hemoglobin', 'MCH', 'MCHC', 'MCV']\n",
        "\n",
        "for i in columns:\n",
        "    d = float(input('{} :'.format(i)))\n",
        "    list_.append(d)\n",
        "\n",
        "features = [list_]\n",
        "\n",
        "features = pd.DataFrame(features)\n",
        "\n",
        "predictions = model.predict(features)\n",
        "\n",
        "if predictions > 0.5:\n",
        "    print('Probable Anemia')\n",
        "else:\n",
        "    print('Probable No Anemia')"
      ],
      "metadata": {
        "colab": {
          "base_uri": "https://localhost:8080/"
        },
        "id": "YwhxCpPp7ffO",
        "outputId": "ee23e556-a29d-4253-a3fa-50a238bf5079"
      },
      "execution_count": null,
      "outputs": [
        {
          "output_type": "stream",
          "name": "stdout",
          "text": [
            "Enter 1 for Yes & 0 for No\n",
            "Enter the values as they are if required\n",
            "Gender :1\n",
            "Hemoglobin :11.1\n",
            "MCH :22.3\n",
            "MCHC :26\n",
            "MCV :84\n",
            "Probable Anemia\n"
          ]
        }
      ]
    },
    {
      "cell_type": "code",
      "source": [],
      "metadata": {
        "id": "4e5Ua8RX7f2d"
      },
      "execution_count": null,
      "outputs": []
    },
    {
      "cell_type": "code",
      "source": [],
      "metadata": {
        "id": "NUFhJlRLccua"
      },
      "execution_count": null,
      "outputs": []
    }
  ]
}